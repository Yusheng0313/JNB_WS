{
 "cells": [
  {
   "cell_type": "code",
   "execution_count": 1,
   "metadata": {},
   "outputs": [
    {
     "name": "stdout",
     "output_type": "stream",
     "text": [
      "💚禅城区: 二手房源共计「6827」套\n"
     ]
    },
    {
     "name": "stderr",
     "output_type": "stream",
     "text": [
      "禅城区: 100%|███████████████████████████████████████████████████████████████████████████| 100/100 [01:44<00:00,  1.12s/it]\n"
     ]
    },
    {
     "name": "stdout",
     "output_type": "stream",
     "text": [
      "💚南海区: 二手房源共计「13692」套\n"
     ]
    },
    {
     "name": "stderr",
     "output_type": "stream",
     "text": [
      "南海区: 100%|███████████████████████████████████████████████████████████████████████████| 100/100 [01:59<00:00,  1.30s/it]\n"
     ]
    },
    {
     "name": "stdout",
     "output_type": "stream",
     "text": [
      "💚顺德区: 二手房源共计「9127」套\n"
     ]
    },
    {
     "name": "stderr",
     "output_type": "stream",
     "text": [
      "顺德区: 100%|███████████████████████████████████████████████████████████████████████████| 100/100 [02:11<00:00,  1.40s/it]\n"
     ]
    },
    {
     "name": "stdout",
     "output_type": "stream",
     "text": [
      "💚三水区: 二手房源共计「2316」套\n"
     ]
    },
    {
     "name": "stderr",
     "output_type": "stream",
     "text": [
      "三水区: 100%|█████████████████████████████████████████████████████████████████████████████| 78/78 [01:42<00:00,  1.17s/it]\n"
     ]
    },
    {
     "name": "stdout",
     "output_type": "stream",
     "text": [
      "💚高明区: 二手房源共计「557」套\n"
     ]
    },
    {
     "name": "stderr",
     "output_type": "stream",
     "text": [
      "高明区: 100%|█████████████████████████████████████████████████████████████████████████████| 19/19 [00:26<00:00,  1.33s/it]\n"
     ]
    },
    {
     "name": "stdout",
     "output_type": "stream",
     "text": [
      "  area                      title  community position    tax  total_price  \\\n",
      "0  禅城区  急售！保利香槟花园 满五唯一 精装修刚需轻奢大三房     保利香槟花园       张槎   None        148.0   \n",
      "1  禅城区            满5唯一税费少 小区环境好又靓       翠影华庭       张槎  房本满五年         70.0   \n",
      "2  禅城区     东海银湾精装3房 满五年税少 总价低 快上车     长信东海银湾       朝安   None        170.0   \n",
      "3  禅城区        智博丽海花园 高楼层东南向 带装修出售  联诚·智博丽海花园       石湾   None        152.0   \n",
      "4  禅城区       东南向精致3房， 安静望花园  随时看房       时代年华       澜石   None        160.0   \n",
      "\n",
      "   unit_price hourseType  hourseSize direction fitment  \n",
      "0     16323.0       3室2厅       90.67         北      精装  \n",
      "1     10494.0       2室1厅       66.71         南      简装  \n",
      "2     20988.0       3室1厅       81.00         北      精装  \n",
      "3     16766.0       3室2厅       90.66        东南      精装  \n",
      "4     19278.0       3室1厅       83.00         南      精装  \n"
     ]
    }
   ],
   "source": [
    "# -*- coding: utf-8 -*-\n",
    "\"\"\"\n",
    "Created on Sun Apr  05 20:20:02 2020\n",
    "爬虫脚本：佛山链家房源信息\n",
    "@author: yihao.he\n",
    "\"\"\"\n",
    "from bs4 import BeautifulSoup  \n",
    "import pandas as pd\n",
    "from tqdm import tqdm\n",
    "import math\n",
    "import requests  \n",
    "import lxml\n",
    "import re\n",
    "import time\n",
    "\n",
    "\n",
    "\n",
    "\n",
    "area_dic = {'禅城区':'chancheng',\n",
    "            '南海区':'nanhai',\n",
    "            '顺德区':'shunde',\n",
    "            '三水区':'sanshui1',\n",
    "            '高明区':'gaoming1'}\n",
    "\n",
    "\n",
    "# 加个header以示尊敬\n",
    "headers = {'User-Agent': 'Mozilla/5.0 (Windows NT 10.0; Win64; x64) AppleWebKit/537.36 (KHTML, like Gecko) Chrome/65.0.3325.146 Safari/537.36',\n",
    "           'Referer': 'https://fs.lianjia.com/ershoufang/'}\n",
    "\n",
    "# 新建一个会话\n",
    "sess = requests.session()\n",
    "sess.get('https://fs.lianjia.com/ershoufang/', headers=headers)\n",
    "\n",
    "# url示例：https://fs.lianjia.com/ershoufang/luohuqu/pg2/\n",
    "url = 'https://fs.lianjia.com/ershoufang/{}/pg{}/'\n",
    "\n",
    "\n",
    "\n",
    "\n",
    "# 当正则表达式匹配失败时，返回默认值（errif）\n",
    "def re_match(re_pattern, string, errif=None):\n",
    "    try:\n",
    "        return re.findall(re_pattern, string)[0].strip()\n",
    "    except IndexError:\n",
    "        return errif\n",
    "\n",
    "\n",
    "\n",
    "# 新建一个DataFrame存储信息\n",
    "data = pd.DataFrame()\n",
    "\n",
    "for key_, value_ in area_dic.items():\n",
    "    # 获取该行政区下房源记录数\n",
    "    start_url = 'https://fs.lianjia.com/ershoufang/{}/'.format(value_)\n",
    "    html = sess.get(start_url).text\n",
    "    house_num = re.findall('共找到<span> (.*?) </span>套.*二手房', html)[0].strip()\n",
    "    print('💚{}: 二手房源共计「{}」套'.format(key_, house_num))\n",
    "    time.sleep(1)\n",
    "    # 页面限制🚫 每个行政区只能获取最多100页共计3000条房源信息\n",
    "    total_page = int(math.ceil(min(3000, int(house_num)) / 30.0))\n",
    "    for i in tqdm(range(total_page), desc=key_):\n",
    "        html = sess.get(url.format(value_, i+1)).text\n",
    "        soup = BeautifulSoup(html, 'lxml')\n",
    "        info_collect = soup.find_all(class_=\"info clear\")\n",
    "        \n",
    "        for info in info_collect:\n",
    "            info_dic = {}\n",
    "            # 行政区\n",
    "            info_dic['area'] = key_\n",
    "            # 房源的标题\n",
    "            info_dic['title'] = re_match('target=\"_blank\">(.*?)</a><!--', str(info))\n",
    "            # 小区名\n",
    "            info_dic['community'] = re_match('xiaoqu.*?target=\"_blank\">(.*?)</a>', str(info))\n",
    "            # 位置\n",
    "            info_dic['position'] = re_match('<a href.*?target=\"_blank\">(.*?)</a>.*?class=\"address\">', str(info))\n",
    "            # 税相关，如房本满5年\n",
    "            info_dic['tax'] = re_match('class=\"taxfree\">(.*?)</span>', str(info))\n",
    "            # 总价\n",
    "            info_dic['total_price'] = float(re_match('class=\"totalPrice\"><span>(.*?)</span>万', str(info)))\n",
    "            # 单价\n",
    "            info_dic['unit_price'] = float(re_match('data-price=\"(.*?)\"', str(info)))\n",
    "            \n",
    "            # 匹配房源标签信息，通过|切割\n",
    "            # 包括面积，朝向，装修等信息\n",
    "            icons = re.findall('class=\"houseIcon\"></span>(.*?)</div>', str(info))[0].strip().split('|')\n",
    "            info_dic['hourseType'] = icons[0].strip()\n",
    "            info_dic['hourseSize'] = float(icons[1].replace('平米', ''))\n",
    "            info_dic['direction'] = icons[2].strip()\n",
    "            info_dic['fitment'] = icons[3].strip()\n",
    "            \n",
    "            # 存入DataFrame\n",
    "            if data.empty:\n",
    "                data = pd.DataFrame(info_dic,index=[0])\n",
    "            else:\n",
    "                data = data.append(info_dic,ignore_index=True)\n",
    "\n",
    "\n",
    "\n",
    "\n",
    "# 去掉一条面积10000+平米的房源记录\n",
    "data = data[data['hourseSize'] < 10000]\n",
    "print(data.head())\n",
    "\n"
   ]
  },
  {
   "cell_type": "code",
   "execution_count": 2,
   "metadata": {
    "collapsed": true
   },
   "outputs": [],
   "source": [
    "#保存到 CSV\n",
    "data.to_csv('.\\\\JN_DataWarehouse\\\\foshan_lianjiafangyuan\\\\lianjia-foshanfangyuan.csv')"
   ]
  },
  {
   "cell_type": "code",
   "execution_count": null,
   "metadata": {
    "collapsed": true
   },
   "outputs": [],
   "source": []
  }
 ],
 "metadata": {
  "kernelspec": {
   "display_name": "Python 3",
   "language": "python",
   "name": "python3"
  },
  "language_info": {
   "codemirror_mode": {
    "name": "ipython",
    "version": 3
   },
   "file_extension": ".py",
   "mimetype": "text/x-python",
   "name": "python",
   "nbconvert_exporter": "python",
   "pygments_lexer": "ipython3",
   "version": "3.6.2"
  }
 },
 "nbformat": 4,
 "nbformat_minor": 2
}
