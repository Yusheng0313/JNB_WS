{
 "cells": [
  {
   "cell_type": "code",
   "execution_count": 1,
   "metadata": {},
   "outputs": [
    {
     "data": {
      "text/html": [
       "        <script type=\"text/javascript\">\n",
       "        window.PlotlyConfig = {MathJaxConfig: 'local'};\n",
       "        if (window.MathJax) {MathJax.Hub.Config({SVG: {font: \"STIX-Web\"}});}\n",
       "        if (typeof require !== 'undefined') {\n",
       "        require.undef(\"plotly\");\n",
       "        requirejs.config({\n",
       "            paths: {\n",
       "                'plotly': ['https://cdn.plot.ly/plotly-latest.min']\n",
       "            }\n",
       "        });\n",
       "        require(['plotly'], function(Plotly) {\n",
       "            window._Plotly = Plotly;\n",
       "        });\n",
       "        }\n",
       "        </script>\n",
       "        "
      ]
     },
     "metadata": {},
     "output_type": "display_data"
    }
   ],
   "source": [
    "import talib                   #量化金融技术分析库\n",
    "import os\n",
    "import pandas as pd\n",
    "import numpy as np\n",
    "import cufflinks as cf\n",
    "import chart_studio.plotly as py\n",
    "import plotly.graph_objs as go\n",
    "import plotly.offline as pyoff\n",
    "import plotly.io as pio\n",
    "import plotly\n",
    "import datetime\n",
    "import time"
   ]
  },
  {
   "cell_type": "code",
   "execution_count": 2,
   "metadata": {},
   "outputs": [],
   "source": [
    "start = time.time()"
   ]
  },
  {
   "cell_type": "code",
   "execution_count": 3,
   "metadata": {},
   "outputs": [],
   "source": [
    "# 插入py文件，调用里面的函数\n",
    "from Stock_Interface import cli_fiveLine\n",
    "from Stock_Interface import read_finance_year\n",
    "from Stock_Interface.read_finance_year import read_stock, read_newyear"
   ]
  },
  {
   "cell_type": "code",
   "execution_count": 4,
   "metadata": {},
   "outputs": [],
   "source": [
    "# 读取year\n",
    "def read_stock_list():\n",
    "    df = pd.read_excel('../JN_DataWarehouse/stock_analysis/TuShare/stock_list.xls', index_col=False , converters = {'symbol':str})\n",
    "    del df['Unnamed: 0']\n",
    "    \n",
    "    return df"
   ]
  },
  {
   "cell_type": "code",
   "execution_count": 5,
   "metadata": {},
   "outputs": [],
   "source": [
    "df_stock_list = read_stock_list()"
   ]
  },
  {
   "cell_type": "code",
   "execution_count": 6,
   "metadata": {},
   "outputs": [
    {
     "data": {
      "text/html": [
       "<div>\n",
       "<style scoped>\n",
       "    .dataframe tbody tr th:only-of-type {\n",
       "        vertical-align: middle;\n",
       "    }\n",
       "\n",
       "    .dataframe tbody tr th {\n",
       "        vertical-align: top;\n",
       "    }\n",
       "\n",
       "    .dataframe thead th {\n",
       "        text-align: right;\n",
       "    }\n",
       "</style>\n",
       "<table border=\"1\" class=\"dataframe\">\n",
       "  <thead>\n",
       "    <tr style=\"text-align: right;\">\n",
       "      <th></th>\n",
       "      <th>ts_code</th>\n",
       "      <th>symbol</th>\n",
       "    </tr>\n",
       "  </thead>\n",
       "  <tbody>\n",
       "    <tr>\n",
       "      <th>0</th>\n",
       "      <td>000001.SZ</td>\n",
       "      <td>000001</td>\n",
       "    </tr>\n",
       "    <tr>\n",
       "      <th>1</th>\n",
       "      <td>000002.SZ</td>\n",
       "      <td>000002</td>\n",
       "    </tr>\n",
       "    <tr>\n",
       "      <th>2</th>\n",
       "      <td>000004.SZ</td>\n",
       "      <td>000004</td>\n",
       "    </tr>\n",
       "    <tr>\n",
       "      <th>3</th>\n",
       "      <td>000005.SZ</td>\n",
       "      <td>000005</td>\n",
       "    </tr>\n",
       "    <tr>\n",
       "      <th>4</th>\n",
       "      <td>000006.SZ</td>\n",
       "      <td>000006</td>\n",
       "    </tr>\n",
       "    <tr>\n",
       "      <th>...</th>\n",
       "      <td>...</td>\n",
       "      <td>...</td>\n",
       "    </tr>\n",
       "    <tr>\n",
       "      <th>1443</th>\n",
       "      <td>003028.SZ</td>\n",
       "      <td>003028</td>\n",
       "    </tr>\n",
       "    <tr>\n",
       "      <th>1444</th>\n",
       "      <td>003029.SZ</td>\n",
       "      <td>003029</td>\n",
       "    </tr>\n",
       "    <tr>\n",
       "      <th>1445</th>\n",
       "      <td>003030.SZ</td>\n",
       "      <td>003030</td>\n",
       "    </tr>\n",
       "    <tr>\n",
       "      <th>1446</th>\n",
       "      <td>003031.SZ</td>\n",
       "      <td>003031</td>\n",
       "    </tr>\n",
       "    <tr>\n",
       "      <th>1447</th>\n",
       "      <td>003816.SZ</td>\n",
       "      <td>003816</td>\n",
       "    </tr>\n",
       "  </tbody>\n",
       "</table>\n",
       "<p>1448 rows × 2 columns</p>\n",
       "</div>"
      ],
      "text/plain": [
       "        ts_code  symbol\n",
       "0     000001.SZ  000001\n",
       "1     000002.SZ  000002\n",
       "2     000004.SZ  000004\n",
       "3     000005.SZ  000005\n",
       "4     000006.SZ  000006\n",
       "...         ...     ...\n",
       "1443  003028.SZ  003028\n",
       "1444  003029.SZ  003029\n",
       "1445  003030.SZ  003030\n",
       "1446  003031.SZ  003031\n",
       "1447  003816.SZ  003816\n",
       "\n",
       "[1448 rows x 2 columns]"
      ]
     },
     "execution_count": 6,
     "metadata": {},
     "output_type": "execute_result"
    }
   ],
   "source": [
    "df_symbol = df_stock_list.loc[df_stock_list[\"ts_code\"].str.startswith('00') \n",
    "                              & (df_stock_list[\"ts_code\"] != ('605258.SH'))\n",
    "                              & (df_stock_list[\"ts_code\"] != ('300911.SZ'))\n",
    "                              ,['ts_code','symbol']]\n",
    "df_symbol"
   ]
  },
  {
   "cell_type": "code",
   "execution_count": 7,
   "metadata": {},
   "outputs": [],
   "source": [
    "df_result = pd.DataFrame()\n",
    "df_all = read_newyear()\n",
    "\n",
    "for stock_code in df_symbol['symbol'].values.astype('str'):\n",
    "    #stock_code = '601939'\n",
    "    today = datetime.date.today()                #datetime.date类型日期  today = datetime.date(2019,11,15)\n",
    "    today = today -  datetime.timedelta(365*0)\n",
    "    A3yday = today - datetime.timedelta(365*3.5)\n",
    "    startDate = A3yday.strftime('%Y%m%d')        #字符串型日期\n",
    "    endDate = today.strftime('%Y%m%d')\n",
    "    from Stock_Interface import read_finance_year   \n",
    "    stock_name =  read_finance_year.read_companyInfo(stock_code)\n",
    "\n",
    "    df = read_stock( df_all, stock_code, startDate, endDate )\n",
    "    df_mode = cli_fiveLine.build_mode(df, stock_code, stock_name, startDate, endDate)\n",
    "    df_result = df_result.append(df_mode.tail(1), ignore_index=True)\n",
    "    #fig = cli_fiveLine.show_save_image(df_mode, stock_code, stock_name)\n",
    "\n",
    "df_result = df_result.to_excel('../JN_DataWarehouse/stock_analysis/tmp/BAT_FiveLine_0data.xls')"
   ]
  },
  {
   "cell_type": "code",
   "execution_count": 8,
   "metadata": {},
   "outputs": [],
   "source": [
    "df_result"
   ]
  },
  {
   "cell_type": "code",
   "execution_count": 9,
   "metadata": {},
   "outputs": [
    {
     "name": "stdout",
     "output_type": "stream",
     "text": [
      "finish:8438.7378\n"
     ]
    }
   ],
   "source": [
    "print('finish:%.4f'%(time.time()-start))"
   ]
  },
  {
   "cell_type": "code",
   "execution_count": 10,
   "metadata": {},
   "outputs": [
    {
     "data": {
      "text/plain": [
       "'003816'"
      ]
     },
     "execution_count": 10,
     "metadata": {},
     "output_type": "execute_result"
    }
   ],
   "source": [
    "stock_code"
   ]
  },
  {
   "cell_type": "code",
   "execution_count": null,
   "metadata": {},
   "outputs": [],
   "source": []
  }
 ],
 "metadata": {
  "kernelspec": {
   "display_name": "Python 3",
   "language": "python",
   "name": "python3"
  },
  "language_info": {
   "codemirror_mode": {
    "name": "ipython",
    "version": 3
   },
   "file_extension": ".py",
   "mimetype": "text/x-python",
   "name": "python",
   "nbconvert_exporter": "python",
   "pygments_lexer": "ipython3",
   "version": "3.8.3"
  }
 },
 "nbformat": 4,
 "nbformat_minor": 4
}
