{
 "cells": [
  {
   "cell_type": "code",
   "execution_count": 1,
   "metadata": {
    "collapsed": true
   },
   "outputs": [],
   "source": [
    "import pandas as pd\n",
    "from pandas import DataFrame\n",
    "from pandas import concat\n",
    "from pandas import merge\n",
    "import numpy as np\n",
    "import matplotlib.pyplot as plt\n",
    "import seaborn as sns\n",
    "import os, sys"
   ]
  },
  {
   "cell_type": "code",
   "execution_count": 2,
   "metadata": {
    "collapsed": true
   },
   "outputs": [],
   "source": [
    "# 读取股票数据\n",
    "def read_data(stock_name, flag):\n",
    "    df = pd.read_csv('..\\\\JN_DataWarehouse\\\\stock_analysis\\\\'+stock_name, index_col=False)\n",
    "    return df"
   ]
  },
  {
   "cell_type": "code",
   "execution_count": 3,
   "metadata": {
    "collapsed": true
   },
   "outputs": [],
   "source": [
    "# 读取概念分类\n",
    "def read_typeinfo(_name ):\n",
    "    df = pd.read_excel('..\\\\JN_DataWarehouse\\\\stock_analysis\\\\概念分类\\\\' + _name, index_col=False)\n",
    "    return df"
   ]
  },
  {
   "cell_type": "code",
   "execution_count": 4,
   "metadata": {
    "collapsed": true
   },
   "outputs": [],
   "source": [
    "# 读取股票信息\n",
    "def read_stockinfo(_name ):\n",
    "    df = pd.read_excel('..\\\\JN_DataWarehouse\\\\stock_analysis\\\\股票信息\\\\' + _name, index_col=False)\n",
    "    return df"
   ]
  },
  {
   "cell_type": "code",
   "execution_count": 11,
   "metadata": {},
   "outputs": [],
   "source": [
    " df = pd.read_excel('..\\\\JN_DataWarehouse\\\\stock_analysis\\\\stockinfo\\\\资金流向.xlsx')"
   ]
  },
  {
   "cell_type": "code",
   "execution_count": 12,
   "metadata": {},
   "outputs": [
    {
     "name": "stdout",
     "output_type": "stream",
     "text": [
      "<class 'pandas.core.frame.DataFrame'>\n",
      "RangeIndex: 3988 entries, 0 to 3987\n",
      "Data columns (total 23 columns):\n",
      " #   Column   Non-Null Count  Dtype \n",
      "---  ------   --------------  ----- \n",
      " 0   序        3988 non-null   int64 \n",
      " 1   代码       3988 non-null   int64 \n",
      " 2   名称       3988 non-null   object\n",
      " 3   最新       3988 non-null   object\n",
      " 4   涨幅%      3988 non-null   object\n",
      " 5   主力净流入    3988 non-null   object\n",
      " 6   集合竞价     3988 non-null   object\n",
      " 7   超大单流入    3988 non-null   object\n",
      " 8   超大单流出    3988 non-null   object\n",
      " 9   超大单净额    3988 non-null   object\n",
      " 10  超大单净占比%  3988 non-null   object\n",
      " 11  大单流入     3988 non-null   object\n",
      " 12  大单流出     3988 non-null   object\n",
      " 13  大单净额     3988 non-null   object\n",
      " 14  大单净占比%   3988 non-null   object\n",
      " 15  中单流入     3988 non-null   object\n",
      " 16  中单流出     3988 non-null   object\n",
      " 17  中单净额     3988 non-null   object\n",
      " 18  中单净占比%   3988 non-null   object\n",
      " 19  小单流入     3988 non-null   object\n",
      " 20  小单流出     3988 non-null   object\n",
      " 21  小单净额     3988 non-null   object\n",
      " 22  小单净占比%   3988 non-null   object\n",
      "dtypes: int64(2), object(21)\n",
      "memory usage: 716.7+ KB\n"
     ]
    }
   ],
   "source": [
    "df.info()"
   ]
  },
  {
   "cell_type": "code",
   "execution_count": 16,
   "metadata": {},
   "outputs": [
    {
     "name": "stdout",
     "output_type": "stream",
     "text": [
      "<class 'pandas.core.frame.DataFrame'>\n",
      "RangeIndex: 35 entries, 0 to 34\n",
      "Data columns (total 4 columns):\n",
      " #   Column  Non-Null Count  Dtype  \n",
      "---  ------  --------------  -----  \n",
      " 0   序       35 non-null     int64  \n",
      " 1   代码      35 non-null     object \n",
      " 2   名称      35 non-null     object \n",
      " 3   最新      35 non-null     float64\n",
      "dtypes: float64(1), int64(1), object(2)\n",
      "memory usage: 1.2+ KB\n"
     ]
    }
   ],
   "source": [
    "df = pd.read_excel('..\\\\JN_DataWarehouse\\\\stock_analysis\\\\概念分类\\\\1111.xls')\n",
    "df.info()"
   ]
  },
  {
   "cell_type": "code",
   "execution_count": 17,
   "metadata": {},
   "outputs": [
    {
     "data": {
      "text/html": [
       "<div>\n",
       "<style scoped>\n",
       "    .dataframe tbody tr th:only-of-type {\n",
       "        vertical-align: middle;\n",
       "    }\n",
       "\n",
       "    .dataframe tbody tr th {\n",
       "        vertical-align: top;\n",
       "    }\n",
       "\n",
       "    .dataframe thead th {\n",
       "        text-align: right;\n",
       "    }\n",
       "</style>\n",
       "<table border=\"1\" class=\"dataframe\">\n",
       "  <thead>\n",
       "    <tr style=\"text-align: right;\">\n",
       "      <th></th>\n",
       "      <th>序</th>\n",
       "      <th>代码</th>\n",
       "      <th>名称</th>\n",
       "      <th>最新</th>\n",
       "    </tr>\n",
       "  </thead>\n",
       "  <tbody>\n",
       "    <tr>\n",
       "      <th>0</th>\n",
       "      <td>0</td>\n",
       "      <td>BK0923</td>\n",
       "      <td>字节概念</td>\n",
       "      <td>990.39</td>\n",
       "    </tr>\n",
       "    <tr>\n",
       "      <th>1</th>\n",
       "      <td>1</td>\n",
       "      <td>000070</td>\n",
       "      <td>特发信息</td>\n",
       "      <td>9.16</td>\n",
       "    </tr>\n",
       "    <tr>\n",
       "      <th>2</th>\n",
       "      <td>2</td>\n",
       "      <td>000977</td>\n",
       "      <td>浪潮信息</td>\n",
       "      <td>38.30</td>\n",
       "    </tr>\n",
       "    <tr>\n",
       "      <th>3</th>\n",
       "      <td>3</td>\n",
       "      <td>002024</td>\n",
       "      <td>苏宁易购</td>\n",
       "      <td>8.84</td>\n",
       "    </tr>\n",
       "    <tr>\n",
       "      <th>4</th>\n",
       "      <td>4</td>\n",
       "      <td>002103</td>\n",
       "      <td>广博股份</td>\n",
       "      <td>7.70</td>\n",
       "    </tr>\n",
       "  </tbody>\n",
       "</table>\n",
       "</div>"
      ],
      "text/plain": [
       "   序      代码     名称      最新\n",
       "0  0  BK0923   字节概念  990.39\n",
       "1  1  000070   特发信息    9.16\n",
       "2  2  000977   浪潮信息   38.30\n",
       "3  3  002024   苏宁易购    8.84\n",
       "4  4  002103   广博股份    7.70"
      ]
     },
     "execution_count": 17,
     "metadata": {},
     "output_type": "execute_result"
    }
   ],
   "source": [
    "df.head()"
   ]
  },
  {
   "cell_type": "code",
   "execution_count": null,
   "metadata": {
    "collapsed": true
   },
   "outputs": [],
   "source": []
  }
 ],
 "metadata": {
  "kernelspec": {
   "display_name": "Python 3",
   "language": "python",
   "name": "python3"
  },
  "language_info": {
   "codemirror_mode": {
    "name": "ipython",
    "version": 3
   },
   "file_extension": ".py",
   "mimetype": "text/x-python",
   "name": "python",
   "nbconvert_exporter": "python",
   "pygments_lexer": "ipython3",
   "version": "3.6.2"
  }
 },
 "nbformat": 4,
 "nbformat_minor": 2
}
