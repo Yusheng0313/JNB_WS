{
 "cells": [
  {
   "cell_type": "code",
   "execution_count": 1,
   "metadata": {
    "collapsed": true,
    "jupyter": {
     "outputs_hidden": true
    }
   },
   "outputs": [],
   "source": [
    "import pandas as pd\n",
    "from pandas import DataFrame\n",
    "from pandas import concat\n",
    "from pandas import merge\n",
    "import numpy as np\n",
    "import matplotlib.pyplot as plt\n",
    "import seaborn as sns\n",
    "import os, sys"
   ]
  },
  {
   "cell_type": "code",
   "execution_count": 2,
   "metadata": {
    "collapsed": true,
    "jupyter": {
     "outputs_hidden": true
    }
   },
   "outputs": [],
   "source": [
    "# 读取股票数据\n",
    "def read_data(stock_name, flag):\n",
    "    df = pd.read_csv('..\\\\JN_DataWarehouse\\\\stock_analysis\\\\'+stock_name, index_col=False)\n",
    "    return df"
   ]
  },
  {
   "cell_type": "code",
   "execution_count": 3,
   "metadata": {
    "collapsed": true,
    "jupyter": {
     "outputs_hidden": true
    }
   },
   "outputs": [],
   "source": [
    "# 读取概念分类\n",
    "def read_typeinfo(_name ):\n",
    "    df = pd.read_excel('..\\\\JN_DataWarehouse\\\\stock_analysis\\\\概念分类\\\\' + _name, index_col=False)\n",
    "    return df"
   ]
  },
  {
   "cell_type": "code",
   "execution_count": 4,
   "metadata": {
    "collapsed": true,
    "jupyter": {
     "outputs_hidden": true
    }
   },
   "outputs": [],
   "source": [
    "# 读取股票信息\n",
    "def read_stockinfo(_name ):\n",
    "    df = pd.read_excel('..\\\\JN_DataWarehouse\\\\stock_analysis\\\\股票信息\\\\' + _name, index_col=False)\n",
    "    return df"
   ]
  },
  {
   "cell_type": "code",
   "execution_count": 5,
   "metadata": {
    "scrolled": true
   },
   "outputs": [],
   "source": [
    "df = pd.read_excel('..\\\\JN_DataWarehouse\\\\stock_analysis\\\\stockinfo\\\\净利润比营业总收入.xlsx')"
   ]
  },
  {
   "cell_type": "code",
   "execution_count": 6,
   "metadata": {},
   "outputs": [
    {
     "name": "stdout",
     "output_type": "stream",
     "text": [
      "<class 'pandas.core.frame.DataFrame'>\n",
      "RangeIndex: 3922 entries, 0 to 3921\n",
      "Data columns (total 41 columns):\n",
      " #   Column       Non-Null Count  Dtype \n",
      "---  ------       --------------  ----- \n",
      " 0   序号           3922 non-null   int64 \n",
      " 1   股票代码         3922 non-null   int64 \n",
      " 2   股票简称         3922 non-null   object\n",
      " 3   2020-1       3922 non-null   object\n",
      " 4   2019-4       3922 non-null   object\n",
      " 5   2019-3       3922 non-null   object\n",
      " 6   2019-2       3922 non-null   object\n",
      " 7   2019-1       3922 non-null   object\n",
      " 8   2018-4       3922 non-null   object\n",
      " 9   2018-3       3922 non-null   object\n",
      " 10  2018-2       3922 non-null   object\n",
      " 11  2018-1       3922 non-null   object\n",
      " 12  2017-4       3922 non-null   object\n",
      " 13  2017-3       3922 non-null   object\n",
      " 14  2017-2       3922 non-null   object\n",
      " 15  2017-1       3922 non-null   object\n",
      " 16  2016-4       3922 non-null   object\n",
      " 17  2016-3       3922 non-null   object\n",
      " 18  2016-2       3922 non-null   object\n",
      " 19  2016-1       3922 non-null   object\n",
      " 20  2015-4       3922 non-null   object\n",
      " 21  2015-3       3922 non-null   object\n",
      " 22  2015-2       3922 non-null   object\n",
      " 23  2015-1       3922 non-null   object\n",
      " 24  2014-4       3922 non-null   object\n",
      " 25  2014-3       3922 non-null   object\n",
      " 26  2014-2       3922 non-null   object\n",
      " 27  2014-1       3922 non-null   object\n",
      " 28  2013-4       3922 non-null   object\n",
      " 29  2013-3       3922 non-null   object\n",
      " 30  2013-2       3922 non-null   object\n",
      " 31  2013-1       3922 non-null   object\n",
      " 32  2012-4       3922 non-null   object\n",
      " 33  2012-3       3922 non-null   object\n",
      " 34  2012-2       3922 non-null   object\n",
      " 35  2012-1       3922 non-null   object\n",
      " 36  2011-4       3922 non-null   object\n",
      " 37  2011-3       3922 non-null   object\n",
      " 38  2011-2       3922 non-null   object\n",
      " 39  2011-1       3922 non-null   object\n",
      " 40  Unnamed: 40  3922 non-null   int64 \n",
      "dtypes: int64(3), object(38)\n",
      "memory usage: 1.2+ MB\n"
     ]
    }
   ],
   "source": [
    "df.info()"
   ]
  },
  {
   "cell_type": "code",
   "execution_count": 9,
   "metadata": {
    "scrolled": true
   },
   "outputs": [
    {
     "name": "stdout",
     "output_type": "stream",
     "text": [
      "<class 'pandas.core.frame.DataFrame'>\n",
      "RangeIndex: 3923 entries, 0 to 3922\n",
      "Data columns (total 19 columns):\n",
      " #   Column  Non-Null Count  Dtype \n",
      "---  ------  --------------  ----- \n",
      " 0   序号      3923 non-null   int64 \n",
      " 1   股票代码    3923 non-null   int64 \n",
      " 2   股票简称    3923 non-null   object\n",
      " 3   公司中文名称  3923 non-null   object\n",
      " 4   公司英文名称  3921 non-null   object\n",
      " 5   成立日期    3923 non-null   object\n",
      " 6   工商登记号   3921 non-null   object\n",
      " 7   注册资本    3923 non-null   int64 \n",
      " 8   法人代表    3921 non-null   object\n",
      " 9   经营范围    3923 non-null   object\n",
      " 10  所属行业    3241 non-null   object\n",
      " 11  员工总数    3923 non-null   int64 \n",
      " 12  省份      3923 non-null   object\n",
      " 13  城市      3922 non-null   object\n",
      " 14  公司电话    3923 non-null   object\n",
      " 15  公司网站    3889 non-null   object\n",
      " 16  审计机构    3922 non-null   object\n",
      " 17  法律顾问    3923 non-null   object\n",
      " 18  股票种类    3923 non-null   object\n",
      "dtypes: int64(4), object(15)\n",
      "memory usage: 582.4+ KB\n"
     ]
    }
   ],
   "source": [
    "df = pd.read_excel('..\\\\JN_DataWarehouse\\\\stock_analysis\\\\stockinfo\\\\公司信息.xlsx')\n",
    "df.info()"
   ]
  },
  {
   "cell_type": "code",
   "execution_count": 10,
   "metadata": {},
   "outputs": [
    {
     "data": {
      "text/html": [
       "<div>\n",
       "<style scoped>\n",
       "    .dataframe tbody tr th:only-of-type {\n",
       "        vertical-align: middle;\n",
       "    }\n",
       "\n",
       "    .dataframe tbody tr th {\n",
       "        vertical-align: top;\n",
       "    }\n",
       "\n",
       "    .dataframe thead th {\n",
       "        text-align: right;\n",
       "    }\n",
       "</style>\n",
       "<table border=\"1\" class=\"dataframe\">\n",
       "  <thead>\n",
       "    <tr style=\"text-align: right;\">\n",
       "      <th></th>\n",
       "      <th>序号</th>\n",
       "      <th>股票代码</th>\n",
       "      <th>股票简称</th>\n",
       "      <th>公司中文名称</th>\n",
       "      <th>公司英文名称</th>\n",
       "      <th>成立日期</th>\n",
       "      <th>工商登记号</th>\n",
       "      <th>注册资本</th>\n",
       "      <th>法人代表</th>\n",
       "      <th>经营范围</th>\n",
       "      <th>所属行业</th>\n",
       "      <th>员工总数</th>\n",
       "      <th>省份</th>\n",
       "      <th>城市</th>\n",
       "      <th>公司电话</th>\n",
       "      <th>公司网站</th>\n",
       "      <th>审计机构</th>\n",
       "      <th>法律顾问</th>\n",
       "      <th>股票种类</th>\n",
       "    </tr>\n",
       "  </thead>\n",
       "  <tbody>\n",
       "    <tr>\n",
       "      <th>0</th>\n",
       "      <td>1</td>\n",
       "      <td>1</td>\n",
       "      <td>平安银行</td>\n",
       "      <td>平安银行股份有限公司</td>\n",
       "      <td>Ping An Bank Co., Ltd.</td>\n",
       "      <td>1987-12-22</td>\n",
       "      <td>91440300192185379H</td>\n",
       "      <td>19405918198</td>\n",
       "      <td>谢永林</td>\n",
       "      <td>=\"办理人民币存、贷、结算、汇兑业务;人民币票据承兑和贴现;各项信托业务;经监管机构批准发行...</td>\n",
       "      <td>金融</td>\n",
       "      <td>34253</td>\n",
       "      <td>广东</td>\n",
       "      <td>深圳市</td>\n",
       "      <td>0755-82080387</td>\n",
       "      <td>www.bank.pingan.com</td>\n",
       "      <td>普华永道中天会计师事务所(特殊普通合伙)</td>\n",
       "      <td>广东信达律师事务所</td>\n",
       "      <td>A股</td>\n",
       "    </tr>\n",
       "    <tr>\n",
       "      <th>1</th>\n",
       "      <td>2</td>\n",
       "      <td>2</td>\n",
       "      <td>万科A</td>\n",
       "      <td>万科企业股份有限公司</td>\n",
       "      <td>China Vanke Co.,Ltd.</td>\n",
       "      <td>1984-05-30</td>\n",
       "      <td>91440300192181490G</td>\n",
       "      <td>11617732201</td>\n",
       "      <td>郁亮</td>\n",
       "      <td>房地产开发;兴办实业(具体项目另行申报);国内商业、物资供销业(不含专营、专控、专卖商品);...</td>\n",
       "      <td>房地产</td>\n",
       "      <td>131505</td>\n",
       "      <td>广东</td>\n",
       "      <td>深圳市</td>\n",
       "      <td>0755-25606666</td>\n",
       "      <td>www.vanke.com</td>\n",
       "      <td>毕马威华振会计师事务所(特殊普通合伙)</td>\n",
       "      <td>广东信达律师事务所</td>\n",
       "      <td>A股</td>\n",
       "    </tr>\n",
       "    <tr>\n",
       "      <th>2</th>\n",
       "      <td>3</td>\n",
       "      <td>4</td>\n",
       "      <td>国农科技</td>\n",
       "      <td>深圳中国农大科技股份有限公司</td>\n",
       "      <td>Shenzhen Cau Technology Co.,Ltd.</td>\n",
       "      <td>1986-05-05</td>\n",
       "      <td>91440300192441969E</td>\n",
       "      <td>165052625</td>\n",
       "      <td>黄翔</td>\n",
       "      <td>子公司山东北大高科华泰制药有限公司主要从事生物医药的研发、生产和销售,生产的药品涵盖抗感染药...</td>\n",
       "      <td>医药生物</td>\n",
       "      <td>251</td>\n",
       "      <td>广东</td>\n",
       "      <td>深圳市</td>\n",
       "      <td>0755-83521596</td>\n",
       "      <td>www.sz000004.cn</td>\n",
       "      <td>大华会计师事务所(特殊普通合伙)</td>\n",
       "      <td>安徽天禾律师事务所</td>\n",
       "      <td>A股</td>\n",
       "    </tr>\n",
       "    <tr>\n",
       "      <th>3</th>\n",
       "      <td>4</td>\n",
       "      <td>5</td>\n",
       "      <td>世纪星源</td>\n",
       "      <td>深圳世纪星源股份有限公司</td>\n",
       "      <td>Shenzhen Fountain Corporation</td>\n",
       "      <td>1989-05-08</td>\n",
       "      <td>914403006188470942</td>\n",
       "      <td>1058536842</td>\n",
       "      <td>丁芃</td>\n",
       "      <td>生产经营各种喷胶布、针刺布、缝编尼纺布、粘合布、纤维裥棉色织、印花布以及服装、服装面料、辅料...</td>\n",
       "      <td>公用事业</td>\n",
       "      <td>680</td>\n",
       "      <td>广东</td>\n",
       "      <td>深圳市</td>\n",
       "      <td>0755-82208888</td>\n",
       "      <td>www.fountain.com.cn</td>\n",
       "      <td>中审众环会计师事务所(特殊普通合伙)</td>\n",
       "      <td>广东普罗米修律师事务所</td>\n",
       "      <td>A股</td>\n",
       "    </tr>\n",
       "    <tr>\n",
       "      <th>4</th>\n",
       "      <td>5</td>\n",
       "      <td>6</td>\n",
       "      <td>深振业A</td>\n",
       "      <td>深圳市振业(集团)股份有限公司</td>\n",
       "      <td>Shenzhen Zhenye(Group)Co.,Ltd.</td>\n",
       "      <td>1989-05-25</td>\n",
       "      <td>91440300618831041G</td>\n",
       "      <td>1349995046</td>\n",
       "      <td>赵宏伟</td>\n",
       "      <td>土地开发、房产销售及租赁、物业管理。</td>\n",
       "      <td>房地产</td>\n",
       "      <td>385</td>\n",
       "      <td>广东</td>\n",
       "      <td>深圳市</td>\n",
       "      <td>0755-25863061</td>\n",
       "      <td>www.zhenye.com</td>\n",
       "      <td>天职国际会计师事务所(特殊普通合伙)</td>\n",
       "      <td>广东圣天平律师事务所</td>\n",
       "      <td>A股</td>\n",
       "    </tr>\n",
       "  </tbody>\n",
       "</table>\n",
       "</div>"
      ],
      "text/plain": [
       "   序号  股票代码  股票简称           公司中文名称                            公司英文名称  \\\n",
       "0   1     1  平安银行       平安银行股份有限公司            Ping An Bank Co., Ltd.   \n",
       "1   2     2   万科A       万科企业股份有限公司              China Vanke Co.,Ltd.   \n",
       "2   3     4  国农科技   深圳中国农大科技股份有限公司  Shenzhen Cau Technology Co.,Ltd.   \n",
       "3   4     5  世纪星源     深圳世纪星源股份有限公司     Shenzhen Fountain Corporation   \n",
       "4   5     6  深振业A  深圳市振业(集团)股份有限公司    Shenzhen Zhenye(Group)Co.,Ltd.   \n",
       "\n",
       "         成立日期               工商登记号         注册资本 法人代表  \\\n",
       "0  1987-12-22  91440300192185379H  19405918198  谢永林   \n",
       "1  1984-05-30  91440300192181490G  11617732201   郁亮   \n",
       "2  1986-05-05  91440300192441969E    165052625   黄翔   \n",
       "3  1989-05-08  914403006188470942   1058536842   丁芃   \n",
       "4  1989-05-25  91440300618831041G   1349995046  赵宏伟   \n",
       "\n",
       "                                                经营范围  所属行业    员工总数  省份   城市  \\\n",
       "0  =\"办理人民币存、贷、结算、汇兑业务;人民币票据承兑和贴现;各项信托业务;经监管机构批准发行...    金融   34253  广东  深圳市   \n",
       "1  房地产开发;兴办实业(具体项目另行申报);国内商业、物资供销业(不含专营、专控、专卖商品);...   房地产  131505  广东  深圳市   \n",
       "2  子公司山东北大高科华泰制药有限公司主要从事生物医药的研发、生产和销售,生产的药品涵盖抗感染药...  医药生物     251  广东  深圳市   \n",
       "3  生产经营各种喷胶布、针刺布、缝编尼纺布、粘合布、纤维裥棉色织、印花布以及服装、服装面料、辅料...  公用事业     680  广东  深圳市   \n",
       "4                                 土地开发、房产销售及租赁、物业管理。   房地产     385  广东  深圳市   \n",
       "\n",
       "            公司电话                 公司网站                  审计机构         法律顾问 股票种类  \n",
       "0  0755-82080387  www.bank.pingan.com  普华永道中天会计师事务所(特殊普通合伙)    广东信达律师事务所   A股  \n",
       "1  0755-25606666        www.vanke.com   毕马威华振会计师事务所(特殊普通合伙)    广东信达律师事务所   A股  \n",
       "2  0755-83521596      www.sz000004.cn      大华会计师事务所(特殊普通合伙)    安徽天禾律师事务所   A股  \n",
       "3  0755-82208888  www.fountain.com.cn    中审众环会计师事务所(特殊普通合伙)  广东普罗米修律师事务所   A股  \n",
       "4  0755-25863061       www.zhenye.com    天职国际会计师事务所(特殊普通合伙)   广东圣天平律师事务所   A股  "
      ]
     },
     "execution_count": 10,
     "metadata": {},
     "output_type": "execute_result"
    }
   ],
   "source": [
    "df.head()"
   ]
  },
  {
   "cell_type": "code",
   "execution_count": null,
   "metadata": {
    "collapsed": true,
    "jupyter": {
     "outputs_hidden": true
    }
   },
   "outputs": [],
   "source": []
  }
 ],
 "metadata": {
  "kernelspec": {
   "display_name": "Python 3",
   "language": "python",
   "name": "python3"
  },
  "language_info": {
   "codemirror_mode": {
    "name": "ipython",
    "version": 3
   },
   "file_extension": ".py",
   "mimetype": "text/x-python",
   "name": "python",
   "nbconvert_exporter": "python",
   "pygments_lexer": "ipython3",
   "version": "3.8.3"
  }
 },
 "nbformat": 4,
 "nbformat_minor": 4
}
