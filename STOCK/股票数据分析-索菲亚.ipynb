{
 "cells": [
  {
   "cell_type": "code",
   "execution_count": 68,
   "metadata": {},
   "outputs": [
    {
     "name": "stderr",
     "output_type": "stream",
     "text": [
      "ERROR:root:Line magic function `%matplmatplotlib` not found.\n"
     ]
    }
   ],
   "source": [
    "import pandas as pd\n",
    "from pandas import DataFrame\n",
    "from pandas import concat\n",
    "from pandas import merge\n",
    "import numpy as np\n",
    "import matplotlib.pyplot as plt\n",
    "import seaborn as sns\n",
    "%matplmatplotlib inliinline"
   ]
  },
  {
   "cell_type": "markdown",
   "metadata": {},
   "source": [
    "# 1、导入数据"
   ]
  },
  {
   "cell_type": "code",
   "execution_count": 69,
   "metadata": {},
   "outputs": [
    {
     "data": {
      "text/html": [
       "<div>\n",
       "<style scoped>\n",
       "    .dataframe tbody tr th:only-of-type {\n",
       "        vertical-align: middle;\n",
       "    }\n",
       "\n",
       "    .dataframe tbody tr th {\n",
       "        vertical-align: top;\n",
       "    }\n",
       "\n",
       "    .dataframe thead th {\n",
       "        text-align: right;\n",
       "    }\n",
       "</style>\n",
       "<table border=\"1\" class=\"dataframe\">\n",
       "  <thead>\n",
       "    <tr style=\"text-align: right;\">\n",
       "      <th></th>\n",
       "      <th>日期</th>\n",
       "      <th>股票代码</th>\n",
       "      <th>名称</th>\n",
       "      <th>收盘价</th>\n",
       "      <th>最高价</th>\n",
       "      <th>最低价</th>\n",
       "      <th>开盘价</th>\n",
       "      <th>前收盘</th>\n",
       "      <th>涨跌额</th>\n",
       "      <th>涨跌幅</th>\n",
       "      <th>换手率</th>\n",
       "      <th>成交量</th>\n",
       "      <th>成交金额</th>\n",
       "      <th>总市值</th>\n",
       "      <th>流通市值</th>\n",
       "    </tr>\n",
       "  </thead>\n",
       "  <tbody>\n",
       "    <tr>\n",
       "      <th>0</th>\n",
       "      <td>2020-04-22</td>\n",
       "      <td>'002572</td>\n",
       "      <td>索菲亚</td>\n",
       "      <td>19.33</td>\n",
       "      <td>19.39</td>\n",
       "      <td>18.91</td>\n",
       "      <td>19.18</td>\n",
       "      <td>19.19</td>\n",
       "      <td>0.14</td>\n",
       "      <td>0.7295</td>\n",
       "      <td>0.5712</td>\n",
       "      <td>5211539</td>\n",
       "      <td>9.995219e+07</td>\n",
       "      <td>1.763611e+10</td>\n",
       "      <td>1.763611e+10</td>\n",
       "    </tr>\n",
       "    <tr>\n",
       "      <th>1</th>\n",
       "      <td>2020-04-21</td>\n",
       "      <td>'002572</td>\n",
       "      <td>索菲亚</td>\n",
       "      <td>19.19</td>\n",
       "      <td>19.57</td>\n",
       "      <td>19.07</td>\n",
       "      <td>19.54</td>\n",
       "      <td>19.75</td>\n",
       "      <td>-0.56</td>\n",
       "      <td>-2.8354</td>\n",
       "      <td>0.8665</td>\n",
       "      <td>7905661</td>\n",
       "      <td>1.523504e+08</td>\n",
       "      <td>1.750838e+10</td>\n",
       "      <td>1.750838e+10</td>\n",
       "    </tr>\n",
       "    <tr>\n",
       "      <th>2</th>\n",
       "      <td>2020-04-20</td>\n",
       "      <td>'002572</td>\n",
       "      <td>索菲亚</td>\n",
       "      <td>19.75</td>\n",
       "      <td>19.88</td>\n",
       "      <td>19.18</td>\n",
       "      <td>19.39</td>\n",
       "      <td>19.21</td>\n",
       "      <td>0.54</td>\n",
       "      <td>2.811</td>\n",
       "      <td>0.9080</td>\n",
       "      <td>8283991</td>\n",
       "      <td>1.622289e+08</td>\n",
       "      <td>1.801931e+10</td>\n",
       "      <td>1.801931e+10</td>\n",
       "    </tr>\n",
       "    <tr>\n",
       "      <th>3</th>\n",
       "      <td>2020-04-17</td>\n",
       "      <td>'002572</td>\n",
       "      <td>索菲亚</td>\n",
       "      <td>19.21</td>\n",
       "      <td>19.68</td>\n",
       "      <td>19.12</td>\n",
       "      <td>19.40</td>\n",
       "      <td>19.10</td>\n",
       "      <td>0.11</td>\n",
       "      <td>0.5759</td>\n",
       "      <td>1.0886</td>\n",
       "      <td>9931739</td>\n",
       "      <td>1.922523e+08</td>\n",
       "      <td>1.752663e+10</td>\n",
       "      <td>1.752663e+10</td>\n",
       "    </tr>\n",
       "    <tr>\n",
       "      <th>4</th>\n",
       "      <td>2020-04-16</td>\n",
       "      <td>'002572</td>\n",
       "      <td>索菲亚</td>\n",
       "      <td>19.10</td>\n",
       "      <td>19.29</td>\n",
       "      <td>18.61</td>\n",
       "      <td>18.76</td>\n",
       "      <td>18.86</td>\n",
       "      <td>0.24</td>\n",
       "      <td>1.2725</td>\n",
       "      <td>0.9970</td>\n",
       "      <td>9096367</td>\n",
       "      <td>1.732171e+08</td>\n",
       "      <td>1.742627e+10</td>\n",
       "      <td>1.742627e+10</td>\n",
       "    </tr>\n",
       "  </tbody>\n",
       "</table>\n",
       "</div>"
      ],
      "text/plain": [
       "           日期     股票代码   名称    收盘价    最高价    最低价    开盘价    前收盘    涨跌额  \\\n",
       "0  2020-04-22  '002572  索菲亚  19.33  19.39  18.91  19.18  19.19   0.14   \n",
       "1  2020-04-21  '002572  索菲亚  19.19  19.57  19.07  19.54  19.75  -0.56   \n",
       "2  2020-04-20  '002572  索菲亚  19.75  19.88  19.18  19.39  19.21   0.54   \n",
       "3  2020-04-17  '002572  索菲亚  19.21  19.68  19.12  19.40  19.10   0.11   \n",
       "4  2020-04-16  '002572  索菲亚  19.10  19.29  18.61  18.76  18.86   0.24   \n",
       "\n",
       "       涨跌幅     换手率      成交量          成交金额           总市值          流通市值  \n",
       "0   0.7295  0.5712  5211539  9.995219e+07  1.763611e+10  1.763611e+10  \n",
       "1  -2.8354  0.8665  7905661  1.523504e+08  1.750838e+10  1.750838e+10  \n",
       "2    2.811  0.9080  8283991  1.622289e+08  1.801931e+10  1.801931e+10  \n",
       "3   0.5759  1.0886  9931739  1.922523e+08  1.752663e+10  1.752663e+10  \n",
       "4   1.2725  0.9970  9096367  1.732171e+08  1.742627e+10  1.742627e+10  "
      ]
     },
     "execution_count": 69,
     "metadata": {},
     "output_type": "execute_result"
    }
   ],
   "source": [
    "# 导入数据, 上级目录的平行目录要用..\n",
    "df = pd.read_csv('..\\\\JN_DataWarehouse\\\\stock_analysis\\\\002572.csv')\n",
    "df.head()"
   ]
  },
  {
   "cell_type": "markdown",
   "metadata": {},
   "source": [
    "# 2 异常数据处理"
   ]
  },
  {
   "cell_type": "markdown",
   "metadata": {},
   "source": [
    "## 2.1 重复值处理"
   ]
  },
  {
   "cell_type": "code",
   "execution_count": 70,
   "metadata": {},
   "outputs": [
    {
     "data": {
      "text/plain": [
       "(2200, 15)"
      ]
     },
     "execution_count": 70,
     "metadata": {},
     "output_type": "execute_result"
    }
   ],
   "source": [
    "# 查看总行数\n",
    "df.shape"
   ]
  },
  {
   "cell_type": "code",
   "execution_count": 71,
   "metadata": {},
   "outputs": [
    {
     "data": {
      "text/plain": [
       "0"
      ]
     },
     "execution_count": 71,
     "metadata": {},
     "output_type": "execute_result"
    }
   ],
   "source": [
    "# 检查重复值\n",
    "df.duplicated().sum()"
   ]
  },
  {
   "cell_type": "code",
   "execution_count": 72,
   "metadata": {},
   "outputs": [
    {
     "data": {
      "text/html": [
       "<div>\n",
       "<style scoped>\n",
       "    .dataframe tbody tr th:only-of-type {\n",
       "        vertical-align: middle;\n",
       "    }\n",
       "\n",
       "    .dataframe tbody tr th {\n",
       "        vertical-align: top;\n",
       "    }\n",
       "\n",
       "    .dataframe thead th {\n",
       "        text-align: right;\n",
       "    }\n",
       "</style>\n",
       "<table border=\"1\" class=\"dataframe\">\n",
       "  <thead>\n",
       "    <tr style=\"text-align: right;\">\n",
       "      <th></th>\n",
       "      <th>日期</th>\n",
       "      <th>股票代码</th>\n",
       "      <th>名称</th>\n",
       "      <th>收盘价</th>\n",
       "      <th>最高价</th>\n",
       "      <th>最低价</th>\n",
       "      <th>开盘价</th>\n",
       "      <th>前收盘</th>\n",
       "      <th>涨跌额</th>\n",
       "      <th>涨跌幅</th>\n",
       "      <th>换手率</th>\n",
       "      <th>成交量</th>\n",
       "      <th>成交金额</th>\n",
       "      <th>总市值</th>\n",
       "      <th>流通市值</th>\n",
       "    </tr>\n",
       "  </thead>\n",
       "  <tbody>\n",
       "  </tbody>\n",
       "</table>\n",
       "</div>"
      ],
      "text/plain": [
       "Empty DataFrame\n",
       "Columns: [日期, 股票代码, 名称, 收盘价, 最高价, 最低价, 开盘价, 前收盘, 涨跌额, 涨跌幅, 换手率, 成交量, 成交金额, 总市值, 流通市值]\n",
       "Index: []"
      ]
     },
     "execution_count": 72,
     "metadata": {},
     "output_type": "execute_result"
    }
   ],
   "source": [
    "#显示重复值的数据\n",
    "df[df.duplicated()]"
   ]
  },
  {
   "cell_type": "code",
   "execution_count": 73,
   "metadata": {
    "collapsed": true
   },
   "outputs": [],
   "source": [
    "# 删除表中的重复值的数据\n",
    "df.drop_duplicates(inplace=True)"
   ]
  },
  {
   "cell_type": "code",
   "execution_count": 74,
   "metadata": {},
   "outputs": [
    {
     "data": {
      "text/plain": [
       "0"
      ]
     },
     "execution_count": 74,
     "metadata": {},
     "output_type": "execute_result"
    }
   ],
   "source": [
    "# 检查去掉的重复值\n",
    "df.duplicated().sum()"
   ]
  },
  {
   "cell_type": "code",
   "execution_count": 75,
   "metadata": {},
   "outputs": [
    {
     "data": {
      "text/plain": [
       "(2200, 15)"
      ]
     },
     "execution_count": 75,
     "metadata": {},
     "output_type": "execute_result"
    }
   ],
   "source": [
    "# 查看总行数，去掉重复后，行数会变化\n",
    "df.shape"
   ]
  },
  {
   "cell_type": "code",
   "execution_count": 76,
   "metadata": {
    "collapsed": true
   },
   "outputs": [],
   "source": [
    "# 重新排序，重新索引\n",
    "df.index=range(df.shape[0])"
   ]
  },
  {
   "cell_type": "code",
   "execution_count": 77,
   "metadata": {},
   "outputs": [
    {
     "name": "stdout",
     "output_type": "stream",
     "text": [
      "           日期     股票代码   名称    收盘价    最高价    最低价    开盘价    前收盘    涨跌额  \\\n",
      "0  2020-04-22  '002572  索菲亚  19.33  19.39  18.91  19.18  19.19   0.14   \n",
      "1  2020-04-21  '002572  索菲亚  19.19  19.57  19.07  19.54  19.75  -0.56   \n",
      "2  2020-04-20  '002572  索菲亚  19.75  19.88  19.18  19.39  19.21   0.54   \n",
      "3  2020-04-17  '002572  索菲亚  19.21  19.68  19.12  19.40  19.10   0.11   \n",
      "4  2020-04-16  '002572  索菲亚  19.10  19.29  18.61  18.76  18.86   0.24   \n",
      "\n",
      "       涨跌幅     换手率      成交量          成交金额           总市值          流通市值  \n",
      "0   0.7295  0.5712  5211539  9.995219e+07  1.763611e+10  1.763611e+10  \n",
      "1  -2.8354  0.8665  7905661  1.523504e+08  1.750838e+10  1.750838e+10  \n",
      "2    2.811  0.9080  8283991  1.622289e+08  1.801931e+10  1.801931e+10  \n",
      "3   0.5759  1.0886  9931739  1.922523e+08  1.752663e+10  1.752663e+10  \n",
      "4   1.2725  0.9970  9096367  1.732171e+08  1.742627e+10  1.742627e+10  \n"
     ]
    }
   ],
   "source": [
    "df.index\n",
    "print(df.head())"
   ]
  },
  {
   "cell_type": "markdown",
   "metadata": {},
   "source": [
    "## 2.2 异常值处理"
   ]
  },
  {
   "cell_type": "code",
   "execution_count": 78,
   "metadata": {},
   "outputs": [
    {
     "data": {
      "text/html": [
       "<div>\n",
       "<style scoped>\n",
       "    .dataframe tbody tr th:only-of-type {\n",
       "        vertical-align: middle;\n",
       "    }\n",
       "\n",
       "    .dataframe tbody tr th {\n",
       "        vertical-align: top;\n",
       "    }\n",
       "\n",
       "    .dataframe thead th {\n",
       "        text-align: right;\n",
       "    }\n",
       "</style>\n",
       "<table border=\"1\" class=\"dataframe\">\n",
       "  <thead>\n",
       "    <tr style=\"text-align: right;\">\n",
       "      <th></th>\n",
       "      <th>count</th>\n",
       "      <th>mean</th>\n",
       "      <th>std</th>\n",
       "      <th>min</th>\n",
       "      <th>25%</th>\n",
       "      <th>50%</th>\n",
       "      <th>75%</th>\n",
       "      <th>max</th>\n",
       "    </tr>\n",
       "  </thead>\n",
       "  <tbody>\n",
       "    <tr>\n",
       "      <th>收盘价</th>\n",
       "      <td>2200.0</td>\n",
       "      <td>3.232845e+01</td>\n",
       "      <td>1.684100e+01</td>\n",
       "      <td>0.000000e+00</td>\n",
       "      <td>1.896000e+01</td>\n",
       "      <td>2.907000e+01</td>\n",
       "      <td>3.950000e+01</td>\n",
       "      <td>9.558000e+01</td>\n",
       "    </tr>\n",
       "    <tr>\n",
       "      <th>最高价</th>\n",
       "      <td>2200.0</td>\n",
       "      <td>3.289129e+01</td>\n",
       "      <td>1.705227e+01</td>\n",
       "      <td>0.000000e+00</td>\n",
       "      <td>1.929750e+01</td>\n",
       "      <td>2.981500e+01</td>\n",
       "      <td>4.010000e+01</td>\n",
       "      <td>9.640000e+01</td>\n",
       "    </tr>\n",
       "    <tr>\n",
       "      <th>最低价</th>\n",
       "      <td>2200.0</td>\n",
       "      <td>3.167669e+01</td>\n",
       "      <td>1.657688e+01</td>\n",
       "      <td>0.000000e+00</td>\n",
       "      <td>1.863500e+01</td>\n",
       "      <td>2.830000e+01</td>\n",
       "      <td>3.879250e+01</td>\n",
       "      <td>9.240000e+01</td>\n",
       "    </tr>\n",
       "    <tr>\n",
       "      <th>开盘价</th>\n",
       "      <td>2200.0</td>\n",
       "      <td>3.224806e+01</td>\n",
       "      <td>1.677745e+01</td>\n",
       "      <td>0.000000e+00</td>\n",
       "      <td>1.890000e+01</td>\n",
       "      <td>2.900500e+01</td>\n",
       "      <td>3.940250e+01</td>\n",
       "      <td>9.610000e+01</td>\n",
       "    </tr>\n",
       "    <tr>\n",
       "      <th>前收盘</th>\n",
       "      <td>2200.0</td>\n",
       "      <td>3.302051e+01</td>\n",
       "      <td>1.648287e+01</td>\n",
       "      <td>1.259000e+01</td>\n",
       "      <td>1.913000e+01</td>\n",
       "      <td>3.034000e+01</td>\n",
       "      <td>3.976250e+01</td>\n",
       "      <td>9.558000e+01</td>\n",
       "    </tr>\n",
       "    <tr>\n",
       "      <th>换手率</th>\n",
       "      <td>2200.0</td>\n",
       "      <td>9.759081e-01</td>\n",
       "      <td>1.013202e+00</td>\n",
       "      <td>0.000000e+00</td>\n",
       "      <td>4.306500e-01</td>\n",
       "      <td>7.240500e-01</td>\n",
       "      <td>1.213150e+00</td>\n",
       "      <td>2.418320e+01</td>\n",
       "    </tr>\n",
       "    <tr>\n",
       "      <th>成交量</th>\n",
       "      <td>2200.0</td>\n",
       "      <td>3.904983e+06</td>\n",
       "      <td>4.950260e+06</td>\n",
       "      <td>0.000000e+00</td>\n",
       "      <td>7.798160e+05</td>\n",
       "      <td>2.234624e+06</td>\n",
       "      <td>5.208802e+06</td>\n",
       "      <td>5.038777e+07</td>\n",
       "    </tr>\n",
       "    <tr>\n",
       "      <th>成交金额</th>\n",
       "      <td>2200.0</td>\n",
       "      <td>1.068184e+08</td>\n",
       "      <td>1.150548e+08</td>\n",
       "      <td>0.000000e+00</td>\n",
       "      <td>1.937400e+07</td>\n",
       "      <td>7.520961e+07</td>\n",
       "      <td>1.550786e+08</td>\n",
       "      <td>1.010527e+09</td>\n",
       "    </tr>\n",
       "    <tr>\n",
       "      <th>总市值</th>\n",
       "      <td>2200.0</td>\n",
       "      <td>1.597709e+10</td>\n",
       "      <td>1.018043e+10</td>\n",
       "      <td>3.108350e+09</td>\n",
       "      <td>6.855190e+09</td>\n",
       "      <td>1.604590e+10</td>\n",
       "      <td>2.324724e+10</td>\n",
       "      <td>3.924562e+10</td>\n",
       "    </tr>\n",
       "    <tr>\n",
       "      <th>流通市值</th>\n",
       "      <td>2200.0</td>\n",
       "      <td>1.432245e+10</td>\n",
       "      <td>1.140213e+10</td>\n",
       "      <td>0.000000e+00</td>\n",
       "      <td>1.702080e+09</td>\n",
       "      <td>1.589288e+10</td>\n",
       "      <td>2.247158e+10</td>\n",
       "      <td>3.924562e+10</td>\n",
       "    </tr>\n",
       "  </tbody>\n",
       "</table>\n",
       "</div>"
      ],
      "text/plain": [
       "       count          mean           std           min           25%  \\\n",
       "收盘价   2200.0  3.232845e+01  1.684100e+01  0.000000e+00  1.896000e+01   \n",
       "最高价   2200.0  3.289129e+01  1.705227e+01  0.000000e+00  1.929750e+01   \n",
       "最低价   2200.0  3.167669e+01  1.657688e+01  0.000000e+00  1.863500e+01   \n",
       "开盘价   2200.0  3.224806e+01  1.677745e+01  0.000000e+00  1.890000e+01   \n",
       "前收盘   2200.0  3.302051e+01  1.648287e+01  1.259000e+01  1.913000e+01   \n",
       "换手率   2200.0  9.759081e-01  1.013202e+00  0.000000e+00  4.306500e-01   \n",
       "成交量   2200.0  3.904983e+06  4.950260e+06  0.000000e+00  7.798160e+05   \n",
       "成交金额  2200.0  1.068184e+08  1.150548e+08  0.000000e+00  1.937400e+07   \n",
       "总市值   2200.0  1.597709e+10  1.018043e+10  3.108350e+09  6.855190e+09   \n",
       "流通市值  2200.0  1.432245e+10  1.140213e+10  0.000000e+00  1.702080e+09   \n",
       "\n",
       "               50%           75%           max  \n",
       "收盘价   2.907000e+01  3.950000e+01  9.558000e+01  \n",
       "最高价   2.981500e+01  4.010000e+01  9.640000e+01  \n",
       "最低价   2.830000e+01  3.879250e+01  9.240000e+01  \n",
       "开盘价   2.900500e+01  3.940250e+01  9.610000e+01  \n",
       "前收盘   3.034000e+01  3.976250e+01  9.558000e+01  \n",
       "换手率   7.240500e-01  1.213150e+00  2.418320e+01  \n",
       "成交量   2.234624e+06  5.208802e+06  5.038777e+07  \n",
       "成交金额  7.520961e+07  1.550786e+08  1.010527e+09  \n",
       "总市值   1.604590e+10  2.324724e+10  3.924562e+10  \n",
       "流通市值  1.589288e+10  2.247158e+10  3.924562e+10  "
      ]
     },
     "execution_count": 78,
     "metadata": {},
     "output_type": "execute_result"
    }
   ],
   "source": [
    "# 查看异常数据,只对数值型有效\n",
    "df.describe().T"
   ]
  },
  {
   "cell_type": "code",
   "execution_count": 79,
   "metadata": {},
   "outputs": [
    {
     "data": {
      "text/html": [
       "<div>\n",
       "<style scoped>\n",
       "    .dataframe tbody tr th:only-of-type {\n",
       "        vertical-align: middle;\n",
       "    }\n",
       "\n",
       "    .dataframe tbody tr th {\n",
       "        vertical-align: top;\n",
       "    }\n",
       "\n",
       "    .dataframe thead th {\n",
       "        text-align: right;\n",
       "    }\n",
       "</style>\n",
       "<table border=\"1\" class=\"dataframe\">\n",
       "  <thead>\n",
       "    <tr style=\"text-align: right;\">\n",
       "      <th></th>\n",
       "      <th>日期</th>\n",
       "      <th>股票代码</th>\n",
       "      <th>名称</th>\n",
       "      <th>收盘价</th>\n",
       "      <th>最高价</th>\n",
       "      <th>最低价</th>\n",
       "      <th>开盘价</th>\n",
       "      <th>前收盘</th>\n",
       "      <th>涨跌额</th>\n",
       "      <th>涨跌幅</th>\n",
       "      <th>换手率</th>\n",
       "      <th>成交量</th>\n",
       "      <th>成交金额</th>\n",
       "      <th>总市值</th>\n",
       "      <th>流通市值</th>\n",
       "    </tr>\n",
       "  </thead>\n",
       "  <tbody>\n",
       "  </tbody>\n",
       "</table>\n",
       "</div>"
      ],
      "text/plain": [
       "Empty DataFrame\n",
       "Columns: [日期, 股票代码, 名称, 收盘价, 最高价, 最低价, 开盘价, 前收盘, 涨跌额, 涨跌幅, 换手率, 成交量, 成交金额, 总市值, 流通市值]\n",
       "Index: []"
      ]
     },
     "execution_count": 79,
     "metadata": {},
     "output_type": "execute_result"
    }
   ],
   "source": [
    "# 案例1 假设收盘价有某行值偏离异常（过大或过小），只可以使用本公式发现\n",
    "sta=(df['收盘价']-df['收盘价'].mean())/df['收盘价'].std()\n",
    "df[sta.abs()>4]"
   ]
  },
  {
   "cell_type": "code",
   "execution_count": 80,
   "metadata": {},
   "outputs": [
    {
     "data": {
      "text/html": [
       "<div>\n",
       "<style scoped>\n",
       "    .dataframe tbody tr th:only-of-type {\n",
       "        vertical-align: middle;\n",
       "    }\n",
       "\n",
       "    .dataframe tbody tr th {\n",
       "        vertical-align: top;\n",
       "    }\n",
       "\n",
       "    .dataframe thead th {\n",
       "        text-align: right;\n",
       "    }\n",
       "</style>\n",
       "<table border=\"1\" class=\"dataframe\">\n",
       "  <thead>\n",
       "    <tr style=\"text-align: right;\">\n",
       "      <th></th>\n",
       "      <th>日期</th>\n",
       "      <th>股票代码</th>\n",
       "      <th>名称</th>\n",
       "      <th>收盘价</th>\n",
       "      <th>最高价</th>\n",
       "      <th>最低价</th>\n",
       "      <th>开盘价</th>\n",
       "      <th>前收盘</th>\n",
       "      <th>涨跌额</th>\n",
       "      <th>涨跌幅</th>\n",
       "      <th>换手率</th>\n",
       "      <th>成交量</th>\n",
       "      <th>成交金额</th>\n",
       "      <th>总市值</th>\n",
       "      <th>流通市值</th>\n",
       "    </tr>\n",
       "  </thead>\n",
       "  <tbody>\n",
       "  </tbody>\n",
       "</table>\n",
       "</div>"
      ],
      "text/plain": [
       "Empty DataFrame\n",
       "Columns: [日期, 股票代码, 名称, 收盘价, 最高价, 最低价, 开盘价, 前收盘, 涨跌额, 涨跌幅, 换手率, 成交量, 成交金额, 总市值, 流通市值]\n",
       "Index: []"
      ]
     },
     "execution_count": 80,
     "metadata": {},
     "output_type": "execute_result"
    }
   ],
   "source": [
    "# 案例2\n",
    "df[df.收盘价 > df.最高价]"
   ]
  },
  {
   "cell_type": "code",
   "execution_count": 81,
   "metadata": {},
   "outputs": [
    {
     "data": {
      "text/html": [
       "<div>\n",
       "<style scoped>\n",
       "    .dataframe tbody tr th:only-of-type {\n",
       "        vertical-align: middle;\n",
       "    }\n",
       "\n",
       "    .dataframe tbody tr th {\n",
       "        vertical-align: top;\n",
       "    }\n",
       "\n",
       "    .dataframe thead th {\n",
       "        text-align: right;\n",
       "    }\n",
       "</style>\n",
       "<table border=\"1\" class=\"dataframe\">\n",
       "  <thead>\n",
       "    <tr style=\"text-align: right;\">\n",
       "      <th></th>\n",
       "      <th>日期</th>\n",
       "      <th>股票代码</th>\n",
       "      <th>名称</th>\n",
       "      <th>收盘价</th>\n",
       "      <th>最高价</th>\n",
       "      <th>最低价</th>\n",
       "      <th>开盘价</th>\n",
       "      <th>前收盘</th>\n",
       "      <th>涨跌额</th>\n",
       "      <th>涨跌幅</th>\n",
       "      <th>换手率</th>\n",
       "      <th>成交量</th>\n",
       "      <th>成交金额</th>\n",
       "      <th>总市值</th>\n",
       "      <th>流通市值</th>\n",
       "    </tr>\n",
       "  </thead>\n",
       "  <tbody>\n",
       "  </tbody>\n",
       "</table>\n",
       "</div>"
      ],
      "text/plain": [
       "Empty DataFrame\n",
       "Columns: [日期, 股票代码, 名称, 收盘价, 最高价, 最低价, 开盘价, 前收盘, 涨跌额, 涨跌幅, 换手率, 成交量, 成交金额, 总市值, 流通市值]\n",
       "Index: []"
      ]
     },
     "execution_count": 81,
     "metadata": {},
     "output_type": "execute_result"
    }
   ],
   "source": [
    "#合并 案例1 和 案例2 查看异常数据\n",
    "pd.concat([df[df.收盘价 > df.最高价],df[sta.abs()>4]])"
   ]
  },
  {
   "cell_type": "code",
   "execution_count": 82,
   "metadata": {
    "collapsed": true
   },
   "outputs": [],
   "source": [
    "# 删除异常数据\n",
    "delindex=pd.concat([df[df.收盘价 > df.最高价],df[sta.abs()>4]]).index\n",
    "df.drop(delindex,inplace=True)"
   ]
  },
  {
   "cell_type": "code",
   "execution_count": 83,
   "metadata": {},
   "outputs": [
    {
     "data": {
      "text/plain": [
       "(2200, 15)"
      ]
     },
     "execution_count": 83,
     "metadata": {},
     "output_type": "execute_result"
    }
   ],
   "source": [
    "#查看是否有删除数据，如有要重做索引\n",
    "df.shape"
   ]
  },
  {
   "cell_type": "markdown",
   "metadata": {},
   "source": [
    "## 2.3 缺失值，None值处理"
   ]
  },
  {
   "cell_type": "code",
   "execution_count": 84,
   "metadata": {},
   "outputs": [
    {
     "data": {
      "text/plain": [
       "日期      0\n",
       "股票代码    0\n",
       "名称      0\n",
       "收盘价     0\n",
       "最高价     0\n",
       "最低价     0\n",
       "开盘价     0\n",
       "前收盘     0\n",
       "涨跌额     0\n",
       "涨跌幅     0\n",
       "换手率     0\n",
       "成交量     0\n",
       "成交金额    0\n",
       "总市值     0\n",
       "流通市值    0\n",
       "dtype: int64"
      ]
     },
     "execution_count": 84,
     "metadata": {},
     "output_type": "execute_result"
    }
   ],
   "source": [
    "# 检验空值 isnull() , notnull()\n",
    "df.isnull().sum()"
   ]
  },
  {
   "cell_type": "code",
   "execution_count": 85,
   "metadata": {},
   "outputs": [
    {
     "data": {
      "text/html": [
       "<div>\n",
       "<style scoped>\n",
       "    .dataframe tbody tr th:only-of-type {\n",
       "        vertical-align: middle;\n",
       "    }\n",
       "\n",
       "    .dataframe tbody tr th {\n",
       "        vertical-align: top;\n",
       "    }\n",
       "\n",
       "    .dataframe thead th {\n",
       "        text-align: right;\n",
       "    }\n",
       "</style>\n",
       "<table border=\"1\" class=\"dataframe\">\n",
       "  <thead>\n",
       "    <tr style=\"text-align: right;\">\n",
       "      <th></th>\n",
       "      <th>Missing Values</th>\n",
       "      <th>% of Total Values</th>\n",
       "    </tr>\n",
       "  </thead>\n",
       "  <tbody>\n",
       "  </tbody>\n",
       "</table>\n",
       "</div>"
      ],
      "text/plain": [
       "Empty DataFrame\n",
       "Columns: [Missing Values, % of Total Values]\n",
       "Index: []"
      ]
     },
     "execution_count": 85,
     "metadata": {},
     "output_type": "execute_result"
    }
   ],
   "source": [
    "# 缺失值筛查\n",
    "def missing_values_table(df):\n",
    "    mis_val = df.isnull().sum()\n",
    "    mis_val_pct = 100 * mis_val/len(df)\n",
    "    mis_val_table = pd.concat([mis_val, mis_val_pct], axis=1)\n",
    "    mis_val_table.rename(columns={0: 'Missing Values', 1: '% of Total Values'}, inplace=True)\n",
    "    mis_val_table = mis_val_table[mis_val_table.iloc[:, 1] != 0].sort_values('% of Total Values', ascending=False).round(1)\n",
    "    return mis_val_table\n",
    "missing_loan = missing_values_table(df)\n",
    "missing_loan"
   ]
  },
  {
   "cell_type": "code",
   "execution_count": 86,
   "metadata": {
    "collapsed": true
   },
   "outputs": [],
   "source": [
    "# 检查是否含有None\n",
    "#df.groupby(['涨跌额'])['涨跌额'].count()\n",
    "\n",
    "df.loc[df.涨跌幅=='None','涨跌幅'] =0\n",
    "df.loc[df.涨跌额=='None','涨跌额'] =0"
   ]
  },
  {
   "cell_type": "code",
   "execution_count": 87,
   "metadata": {},
   "outputs": [
    {
     "name": "stdout",
     "output_type": "stream",
     "text": [
      "<class 'pandas.core.frame.DataFrame'>\n",
      "Int64Index: 2200 entries, 0 to 2199\n",
      "Data columns (total 15 columns):\n",
      " #   Column  Non-Null Count  Dtype  \n",
      "---  ------  --------------  -----  \n",
      " 0   日期      2200 non-null   object \n",
      " 1   股票代码    2200 non-null   object \n",
      " 2   名称      2200 non-null   object \n",
      " 3   收盘价     2200 non-null   float64\n",
      " 4   最高价     2200 non-null   float64\n",
      " 5   最低价     2200 non-null   float64\n",
      " 6   开盘价     2200 non-null   float64\n",
      " 7   前收盘     2200 non-null   float64\n",
      " 8   涨跌额     2200 non-null   object \n",
      " 9   涨跌幅     2200 non-null   object \n",
      " 10  换手率     2200 non-null   float64\n",
      " 11  成交量     2200 non-null   int64  \n",
      " 12  成交金额    2200 non-null   float64\n",
      " 13  总市值     2200 non-null   float64\n",
      " 14  流通市值    2200 non-null   float64\n",
      "dtypes: float64(9), int64(1), object(5)\n",
      "memory usage: 275.0+ KB\n"
     ]
    }
   ],
   "source": [
    "df.info()"
   ]
  },
  {
   "cell_type": "code",
   "execution_count": 88,
   "metadata": {},
   "outputs": [
    {
     "data": {
      "text/plain": [
       "股票代码        '002572\n",
       "名称              索菲亚\n",
       "收盘价           19.33\n",
       "最高价           19.39\n",
       "最低价           18.91\n",
       "开盘价           19.18\n",
       "前收盘           19.19\n",
       "涨跌额            0.14\n",
       "涨跌幅          0.7295\n",
       "换手率          0.5712\n",
       "成交量         5211539\n",
       "成交金额    9.99522e+07\n",
       "总市值     1.76361e+10\n",
       "流通市值    1.76361e+10\n",
       "Name: 2020-04-22, dtype: object"
      ]
     },
     "execution_count": 88,
     "metadata": {},
     "output_type": "execute_result"
    }
   ],
   "source": [
    "# 改变索引\n",
    "df = df.set_index(\"日期\")\n",
    "df.loc['2020-04-22']"
   ]
  },
  {
   "cell_type": "code",
   "execution_count": 89,
   "metadata": {},
   "outputs": [
    {
     "data": {
      "text/html": [
       "<div>\n",
       "<style scoped>\n",
       "    .dataframe tbody tr th:only-of-type {\n",
       "        vertical-align: middle;\n",
       "    }\n",
       "\n",
       "    .dataframe tbody tr th {\n",
       "        vertical-align: top;\n",
       "    }\n",
       "\n",
       "    .dataframe thead th {\n",
       "        text-align: right;\n",
       "    }\n",
       "</style>\n",
       "<table border=\"1\" class=\"dataframe\">\n",
       "  <thead>\n",
       "    <tr style=\"text-align: right;\">\n",
       "      <th></th>\n",
       "      <th>日期</th>\n",
       "      <th>股票代码</th>\n",
       "      <th>名称</th>\n",
       "      <th>收盘价</th>\n",
       "      <th>最高价</th>\n",
       "      <th>最低价</th>\n",
       "      <th>开盘价</th>\n",
       "      <th>前收盘</th>\n",
       "      <th>涨跌额</th>\n",
       "      <th>涨跌幅</th>\n",
       "      <th>换手率</th>\n",
       "      <th>成交量</th>\n",
       "      <th>成交金额</th>\n",
       "      <th>总市值</th>\n",
       "      <th>流通市值</th>\n",
       "    </tr>\n",
       "  </thead>\n",
       "  <tbody>\n",
       "    <tr>\n",
       "      <th>0</th>\n",
       "      <td>2020-04-22</td>\n",
       "      <td>'002572</td>\n",
       "      <td>索菲亚</td>\n",
       "      <td>19.33</td>\n",
       "      <td>19.39</td>\n",
       "      <td>18.91</td>\n",
       "      <td>19.18</td>\n",
       "      <td>19.19</td>\n",
       "      <td>0.14</td>\n",
       "      <td>0.7295</td>\n",
       "      <td>0.5712</td>\n",
       "      <td>5211539</td>\n",
       "      <td>9.995219e+07</td>\n",
       "      <td>1.763611e+10</td>\n",
       "      <td>1.763611e+10</td>\n",
       "    </tr>\n",
       "    <tr>\n",
       "      <th>1</th>\n",
       "      <td>2020-04-21</td>\n",
       "      <td>'002572</td>\n",
       "      <td>索菲亚</td>\n",
       "      <td>19.19</td>\n",
       "      <td>19.57</td>\n",
       "      <td>19.07</td>\n",
       "      <td>19.54</td>\n",
       "      <td>19.75</td>\n",
       "      <td>-0.56</td>\n",
       "      <td>-2.8354</td>\n",
       "      <td>0.8665</td>\n",
       "      <td>7905661</td>\n",
       "      <td>1.523504e+08</td>\n",
       "      <td>1.750838e+10</td>\n",
       "      <td>1.750838e+10</td>\n",
       "    </tr>\n",
       "    <tr>\n",
       "      <th>2</th>\n",
       "      <td>2020-04-20</td>\n",
       "      <td>'002572</td>\n",
       "      <td>索菲亚</td>\n",
       "      <td>19.75</td>\n",
       "      <td>19.88</td>\n",
       "      <td>19.18</td>\n",
       "      <td>19.39</td>\n",
       "      <td>19.21</td>\n",
       "      <td>0.54</td>\n",
       "      <td>2.811</td>\n",
       "      <td>0.9080</td>\n",
       "      <td>8283991</td>\n",
       "      <td>1.622289e+08</td>\n",
       "      <td>1.801931e+10</td>\n",
       "      <td>1.801931e+10</td>\n",
       "    </tr>\n",
       "    <tr>\n",
       "      <th>3</th>\n",
       "      <td>2020-04-17</td>\n",
       "      <td>'002572</td>\n",
       "      <td>索菲亚</td>\n",
       "      <td>19.21</td>\n",
       "      <td>19.68</td>\n",
       "      <td>19.12</td>\n",
       "      <td>19.40</td>\n",
       "      <td>19.10</td>\n",
       "      <td>0.11</td>\n",
       "      <td>0.5759</td>\n",
       "      <td>1.0886</td>\n",
       "      <td>9931739</td>\n",
       "      <td>1.922523e+08</td>\n",
       "      <td>1.752663e+10</td>\n",
       "      <td>1.752663e+10</td>\n",
       "    </tr>\n",
       "    <tr>\n",
       "      <th>4</th>\n",
       "      <td>2020-04-16</td>\n",
       "      <td>'002572</td>\n",
       "      <td>索菲亚</td>\n",
       "      <td>19.10</td>\n",
       "      <td>19.29</td>\n",
       "      <td>18.61</td>\n",
       "      <td>18.76</td>\n",
       "      <td>18.86</td>\n",
       "      <td>0.24</td>\n",
       "      <td>1.2725</td>\n",
       "      <td>0.9970</td>\n",
       "      <td>9096367</td>\n",
       "      <td>1.732171e+08</td>\n",
       "      <td>1.742627e+10</td>\n",
       "      <td>1.742627e+10</td>\n",
       "    </tr>\n",
       "  </tbody>\n",
       "</table>\n",
       "</div>"
      ],
      "text/plain": [
       "           日期     股票代码   名称    收盘价    最高价    最低价    开盘价    前收盘    涨跌额  \\\n",
       "0  2020-04-22  '002572  索菲亚  19.33  19.39  18.91  19.18  19.19   0.14   \n",
       "1  2020-04-21  '002572  索菲亚  19.19  19.57  19.07  19.54  19.75  -0.56   \n",
       "2  2020-04-20  '002572  索菲亚  19.75  19.88  19.18  19.39  19.21   0.54   \n",
       "3  2020-04-17  '002572  索菲亚  19.21  19.68  19.12  19.40  19.10   0.11   \n",
       "4  2020-04-16  '002572  索菲亚  19.10  19.29  18.61  18.76  18.86   0.24   \n",
       "\n",
       "       涨跌幅     换手率      成交量          成交金额           总市值          流通市值  \n",
       "0   0.7295  0.5712  5211539  9.995219e+07  1.763611e+10  1.763611e+10  \n",
       "1  -2.8354  0.8665  7905661  1.523504e+08  1.750838e+10  1.750838e+10  \n",
       "2    2.811  0.9080  8283991  1.622289e+08  1.801931e+10  1.801931e+10  \n",
       "3   0.5759  1.0886  9931739  1.922523e+08  1.752663e+10  1.752663e+10  \n",
       "4   1.2725  0.9970  9096367  1.732171e+08  1.742627e+10  1.742627e+10  "
      ]
     },
     "execution_count": 89,
     "metadata": {},
     "output_type": "execute_result"
    }
   ],
   "source": [
    "# 恢复索引\n",
    "df = df.reset_index()\n",
    "df.head(5)"
   ]
  },
  {
   "cell_type": "code",
   "execution_count": 90,
   "metadata": {},
   "outputs": [
    {
     "name": "stdout",
     "output_type": "stream",
     "text": [
      "df Index(['日期', '股票代码', '名称', '收盘价', '最高价', '最低价', '开盘价', '前收盘', '涨跌额', '涨跌幅',\n",
      "       '换手率', '成交量', '成交金额', '总市值', '流通市值'],\n",
      "      dtype='object')\n"
     ]
    }
   ],
   "source": [
    "# 展示所有列\n",
    "print('df',df.columns)"
   ]
  },
  {
   "cell_type": "markdown",
   "metadata": {},
   "source": [
    "# 3、分析数据"
   ]
  },
  {
   "cell_type": "code",
   "execution_count": 91,
   "metadata": {},
   "outputs": [
    {
     "data": {
      "text/html": [
       "<div>\n",
       "<style scoped>\n",
       "    .dataframe tbody tr th:only-of-type {\n",
       "        vertical-align: middle;\n",
       "    }\n",
       "\n",
       "    .dataframe tbody tr th {\n",
       "        vertical-align: top;\n",
       "    }\n",
       "\n",
       "    .dataframe thead th {\n",
       "        text-align: right;\n",
       "    }\n",
       "</style>\n",
       "<table border=\"1\" class=\"dataframe\">\n",
       "  <thead>\n",
       "    <tr style=\"text-align: right;\">\n",
       "      <th></th>\n",
       "      <th>日期</th>\n",
       "      <th>涨跌幅</th>\n",
       "    </tr>\n",
       "  </thead>\n",
       "  <tbody>\n",
       "    <tr>\n",
       "      <th>0</th>\n",
       "      <td>2020-04-22</td>\n",
       "      <td>0.7295</td>\n",
       "    </tr>\n",
       "    <tr>\n",
       "      <th>2</th>\n",
       "      <td>2020-04-20</td>\n",
       "      <td>2.8110</td>\n",
       "    </tr>\n",
       "    <tr>\n",
       "      <th>3</th>\n",
       "      <td>2020-04-17</td>\n",
       "      <td>0.5759</td>\n",
       "    </tr>\n",
       "    <tr>\n",
       "      <th>4</th>\n",
       "      <td>2020-04-16</td>\n",
       "      <td>1.2725</td>\n",
       "    </tr>\n",
       "    <tr>\n",
       "      <th>5</th>\n",
       "      <td>2020-04-15</td>\n",
       "      <td>0.4260</td>\n",
       "    </tr>\n",
       "  </tbody>\n",
       "</table>\n",
       "</div>"
      ],
      "text/plain": [
       "           日期     涨跌幅\n",
       "0  2020-04-22  0.7295\n",
       "2  2020-04-20  2.8110\n",
       "3  2020-04-17  0.5759\n",
       "4  2020-04-16  1.2725\n",
       "5  2020-04-15  0.4260"
      ]
     },
     "execution_count": 91,
     "metadata": {},
     "output_type": "execute_result"
    }
   ],
   "source": [
    "#pd.set_option('display.max_rows',2000)\n",
    "df_copy = df\n",
    "# '涨跌幅'原来是str 先转换成 float ，后面才能与0比较\n",
    "df_copy['涨跌幅'] = df_copy['涨跌幅'].astype('float')\n",
    "df_copy.loc[df_copy.涨跌幅>0,['日期','涨跌幅']].head()"
   ]
  },
  {
   "cell_type": "code",
   "execution_count": 92,
   "metadata": {},
   "outputs": [
    {
     "data": {
      "text/html": [
       "<div>\n",
       "<style scoped>\n",
       "    .dataframe tbody tr th:only-of-type {\n",
       "        vertical-align: middle;\n",
       "    }\n",
       "\n",
       "    .dataframe tbody tr th {\n",
       "        vertical-align: top;\n",
       "    }\n",
       "\n",
       "    .dataframe thead th {\n",
       "        text-align: right;\n",
       "    }\n",
       "</style>\n",
       "<table border=\"1\" class=\"dataframe\">\n",
       "  <thead>\n",
       "    <tr style=\"text-align: right;\">\n",
       "      <th></th>\n",
       "      <th>日期</th>\n",
       "      <th>股票代码</th>\n",
       "      <th>收盘价</th>\n",
       "      <th>涨跌幅</th>\n",
       "    </tr>\n",
       "  </thead>\n",
       "  <tbody>\n",
       "    <tr>\n",
       "      <th>0</th>\n",
       "      <td>2020-04-22</td>\n",
       "      <td>'002572</td>\n",
       "      <td>19.33</td>\n",
       "      <td>0.7295</td>\n",
       "    </tr>\n",
       "    <tr>\n",
       "      <th>1</th>\n",
       "      <td>2020-04-21</td>\n",
       "      <td>'002572</td>\n",
       "      <td>19.19</td>\n",
       "      <td>-2.8354</td>\n",
       "    </tr>\n",
       "    <tr>\n",
       "      <th>2</th>\n",
       "      <td>2020-04-20</td>\n",
       "      <td>'002572</td>\n",
       "      <td>19.75</td>\n",
       "      <td>2.8110</td>\n",
       "    </tr>\n",
       "    <tr>\n",
       "      <th>3</th>\n",
       "      <td>2020-04-17</td>\n",
       "      <td>'002572</td>\n",
       "      <td>19.21</td>\n",
       "      <td>0.5759</td>\n",
       "    </tr>\n",
       "    <tr>\n",
       "      <th>4</th>\n",
       "      <td>2020-04-16</td>\n",
       "      <td>'002572</td>\n",
       "      <td>19.10</td>\n",
       "      <td>1.2725</td>\n",
       "    </tr>\n",
       "    <tr>\n",
       "      <th>5</th>\n",
       "      <td>2020-04-15</td>\n",
       "      <td>'002572</td>\n",
       "      <td>18.86</td>\n",
       "      <td>0.4260</td>\n",
       "    </tr>\n",
       "    <tr>\n",
       "      <th>6</th>\n",
       "      <td>2020-04-14</td>\n",
       "      <td>'002572</td>\n",
       "      <td>18.78</td>\n",
       "      <td>0.5892</td>\n",
       "    </tr>\n",
       "    <tr>\n",
       "      <th>7</th>\n",
       "      <td>2020-04-13</td>\n",
       "      <td>'002572</td>\n",
       "      <td>18.67</td>\n",
       "      <td>2.1335</td>\n",
       "    </tr>\n",
       "  </tbody>\n",
       "</table>\n",
       "</div>"
      ],
      "text/plain": [
       "           日期     股票代码    收盘价     涨跌幅\n",
       "0  2020-04-22  '002572  19.33  0.7295\n",
       "1  2020-04-21  '002572  19.19 -2.8354\n",
       "2  2020-04-20  '002572  19.75  2.8110\n",
       "3  2020-04-17  '002572  19.21  0.5759\n",
       "4  2020-04-16  '002572  19.10  1.2725\n",
       "5  2020-04-15  '002572  18.86  0.4260\n",
       "6  2020-04-14  '002572  18.78  0.5892\n",
       "7  2020-04-13  '002572  18.67  2.1335"
      ]
     },
     "execution_count": 92,
     "metadata": {},
     "output_type": "execute_result"
    }
   ],
   "source": [
    "# loc查看数据\n",
    "df_copy.loc[df.日期 > '2020-04-10',['日期','股票代码','收盘价','涨跌幅']]"
   ]
  },
  {
   "cell_type": "code",
   "execution_count": 93,
   "metadata": {
    "collapsed": true
   },
   "outputs": [],
   "source": [
    "# query 查看数据\n",
    "df2 = df_copy.query(\"日期 > '2020-02-10'\")[['日期','股票代码','收盘价','涨跌幅']].head(50) "
   ]
  },
  {
   "cell_type": "code",
   "execution_count": 94,
   "metadata": {},
   "outputs": [
    {
     "data": {
      "image/png": "[encoded data removed]",
      "text/plain": [
       "<Figure size 432x288 with 1 Axes>"
      ]
     },
     "metadata": {},
     "output_type": "display_data"
    }
   ],
   "source": [
    "plt.style.use('ggplot')\n",
    "#解决中文显示问题\n",
    "plt.rcParams['font.sans-serif'] = ['KaiTi'] # 指定默认字体\n",
    "plt.rcParams['axes.unicode_minus'] = False # 解决保存图像是负号'-'显示为方块的问题\n",
    "\n",
    "df2.groupby('日期')['收盘价'].max().reset_index()\n",
    "df2['收盘价'].sort_index().plot(kind='bar', title=u'索菲亚')\n",
    "plt.show()\n"
   ]
  },
  {
   "cell_type": "code",
   "execution_count": 95,
   "metadata": {},
   "outputs": [
    {
     "data": {
      "image/png": "[encoded data removed]",
      "text/plain": [
       "<Figure size 436x360 with 1 Axes>"
      ]
     },
     "metadata": {},
     "output_type": "display_data"
    }
   ],
   "source": [
    "sns.relplot(x= \"日期\", y= \"收盘价\", hue= \"股票代码\", kind= \"line\", data=df2)\n",
    "plt.show()"
   ]
  },
  {
   "cell_type": "code",
   "execution_count": 96,
   "metadata": {},
   "outputs": [
    {
     "data": {
      "image/png": "[encoded data removed]",
      "text/plain": [
       "<Figure size 431x360 with 1 Axes>"
      ]
     },
     "metadata": {},
     "output_type": "display_data"
    }
   ],
   "source": [
    "sns.catplot(x= u\"日期\", y= u\"收盘价\",hue= u\"股票代码\", kind= \"bar\", data=df2)\n",
    "plt.show()"
   ]
  },
  {
   "cell_type": "code",
   "execution_count": 97,
   "metadata": {},
   "outputs": [
    {
     "data": {
      "image/png": "[encoded data removed]",
      "text/plain": [
       "<Figure size 432x288 with 1 Axes>"
      ]
     },
     "metadata": {},
     "output_type": "display_data"
    }
   ],
   "source": [
    "sns.lineplot(x=u\"日期\", y=u\"收盘价\",hue=u\"股票代码\", data=df2)\n",
    "plt.show()"
   ]
  },
  {
   "cell_type": "code",
   "execution_count": 98,
   "metadata": {},
   "outputs": [
    {
     "data": {
      "image/png": "[encoded data removed]",
      "text/plain": [
       "<Figure size 432x288 with 1 Axes>"
      ]
     },
     "metadata": {},
     "output_type": "display_data"
    }
   ],
   "source": [
    "# 两条线在一个图上显示\n",
    "list_data = [df2.loc[:, \"收盘价\"], df2.loc[:, \"涨跌幅\"]]\n",
    "\n",
    "ax = sns.lineplot(data=list_data)\n",
    "plt.show()"
   ]
  },
  {
   "cell_type": "code",
   "execution_count": 99,
   "metadata": {},
   "outputs": [
    {
     "data": {
      "image/png": "[encoded data removed]",
      "text/plain": [
       "<Figure size 1008x720 with 1 Axes>"
      ]
     },
     "metadata": {},
     "output_type": "display_data"
    }
   ],
   "source": [
    "f, ax = plt.subplots(figsize = (14, 10))\n",
    "\n",
    "# 设置颜色\n",
    "cmap = sns.cubehelix_palette(start = 1, rot = 3, gamma=0.8, as_cmap = True)\n",
    "\n",
    "# color: https://matplotlib.org/users/colormaps.html\n",
    "sns.lineplot(x=u\"日期\", y=u\"收盘价\",hue=u\"股票代码\", data=df2, ax=ax)\n",
    "\n",
    "ax.set_title('股票K线图', fontsize=18, position=(0.5,1.05))\n",
    "\n",
    "#ax.tick_params(axis=u\"日期\",labelsize=6, colors='b', labeltop=False, labelbottom=False) \n",
    "ax.set_xticklabels(df2['日期'], rotation=-90)\n",
    "plt.show()"
   ]
  },
  {
   "cell_type": "code",
   "execution_count": null,
   "metadata": {
    "collapsed": true
   },
   "outputs": [],
   "source": []
  }
 ],
 "metadata": {
  "kernelspec": {
   "display_name": "Python 3",
   "language": "python",
   "name": "python3"
  },
  "language_info": {
   "codemirror_mode": {
    "name": "ipython",
    "version": 3
   },
   "file_extension": ".py",
   "mimetype": "text/x-python",
   "name": "python",
   "nbconvert_exporter": "python",
   "pygments_lexer": "ipython3",
   "version": "3.6.2"
  }
 },
 "nbformat": 4,
 "nbformat_minor": 2
}
