{
 "cells": [
  {
   "cell_type": "code",
   "execution_count": 1,
   "metadata": {},
   "outputs": [
    {
     "data": {
      "text/html": [
       "        <script type=\"text/javascript\">\n",
       "        window.PlotlyConfig = {MathJaxConfig: 'local'};\n",
       "        if (window.MathJax) {MathJax.Hub.Config({SVG: {font: \"STIX-Web\"}});}\n",
       "        if (typeof require !== 'undefined') {\n",
       "        require.undef(\"plotly\");\n",
       "        requirejs.config({\n",
       "            paths: {\n",
       "                'plotly': ['https://cdn.plot.ly/plotly-latest.min']\n",
       "            }\n",
       "        });\n",
       "        require(['plotly'], function(Plotly) {\n",
       "            window._Plotly = Plotly;\n",
       "        });\n",
       "        }\n",
       "        </script>\n",
       "        "
      ]
     },
     "metadata": {},
     "output_type": "display_data"
    }
   ],
   "source": [
    "import talib                   #量化金融技术分析库\n",
    "import os\n",
    "import pandas as pd\n",
    "import numpy as np\n",
    "import cufflinks as cf\n",
    "import chart_studio.plotly as py\n",
    "import plotly.graph_objs as go\n",
    "import plotly.offline as pyoff\n",
    "import plotly.io as pio\n",
    "import plotly\n",
    "import datetime\n",
    "import time"
   ]
  },
  {
   "cell_type": "code",
   "execution_count": 2,
   "metadata": {},
   "outputs": [],
   "source": [
    "start = time.time()"
   ]
  },
  {
   "cell_type": "code",
   "execution_count": 3,
   "metadata": {},
   "outputs": [],
   "source": [
    "# 插入py文件，调用里面的函数\n",
    "from Stock_Interface import cli_kdj\n",
    "from Stock_Interface import read_finance_year\n",
    "from Stock_Interface.read_finance_year import read_stock, read_newyear"
   ]
  },
  {
   "cell_type": "code",
   "execution_count": 4,
   "metadata": {},
   "outputs": [],
   "source": [
    "# 读取year\n",
    "def read_stock_list():\n",
    "    df = pd.read_excel('../JN_DataWarehouse/stock_analysis/TuShare/stock_list.xls', index_col=False)\n",
    "    del df['Unnamed: 0']\n",
    "    \n",
    "    return df"
   ]
  },
  {
   "cell_type": "code",
   "execution_count": 5,
   "metadata": {},
   "outputs": [],
   "source": [
    "df_stock_list = read_stock_list()"
   ]
  },
  {
   "cell_type": "code",
   "execution_count": 6,
   "metadata": {},
   "outputs": [
    {
     "data": {
      "text/html": [
       "<div>\n",
       "<style scoped>\n",
       "    .dataframe tbody tr th:only-of-type {\n",
       "        vertical-align: middle;\n",
       "    }\n",
       "\n",
       "    .dataframe tbody tr th {\n",
       "        vertical-align: top;\n",
       "    }\n",
       "\n",
       "    .dataframe thead th {\n",
       "        text-align: right;\n",
       "    }\n",
       "</style>\n",
       "<table border=\"1\" class=\"dataframe\">\n",
       "  <thead>\n",
       "    <tr style=\"text-align: right;\">\n",
       "      <th></th>\n",
       "      <th>ts_code</th>\n",
       "      <th>symbol</th>\n",
       "    </tr>\n",
       "  </thead>\n",
       "  <tbody>\n",
       "    <tr>\n",
       "      <th>2312</th>\n",
       "      <td>600000.SH</td>\n",
       "      <td>600000</td>\n",
       "    </tr>\n",
       "    <tr>\n",
       "      <th>2313</th>\n",
       "      <td>600004.SH</td>\n",
       "      <td>600004</td>\n",
       "    </tr>\n",
       "    <tr>\n",
       "      <th>2314</th>\n",
       "      <td>600006.SH</td>\n",
       "      <td>600006</td>\n",
       "    </tr>\n",
       "    <tr>\n",
       "      <th>2315</th>\n",
       "      <td>600007.SH</td>\n",
       "      <td>600007</td>\n",
       "    </tr>\n",
       "    <tr>\n",
       "      <th>2316</th>\n",
       "      <td>600008.SH</td>\n",
       "      <td>600008</td>\n",
       "    </tr>\n",
       "    <tr>\n",
       "      <th>2317</th>\n",
       "      <td>600009.SH</td>\n",
       "      <td>600009</td>\n",
       "    </tr>\n",
       "  </tbody>\n",
       "</table>\n",
       "</div>"
      ],
      "text/plain": [
       "        ts_code  symbol\n",
       "2312  600000.SH  600000\n",
       "2313  600004.SH  600004\n",
       "2314  600006.SH  600006\n",
       "2315  600007.SH  600007\n",
       "2316  600008.SH  600008\n",
       "2317  600009.SH  600009"
      ]
     },
     "execution_count": 6,
     "metadata": {},
     "output_type": "execute_result"
    }
   ],
   "source": [
    "df_symbol = df_stock_list.loc[df_stock_list[\"ts_code\"].str.startswith('60000'),['ts_code','symbol']]\n",
    "df_symbol"
   ]
  },
  {
   "cell_type": "code",
   "execution_count": null,
   "metadata": {},
   "outputs": [],
   "source": [
    "df_result = pd.DataFrame()\n",
    "df_all = read_newyear()\n",
    "\n",
    "for stock_code in df_symbol['symbol'].values.astype('str'):\n",
    "    #stock_code = '601939'\n",
    "    today = datetime.date.today()                #datetime.date类型日期  today = datetime.date(2019,11,15)\n",
    "    today = today -  datetime.timedelta(365*0)\n",
    "    A3yday = today - datetime.timedelta(365*0.5)\n",
    "    startDate = A3yday.strftime('%Y%m%d')        #字符串型日期\n",
    "    endDate = today.strftime('%Y%m%d')\n",
    "    from Stock_Interface import read_finance_year\n",
    "    stock_name =  read_finance_year.read_companyInfo(stock_code)\n",
    "\n",
    "    df = read_stock( df_all, stock_code, startDate, endDate )\n",
    "    df_mode = cli_kdj.build_mode(df, stock_code, stock_name, startDate, endDate)\n",
    "    df_result = df_result.append(df_mode.tail(1), ignore_index=True)\n",
    "    #fig = cli_fiveLine.show_save_image(df_mode, stock_code, stock_name)\n",
    "\n",
    "df_result = df_result.to_excel('../JN_DataWarehouse/stock_analysis/tmp/BAT_KDJ_data.xls')"
   ]
  },
  {
   "cell_type": "code",
   "execution_count": null,
   "metadata": {},
   "outputs": [],
   "source": [
    "df_result"
   ]
  },
  {
   "cell_type": "code",
   "execution_count": null,
   "metadata": {},
   "outputs": [],
   "source": [
    "print('finish:%.4f'%(time.time()-start))"
   ]
  },
  {
   "cell_type": "code",
   "execution_count": null,
   "metadata": {},
   "outputs": [],
   "source": []
  }
 ],
 "metadata": {
  "kernelspec": {
   "display_name": "Python 3",
   "language": "python",
   "name": "python3"
  },
  "language_info": {
   "codemirror_mode": {
    "name": "ipython",
    "version": 3
   },
   "file_extension": ".py",
   "mimetype": "text/x-python",
   "name": "python",
   "nbconvert_exporter": "python",
   "pygments_lexer": "ipython3",
   "version": "3.8.3"
  }
 },
 "nbformat": 4,
 "nbformat_minor": 4
}
