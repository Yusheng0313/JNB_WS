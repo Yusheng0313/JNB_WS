{
 "cells": [
  {
   "cell_type": "code",
   "execution_count": 1,
   "metadata": {
    "colab": {
     "base_uri": "https://localhost:8080/",
     "height": 50
    },
    "executionInfo": {
     "elapsed": 2667,
     "status": "ok",
     "timestamp": 1601090551189,
     "user": {
      "displayName": "fy candy",
      "photoUrl": "",
      "userId": "04266971600049142746"
     },
     "user_tz": -480
    },
    "id": "11KvJtdKOV3q",
    "outputId": "56bb74da-f164-47c1-86cf-ec7f603a6c85"
   },
   "outputs": [],
   "source": [
    "# -*- coding: utf-8 -*-\n",
    "import pandas as pd\n",
    "import numpy as np\n",
    "import matplotlib.pyplot as plt\n",
    "import seaborn as sns\n",
    "import os, sys\n",
    "import time\n",
    "from datetime import datetime, timedelta\n",
    "import talib\n",
    "import tushare as ts\n",
    "import datetime"
   ]
  },
  {
   "cell_type": "code",
   "execution_count": 2,
   "metadata": {},
   "outputs": [],
   "source": [
    "start = time.time()"
   ]
  },
  {
   "cell_type": "code",
   "execution_count": 3,
   "metadata": {
    "executionInfo": {
     "elapsed": 2660,
     "status": "ok",
     "timestamp": 1601090551191,
     "user": {
      "displayName": "fy candy",
      "photoUrl": "",
      "userId": "04266971600049142746"
     },
     "user_tz": -480
    },
    "id": "udbNpJhTObN9"
   },
   "outputs": [],
   "source": [
    "#显示所有列\n",
    "pd.set_option(\"display.max_columns\", None) \n",
    "#显示所有行，慎用，容易死机\n",
    "#pd.set_option(\"display.max_rows\", None) \n",
    "from pylab import mpl\n",
    "mpl.rcParams['font.sans-serif']=['SimHei']\n",
    "mpl.rcParams['axes.unicode_minus']=False"
   ]
  },
  {
   "cell_type": "markdown",
   "metadata": {
    "id": "QOy1rK2k_v9c"
   },
   "source": [
    "# 1、读入数仓数据"
   ]
  },
  {
   "cell_type": "code",
   "execution_count": 4,
   "metadata": {
    "id": "7g9VIyvk_v9e"
   },
   "outputs": [],
   "source": [
    "# 读取year\n",
    "def read_newyear():\n",
    "    df = pd.read_csv('../JN_DataWarehouse/stock_analysis/TuShare/new_year.csv' ,index_col=False)\n",
    "    \n",
    "    del df['Unnamed: 0']\n",
    "    return df"
   ]
  },
  {
   "cell_type": "code",
   "execution_count": 5,
   "metadata": {
    "id": "DFWPcXUp_v9n"
   },
   "outputs": [
    {
     "data": {
      "text/html": [
       "<div>\n",
       "<style scoped>\n",
       "    .dataframe tbody tr th:only-of-type {\n",
       "        vertical-align: middle;\n",
       "    }\n",
       "\n",
       "    .dataframe tbody tr th {\n",
       "        vertical-align: top;\n",
       "    }\n",
       "\n",
       "    .dataframe thead th {\n",
       "        text-align: right;\n",
       "    }\n",
       "</style>\n",
       "<table border=\"1\" class=\"dataframe\">\n",
       "  <thead>\n",
       "    <tr style=\"text-align: right;\">\n",
       "      <th></th>\n",
       "      <th>ts_code</th>\n",
       "      <th>trade_date</th>\n",
       "      <th>open</th>\n",
       "      <th>high</th>\n",
       "      <th>low</th>\n",
       "      <th>close</th>\n",
       "      <th>pre_close</th>\n",
       "      <th>change</th>\n",
       "      <th>pct_chg</th>\n",
       "      <th>vol</th>\n",
       "      <th>amount</th>\n",
       "    </tr>\n",
       "  </thead>\n",
       "  <tbody>\n",
       "    <tr>\n",
       "      <th>0</th>\n",
       "      <td>002007.SZ</td>\n",
       "      <td>20110104</td>\n",
       "      <td>48.51</td>\n",
       "      <td>48.69</td>\n",
       "      <td>47.42</td>\n",
       "      <td>48.13</td>\n",
       "      <td>48.39</td>\n",
       "      <td>-0.26</td>\n",
       "      <td>-0.54</td>\n",
       "      <td>50208.66</td>\n",
       "      <td>240624.7194</td>\n",
       "    </tr>\n",
       "    <tr>\n",
       "      <th>1</th>\n",
       "      <td>000088.SZ</td>\n",
       "      <td>20110104</td>\n",
       "      <td>6.15</td>\n",
       "      <td>6.18</td>\n",
       "      <td>6.09</td>\n",
       "      <td>6.17</td>\n",
       "      <td>6.13</td>\n",
       "      <td>0.04</td>\n",
       "      <td>0.65</td>\n",
       "      <td>22159.02</td>\n",
       "      <td>13623.5458</td>\n",
       "    </tr>\n",
       "    <tr>\n",
       "      <th>2</th>\n",
       "      <td>000068.SZ</td>\n",
       "      <td>20110104</td>\n",
       "      <td>6.01</td>\n",
       "      <td>6.30</td>\n",
       "      <td>5.94</td>\n",
       "      <td>6.30</td>\n",
       "      <td>6.00</td>\n",
       "      <td>0.30</td>\n",
       "      <td>5.00</td>\n",
       "      <td>109392.70</td>\n",
       "      <td>66681.5565</td>\n",
       "    </tr>\n",
       "    <tr>\n",
       "      <th>3</th>\n",
       "      <td>600167.SH</td>\n",
       "      <td>20110104</td>\n",
       "      <td>9.62</td>\n",
       "      <td>9.78</td>\n",
       "      <td>9.58</td>\n",
       "      <td>9.74</td>\n",
       "      <td>9.63</td>\n",
       "      <td>0.11</td>\n",
       "      <td>1.14</td>\n",
       "      <td>8403.49</td>\n",
       "      <td>8151.7650</td>\n",
       "    </tr>\n",
       "    <tr>\n",
       "      <th>4</th>\n",
       "      <td>002418.SZ</td>\n",
       "      <td>20110104</td>\n",
       "      <td>22.05</td>\n",
       "      <td>22.64</td>\n",
       "      <td>22.01</td>\n",
       "      <td>22.58</td>\n",
       "      <td>22.00</td>\n",
       "      <td>0.58</td>\n",
       "      <td>2.64</td>\n",
       "      <td>12609.19</td>\n",
       "      <td>28261.5130</td>\n",
       "    </tr>\n",
       "  </tbody>\n",
       "</table>\n",
       "</div>"
      ],
      "text/plain": [
       "     ts_code  trade_date   open   high    low  close  pre_close  change  \\\n",
       "0  002007.SZ    20110104  48.51  48.69  47.42  48.13      48.39   -0.26   \n",
       "1  000088.SZ    20110104   6.15   6.18   6.09   6.17       6.13    0.04   \n",
       "2  000068.SZ    20110104   6.01   6.30   5.94   6.30       6.00    0.30   \n",
       "3  600167.SH    20110104   9.62   9.78   9.58   9.74       9.63    0.11   \n",
       "4  002418.SZ    20110104  22.05  22.64  22.01  22.58      22.00    0.58   \n",
       "\n",
       "   pct_chg        vol       amount  \n",
       "0    -0.54   50208.66  240624.7194  \n",
       "1     0.65   22159.02   13623.5458  \n",
       "2     5.00  109392.70   66681.5565  \n",
       "3     1.14    8403.49    8151.7650  \n",
       "4     2.64   12609.19   28261.5130  "
      ]
     },
     "execution_count": 5,
     "metadata": {},
     "output_type": "execute_result"
    }
   ],
   "source": [
    "df_stock_all = read_newyear()\n",
    "df_stock_all.head()"
   ]
  },
  {
   "cell_type": "markdown",
   "metadata": {
    "id": "bCDtL_5k_v9u"
   },
   "source": [
    "# 2、 RSI运算"
   ]
  },
  {
   "cell_type": "code",
   "execution_count": 6,
   "metadata": {},
   "outputs": [],
   "source": [
    "stock_code = '600000'\n",
    "today = datetime.date.today()                #datetime.date类型日期  today = datetime.date(2019,11,15)\n",
    "today = today -  datetime.timedelta(365*0)\n",
    "A3yday = today - datetime.timedelta(365*0.5)\n",
    "startDate = A3yday.strftime('%Y%m%d')        #字符串型日期\n",
    "endDate = today.strftime('%Y%m%d')\n",
    "from Stock_Interface import read_finance_year   \n",
    "stock_name =  read_finance_year.read_companyInfo(stock_code)\n",
    "\n",
    "df = df_stock_all.query(\"ts_code.str.startswith('\"+stock_code+\"')\",engine='python')    \n",
    "df = df.query(\"trade_date > \"+startDate+\" & trade_date < \"+endDate+\"\")\n",
    "\n",
    "# 日期转换\n",
    "df[\"trade_date\"] = pd.to_datetime(df[\"trade_date\"], format='%Y%m%d')\n",
    "df[\"trade_date\"] = df['trade_date'].apply(lambda x: x.strftime('%Y-%m-%d'))"
   ]
  },
  {
   "cell_type": "code",
   "execution_count": 7,
   "metadata": {},
   "outputs": [
    {
     "data": {
      "text/html": [
       "<div>\n",
       "<style scoped>\n",
       "    .dataframe tbody tr th:only-of-type {\n",
       "        vertical-align: middle;\n",
       "    }\n",
       "\n",
       "    .dataframe tbody tr th {\n",
       "        vertical-align: top;\n",
       "    }\n",
       "\n",
       "    .dataframe thead th {\n",
       "        text-align: right;\n",
       "    }\n",
       "</style>\n",
       "<table border=\"1\" class=\"dataframe\">\n",
       "  <thead>\n",
       "    <tr style=\"text-align: right;\">\n",
       "      <th></th>\n",
       "      <th>ts_code</th>\n",
       "      <th>trade_date</th>\n",
       "      <th>open</th>\n",
       "      <th>high</th>\n",
       "      <th>low</th>\n",
       "      <th>close</th>\n",
       "      <th>pre_close</th>\n",
       "      <th>change</th>\n",
       "      <th>pct_chg</th>\n",
       "      <th>vol</th>\n",
       "      <th>amount</th>\n",
       "    </tr>\n",
       "  </thead>\n",
       "  <tbody>\n",
       "    <tr>\n",
       "      <th>9921779</th>\n",
       "      <td>600000.SH</td>\n",
       "      <td>2020-11-18</td>\n",
       "      <td>9.53</td>\n",
       "      <td>9.77</td>\n",
       "      <td>9.50</td>\n",
       "      <td>9.70</td>\n",
       "      <td>9.53</td>\n",
       "      <td>0.17</td>\n",
       "      <td>1.7838</td>\n",
       "      <td>1094175.13</td>\n",
       "      <td>1059930.873</td>\n",
       "    </tr>\n",
       "    <tr>\n",
       "      <th>9926502</th>\n",
       "      <td>600000.SH</td>\n",
       "      <td>2020-11-19</td>\n",
       "      <td>9.70</td>\n",
       "      <td>9.78</td>\n",
       "      <td>9.64</td>\n",
       "      <td>9.74</td>\n",
       "      <td>9.70</td>\n",
       "      <td>0.04</td>\n",
       "      <td>0.4124</td>\n",
       "      <td>638400.56</td>\n",
       "      <td>620569.638</td>\n",
       "    </tr>\n",
       "    <tr>\n",
       "      <th>9928770</th>\n",
       "      <td>600000.SH</td>\n",
       "      <td>2020-11-20</td>\n",
       "      <td>9.68</td>\n",
       "      <td>9.72</td>\n",
       "      <td>9.61</td>\n",
       "      <td>9.67</td>\n",
       "      <td>9.74</td>\n",
       "      <td>-0.07</td>\n",
       "      <td>-0.7187</td>\n",
       "      <td>466313.60</td>\n",
       "      <td>450166.503</td>\n",
       "    </tr>\n",
       "  </tbody>\n",
       "</table>\n",
       "</div>"
      ],
      "text/plain": [
       "           ts_code  trade_date  open  high   low  close  pre_close  change  \\\n",
       "9921779  600000.SH  2020-11-18  9.53  9.77  9.50   9.70       9.53    0.17   \n",
       "9926502  600000.SH  2020-11-19  9.70  9.78  9.64   9.74       9.70    0.04   \n",
       "9928770  600000.SH  2020-11-20  9.68  9.72  9.61   9.67       9.74   -0.07   \n",
       "\n",
       "         pct_chg         vol       amount  \n",
       "9921779   1.7838  1094175.13  1059930.873  \n",
       "9926502   0.4124   638400.56   620569.638  \n",
       "9928770  -0.7187   466313.60   450166.503  "
      ]
     },
     "execution_count": 7,
     "metadata": {},
     "output_type": "execute_result"
    }
   ],
   "source": [
    "df.tail(3)"
   ]
  },
  {
   "cell_type": "code",
   "execution_count": 8,
   "metadata": {},
   "outputs": [],
   "source": [
    "# 同花顺 KDJ 算法 , \n",
    "# rolling(9, min_periods=9).min() 是每9个数为一个窗口取最小值，不足9个为NaN\n",
    "# expanding().min() 当前行的最小值\n",
    "low_list = df['low'].rolling(9, min_periods=9).min()\n",
    "low_list.fillna(value = df['low'].expanding().min(), inplace = True)\n",
    "high_list = df['high'].rolling(9, min_periods=9).max()\n",
    "high_list.fillna(value = df['high'].expanding().max(), inplace = True)\n",
    "rsv = (df['close'] - low_list) / (high_list - low_list) * 100"
   ]
  },
  {
   "cell_type": "code",
   "execution_count": 9,
   "metadata": {},
   "outputs": [],
   "source": [
    "# ewm(com=2).mean() 指数加权移动平均线\n",
    "dw = pd.DataFrame()\n",
    "dw['trade_date'] = df['trade_date']\n",
    "dw['K'] = pd.DataFrame(rsv).ewm(com=2).mean()\n",
    "dw['D'] = dw['K'].ewm(com=2).mean()\n",
    "dw['J'] = 3 * dw['K'] - 2 * dw['D']\n",
    "dw.index = dw.trade_date"
   ]
  },
  {
   "cell_type": "code",
   "execution_count": 10,
   "metadata": {},
   "outputs": [
    {
     "name": "stdout",
     "output_type": "stream",
     "text": [
      "            trade_date          K          D          J\n",
      "trade_date                                             \n",
      "2020-11-18  2020-11-18  67.901095  58.248196  87.206894\n",
      "2020-11-19  2020-11-19  75.637767  64.044719  98.823862\n",
      "2020-11-20  2020-11-20  75.610363  67.899934  91.031222\n"
     ]
    },
    {
     "data": {
      "image/png": "[encoded data removed]",
      "text/plain": [
       "<Figure size 1152x504 with 2 Axes>"
      ]
     },
     "metadata": {
      "needs_background": "light"
     },
     "output_type": "display_data"
    }
   ],
   "source": [
    "print(dw[-3:])\n",
    "\n",
    "df.index = pd.to_datetime(df.trade_date)\n",
    "# 画股票收盘价图\n",
    "fig,axes = plt.subplots(2,1)\n",
    "df[['close']].plot(ax=axes[0], grid=True, title=stock_code+\" \"+stock_name, figsize=(16,7))\n",
    "# 画 KDJ 曲线图\n",
    "dw[['K','D','J']].plot(ax=axes[1], grid=True)\n",
    "plt.show()"
   ]
  },
  {
   "cell_type": "code",
   "execution_count": 14,
   "metadata": {},
   "outputs": [
    {
     "data": {
      "application/vnd.plotly.v1+json": {
       "config": {
        "plotlyServerURL": "https://plot.ly"
       },
       "data": [
        {
         "type": "scatter",
         "x": [
          "2020-05-29",
          "2020-06-01",
          "2020-06-02",
          "2020-06-03",
          "2020-06-04",
          "2020-06-05",
          "2020-06-08",
          "2020-06-09",
          "2020-06-10",
          "2020-06-11",
          "2020-06-12",
          "2020-06-15",
          "2020-06-16",
          "2020-06-17",
          "2020-06-18",
          "2020-06-19",
          "2020-06-22",
          "2020-06-23",
          "2020-06-24",
          "2020-06-29",
          "2020-06-30",
          "2020-07-01",
          "2020-07-02",
          "2020-07-03",
          "2020-07-06",
          "2020-07-07",
          "2020-07-08",
          "2020-07-09",
          "2020-07-10",
          "2020-07-13",
          "2020-07-14",
          "2020-07-15",
          "2020-07-16",
          "2020-07-17",
          "2020-07-20",
          "2020-07-21",
          "2020-07-22",
          "2020-07-23",
          "2020-07-24",
          "2020-07-27",
          "2020-07-28",
          "2020-07-29",
          "2020-07-30",
          "2020-07-31",
          "2020-08-03",
          "2020-08-04",
          "2020-08-05",
          "2020-08-06",
          "2020-08-07",
          "2020-08-10",
          "2020-08-11",
          "2020-08-12",
          "2020-08-13",
          "2020-08-14",
          "2020-08-17",
          "2020-08-18",
          "2020-08-19",
          "2020-08-20",
          "2020-08-21",
          "2020-08-24",
          "2020-08-25",
          "2020-08-26",
          "2020-08-27",
          "2020-08-28",
          "2020-08-31",
          "2020-09-01",
          "2020-09-02",
          "2020-09-03",
          "2020-09-04",
          "2020-09-07",
          "2020-09-08",
          "2020-09-09",
          "2020-09-10",
          "2020-09-11",
          "2020-09-14",
          "2020-09-15",
          "2020-09-16",
          "2020-09-17",
          "2020-09-18",
          "2020-09-21",
          "2020-09-22",
          "2020-09-23",
          "2020-09-24",
          "2020-09-25",
          "2020-09-28",
          "2020-09-29",
          "2020-09-30",
          "2020-10-09",
          "2020-10-12",
          "2020-10-13",
          "2020-10-14",
          "2020-10-15",
          "2020-10-16",
          "2020-10-19",
          "2020-10-20",
          "2020-10-21",
          "2020-10-22",
          "2020-10-23",
          "2020-10-26",
          "2020-10-27",
          "2020-10-28",
          "2020-10-29",
          "2020-10-30",
          "2020-11-02",
          "2020-11-03",
          "2020-11-04",
          "2020-11-05",
          "2020-11-06",
          "2020-11-09",
          "2020-11-10",
          "2020-11-11",
          "2020-11-12",
          "2020-11-13",
          "2020-11-16",
          "2020-11-17",
          "2020-11-18",
          "2020-11-19",
          "2020-11-20"
         ],
         "xaxis": "x",
         "y": [
          100,
          84.44444444444446,
          82.01250252066944,
          72.6710454296661,
          62.139912891669816,
          58.573856644896445,
          51.32329184513885,
          52.51603513601392,
          45.13618353209057,
          32.24824482775147,
          30.57034069290999,
          20.301078364212604,
          20.944767071541584,
          24.787150895845958,
          30.050300011364822,
          43.47739870089133,
          47.50754141631418,
          44.80117617527416,
          55.1246328749884,
          56.048278630777666,
          55.99295897677362,
          68.86189087455529,
          79.24218551699134,
          83.20810610177945,
          86.81279319794446,
          82.4997062183057,
          79.99976014412181,
          76.06039993237691,
          67.1409720418867,
          62.050341105968485,
          52.75714651783587,
          38.36501042796049,
          26.866978432372942,
          20.70701153400441,
          23.548266050856842,
          27.60360779536812,
          35.244512792282954,
          29.679136427976744,
          20.279916837412234,
          14.68544521782467,
          11.421998246825602,
          12.043569951771948,
          9.89384844171178,
          7.7533063303094085,
          7.483685698476701,
          22.145986660496227,
          28.369433316809562,
          36.799134436074446,
          34.28885384578643,
          39.93240663774913,
          39.62973450615045,
          46.74502626109242,
          45.052239728830536,
          51.331122784128446,
          60.0272001374515,
          57.760068908526456,
          50.33466959425005,
          38.076220406716004,
          29.626571179890213,
          21.56922927122289,
          16.71866746727697,
          12.203979369664445,
          9.651137761573874,
          15.693351100341006,
          14.338203059137134,
          12.784608491033875,
          12.96751677180068,
          9.36964886235604,
          10.24643257490468,
          6.830955049934844,
          7.2206366999567475,
          5.467352571212614,
          4.814492357416584,
          7.784824970304164,
          8.977762101415028,
          6.862367716732718,
          10.13046736671068,
          9.531422688918166,
          22.44623581560068,
          19.726061972305104,
          14.051608882437586,
          10.320120207339476,
          9.494459223193582,
          6.983234253370867,
          4.655489502247243,
          3.1036596681648283,
          4.219644079851867,
          6.576536913449641,
          20.710888554544663,
          30.924376153480136,
          42.04482219755806,
          52.35420578936293,
          64.26788322465474,
          60.08663479344802,
          53.276147333563074,
          54.38535608401056,
          51.28958379456916,
          49.69693183203831,
          40.88322587252164,
          27.255483915014427,
          19.382443822130806,
          14.616544468991123,
          10.361646929944687,
          8.662150584875372,
          10.453129629683012,
          13.986296946104437,
          18.12922941061044,
          27.401468255722303,
          41.60097883714818,
          49.355607513053805,
          63.534368972666556,
          61.27516490069658,
          49.45226047143212,
          51.24774354009449,
          59.80618800108857,
          67.90109503102872,
          75.63776705772291,
          75.61036322366715
         ],
         "yaxis": "y"
        },
        {
         "type": "scatter",
         "x": [
          "2020-05-29",
          "2020-06-01",
          "2020-06-02",
          "2020-06-03",
          "2020-06-04",
          "2020-06-05",
          "2020-06-08",
          "2020-06-09",
          "2020-06-10",
          "2020-06-11",
          "2020-06-12",
          "2020-06-15",
          "2020-06-16",
          "2020-06-17",
          "2020-06-18",
          "2020-06-19",
          "2020-06-22",
          "2020-06-23",
          "2020-06-24",
          "2020-06-29",
          "2020-06-30",
          "2020-07-01",
          "2020-07-02",
          "2020-07-03",
          "2020-07-06",
          "2020-07-07",
          "2020-07-08",
          "2020-07-09",
          "2020-07-10",
          "2020-07-13",
          "2020-07-14",
          "2020-07-15",
          "2020-07-16",
          "2020-07-17",
          "2020-07-20",
          "2020-07-21",
          "2020-07-22",
          "2020-07-23",
          "2020-07-24",
          "2020-07-27",
          "2020-07-28",
          "2020-07-29",
          "2020-07-30",
          "2020-07-31",
          "2020-08-03",
          "2020-08-04",
          "2020-08-05",
          "2020-08-06",
          "2020-08-07",
          "2020-08-10",
          "2020-08-11",
          "2020-08-12",
          "2020-08-13",
          "2020-08-14",
          "2020-08-17",
          "2020-08-18",
          "2020-08-19",
          "2020-08-20",
          "2020-08-21",
          "2020-08-24",
          "2020-08-25",
          "2020-08-26",
          "2020-08-27",
          "2020-08-28",
          "2020-08-31",
          "2020-09-01",
          "2020-09-02",
          "2020-09-03",
          "2020-09-04",
          "2020-09-07",
          "2020-09-08",
          "2020-09-09",
          "2020-09-10",
          "2020-09-11",
          "2020-09-14",
          "2020-09-15",
          "2020-09-16",
          "2020-09-17",
          "2020-09-18",
          "2020-09-21",
          "2020-09-22",
          "2020-09-23",
          "2020-09-24",
          "2020-09-25",
          "2020-09-28",
          "2020-09-29",
          "2020-09-30",
          "2020-10-09",
          "2020-10-12",
          "2020-10-13",
          "2020-10-14",
          "2020-10-15",
          "2020-10-16",
          "2020-10-19",
          "2020-10-20",
          "2020-10-21",
          "2020-10-22",
          "2020-10-23",
          "2020-10-26",
          "2020-10-27",
          "2020-10-28",
          "2020-10-29",
          "2020-10-30",
          "2020-11-02",
          "2020-11-03",
          "2020-11-04",
          "2020-11-05",
          "2020-11-06",
          "2020-11-09",
          "2020-11-10",
          "2020-11-11",
          "2020-11-12",
          "2020-11-13",
          "2020-11-16",
          "2020-11-17",
          "2020-11-18",
          "2020-11-19",
          "2020-11-20"
         ],
         "xaxis": "x",
         "y": [
          100,
          90.66666666666669,
          86.56732575540482,
          80.79502469702105,
          73.63358367221797,
          68.13055560058018,
          62.179853668711935,
          58.82778846157307,
          54.14203289627473,
          46.715312852280874,
          41.27071030721385,
          34.22654113938854,
          29.776417352393228,
          28.10761206206445,
          28.756656908456154,
          33.67105270630737,
          38.287901522948616,
          40.46046311467948,
          45.35072566460334,
          48.91764932950154,
          51.27655880638265,
          57.13911973581416,
          64.50746488437296,
          70.74138227143365,
          76.09873140936378,
          78.2324460121037,
          78.821561091759,
          77.90116323871649,
          74.3144047818438,
          70.22636223702159,
          64.40327008530699,
          55.723830082145,
          46.10486466886723,
          37.638904902770264,
          32.942022059827536,
          31.16254982362573,
          32.52320456182048,
          31.575181657630903,
          27.810092873465575,
          23.435209925930803,
          19.430805791462934,
          16.96839374592374,
          14.610211914662392,
          12.324576679046924,
          10.71094633297266,
          14.522626472410641,
          19.138228778307834,
          25.02519735167028,
          28.11308285697322,
          32.05285745674405,
          34.578483142520184,
          38.63399751820443,
          40.773411589407296,
          44.29264865540458,
          49.53749915050343,
          52.278355736888486,
          51.630460355949545,
          47.11238037259522,
          41.28377730812243,
          34.712261295643856,
          28.71439668607948,
          23.210924247207945,
          18.690995418626834,
          17.691780645859524,
          16.573921450281393,
          15.310817130529202,
          14.529717010951785,
          12.809694294751377,
          11.95527372146854,
          10.247167497623169,
          9.238323898400711,
          7.981333456004416,
          6.92571975647499,
          7.212088161084742,
          7.800646141194873,
          7.487886666374143,
          8.36874689981968,
          8.756305496185849,
          13.319615602657517,
          15.455097725873397,
          14.987268111394792,
          13.431552143376349,
          12.119187836648758,
          10.407203308889459,
          8.489965373342052,
          6.6945301382829765,
          5.869568118805939,
          6.105224383687173,
          10.973779107306337,
          17.623978122697604,
          25.764259480984425,
          34.62757491711059,
          44.50767768629197,
          49.70066338867732,
          50.89249137030591,
          52.05677960820746,
          51.801047670328025,
          51.09967572423145,
          47.69419244032818,
          40.881289598556926,
          33.71500767308155,
          27.348853271718074,
          21.686451157793613,
          17.345017633487533,
          15.047721632219359,
          14.693913403514385,
          15.839018739213069,
          19.69316857804948,
          26.995771997749046,
          34.44905050285063,
          44.14415665945594,
          49.85449273986948,
          49.720415317057025,
          50.22952472473619,
          53.42174581685365,
          58.248195554912,
          64.0447193891823,
          67.89993400067725
         ],
         "yaxis": "y"
        },
        {
         "type": "scatter",
         "x": [
          "2020-05-29",
          "2020-06-01",
          "2020-06-02",
          "2020-06-03",
          "2020-06-04",
          "2020-06-05",
          "2020-06-08",
          "2020-06-09",
          "2020-06-10",
          "2020-06-11",
          "2020-06-12",
          "2020-06-15",
          "2020-06-16",
          "2020-06-17",
          "2020-06-18",
          "2020-06-19",
          "2020-06-22",
          "2020-06-23",
          "2020-06-24",
          "2020-06-29",
          "2020-06-30",
          "2020-07-01",
          "2020-07-02",
          "2020-07-03",
          "2020-07-06",
          "2020-07-07",
          "2020-07-08",
          "2020-07-09",
          "2020-07-10",
          "2020-07-13",
          "2020-07-14",
          "2020-07-15",
          "2020-07-16",
          "2020-07-17",
          "2020-07-20",
          "2020-07-21",
          "2020-07-22",
          "2020-07-23",
          "2020-07-24",
          "2020-07-27",
          "2020-07-28",
          "2020-07-29",
          "2020-07-30",
          "2020-07-31",
          "2020-08-03",
          "2020-08-04",
          "2020-08-05",
          "2020-08-06",
          "2020-08-07",
          "2020-08-10",
          "2020-08-11",
          "2020-08-12",
          "2020-08-13",
          "2020-08-14",
          "2020-08-17",
          "2020-08-18",
          "2020-08-19",
          "2020-08-20",
          "2020-08-21",
          "2020-08-24",
          "2020-08-25",
          "2020-08-26",
          "2020-08-27",
          "2020-08-28",
          "2020-08-31",
          "2020-09-01",
          "2020-09-02",
          "2020-09-03",
          "2020-09-04",
          "2020-09-07",
          "2020-09-08",
          "2020-09-09",
          "2020-09-10",
          "2020-09-11",
          "2020-09-14",
          "2020-09-15",
          "2020-09-16",
          "2020-09-17",
          "2020-09-18",
          "2020-09-21",
          "2020-09-22",
          "2020-09-23",
          "2020-09-24",
          "2020-09-25",
          "2020-09-28",
          "2020-09-29",
          "2020-09-30",
          "2020-10-09",
          "2020-10-12",
          "2020-10-13",
          "2020-10-14",
          "2020-10-15",
          "2020-10-16",
          "2020-10-19",
          "2020-10-20",
          "2020-10-21",
          "2020-10-22",
          "2020-10-23",
          "2020-10-26",
          "2020-10-27",
          "2020-10-28",
          "2020-10-29",
          "2020-10-30",
          "2020-11-02",
          "2020-11-03",
          "2020-11-04",
          "2020-11-05",
          "2020-11-06",
          "2020-11-09",
          "2020-11-10",
          "2020-11-11",
          "2020-11-12",
          "2020-11-13",
          "2020-11-16",
          "2020-11-17",
          "2020-11-18",
          "2020-11-19",
          "2020-11-20"
         ],
         "xaxis": "x",
         "y": [
          100,
          72,
          72.90285605119868,
          56.423086894956185,
          39.15257133057352,
          39.46045873352898,
          29.610168197992678,
          39.89252848489561,
          27.124484803722254,
          3.314108778692656,
          9.169601464302275,
          -7.54984718613926,
          3.281466509838296,
          18.146228563408975,
          32.637586217182154,
          63.09009069005923,
          65.94682120304532,
          53.482602296463526,
          74.67244729575852,
          70.3095372333299,
          65.42575931755556,
          92.30743315203753,
          108.71162678222808,
          108.14155376247106,
          108.2409167751058,
          91.03422663070972,
          82.35615824884744,
          72.37887331969773,
          52.794106561972484,
          45.69829884386229,
          29.464899382893634,
          3.647371119591469,
          -11.608794040615635,
          -13.156775203527303,
          4.760754032915457,
          20.485723738852897,
          40.6871292532079,
          25.887045968668424,
          5.219564765305556,
          -2.8140841983875973,
          -4.595616842449061,
          2.19392236346836,
          0.4611214958105556,
          -1.3892343671656207,
          1.02916442948478,
          37.3927070366674,
          46.83184239381302,
          60.34700860488279,
          46.64039582341283,
          55.6915049997593,
          49.732237233410984,
          62.9670837468684,
          53.60989600767702,
          65.40807104157619,
          81.00660211134765,
          68.7234952518024,
          47.74308807085107,
          20.003900474957575,
          6.31215892342577,
          -4.716834777619042,
          -7.272790970328053,
          -9.809910385422555,
          -8.428577552532044,
          11.696492009303974,
          9.866766276848615,
          7.732191212043219,
          9.843116293498468,
          2.4895579975653668,
          6.828750281776962,
          -0.001469845441803841,
          3.185262303068818,
          0.4393908016290098,
          0.5920375592997722,
          8.930298588743007,
          11.331994021855337,
          5.611329817449867,
          13.653908300492681,
          11.0816570743828,
          40.699476241487,
          28.267990465168516,
          12.180290424523175,
          4.09725633526573,
          4.245001996283232,
          0.13529614233368292,
          -3.013462239942374,
          -4.0780812720714685,
          0.9197960019437215,
          7.519161972974578,
          40.18510744902132,
          57.525172215045195,
          74.60594763070534,
          87.8074675338676,
          103.78829430138029,
          80.85857760298943,
          58.0434592600774,
          59.04250903561676,
          50.26665604305144,
          46.89144404765203,
          27.26129273690856,
          0.0038725479294328125,
          -9.282683879770687,
          -10.84807313646278,
          -12.287961525753165,
          -8.70358351234895,
          1.2639456246103187,
          12.57106403128454,
          22.70965075340518,
          42.818067611067946,
          70.81139251594647,
          79.16872153346016,
          102.31479359908779,
          84.11650922235079,
          48.915950780182314,
          53.284181170811095,
          72.57507236955841,
          87.20689398326215,
          98.82386239480414,
          91.03122166964695
         ],
         "yaxis": "y"
        },
        {
         "type": "scatter",
         "x": [
          "2020-05-29",
          "2020-06-01",
          "2020-06-02",
          "2020-06-03",
          "2020-06-04",
          "2020-06-05",
          "2020-06-08",
          "2020-06-09",
          "2020-06-10",
          "2020-06-11",
          "2020-06-12",
          "2020-06-15",
          "2020-06-16",
          "2020-06-17",
          "2020-06-18",
          "2020-06-19",
          "2020-06-22",
          "2020-06-23",
          "2020-06-24",
          "2020-06-29",
          "2020-06-30",
          "2020-07-01",
          "2020-07-02",
          "2020-07-03",
          "2020-07-06",
          "2020-07-07",
          "2020-07-08",
          "2020-07-09",
          "2020-07-10",
          "2020-07-13",
          "2020-07-14",
          "2020-07-15",
          "2020-07-16",
          "2020-07-17",
          "2020-07-20",
          "2020-07-21",
          "2020-07-22",
          "2020-07-23",
          "2020-07-24",
          "2020-07-27",
          "2020-07-28",
          "2020-07-29",
          "2020-07-30",
          "2020-07-31",
          "2020-08-03",
          "2020-08-04",
          "2020-08-05",
          "2020-08-06",
          "2020-08-07",
          "2020-08-10",
          "2020-08-11",
          "2020-08-12",
          "2020-08-13",
          "2020-08-14",
          "2020-08-17",
          "2020-08-18",
          "2020-08-19",
          "2020-08-20",
          "2020-08-21",
          "2020-08-24",
          "2020-08-25",
          "2020-08-26",
          "2020-08-27",
          "2020-08-28",
          "2020-08-31",
          "2020-09-01",
          "2020-09-02",
          "2020-09-03",
          "2020-09-04",
          "2020-09-07",
          "2020-09-08",
          "2020-09-09",
          "2020-09-10",
          "2020-09-11",
          "2020-09-14",
          "2020-09-15",
          "2020-09-16",
          "2020-09-17",
          "2020-09-18",
          "2020-09-21",
          "2020-09-22",
          "2020-09-23",
          "2020-09-24",
          "2020-09-25",
          "2020-09-28",
          "2020-09-29",
          "2020-09-30",
          "2020-10-09",
          "2020-10-12",
          "2020-10-13",
          "2020-10-14",
          "2020-10-15",
          "2020-10-16",
          "2020-10-19",
          "2020-10-20",
          "2020-10-21",
          "2020-10-22",
          "2020-10-23",
          "2020-10-26",
          "2020-10-27",
          "2020-10-28",
          "2020-10-29",
          "2020-10-30",
          "2020-11-02",
          "2020-11-03",
          "2020-11-04",
          "2020-11-05",
          "2020-11-06",
          "2020-11-09",
          "2020-11-10",
          "2020-11-11",
          "2020-11-12",
          "2020-11-13",
          "2020-11-16",
          "2020-11-17",
          "2020-11-18",
          "2020-11-19",
          "2020-11-20"
         ],
         "xaxis": "x2",
         "y": [
          100,
          90.66666666666669,
          86.56732575540482,
          80.79502469702105,
          73.63358367221797,
          68.13055560058018,
          62.179853668711935,
          58.82778846157307,
          54.14203289627473,
          46.715312852280874,
          41.27071030721385,
          34.22654113938854,
          29.776417352393228,
          28.10761206206445,
          28.756656908456154,
          33.67105270630737,
          38.287901522948616,
          40.46046311467948,
          45.35072566460334,
          48.91764932950154,
          51.27655880638265,
          57.13911973581416,
          64.50746488437296,
          70.74138227143365,
          76.09873140936378,
          78.2324460121037,
          78.821561091759,
          77.90116323871649,
          74.3144047818438,
          70.22636223702159,
          64.40327008530699,
          55.723830082145,
          46.10486466886723,
          37.638904902770264,
          32.942022059827536,
          31.16254982362573,
          32.52320456182048,
          31.575181657630903,
          27.810092873465575,
          23.435209925930803,
          19.430805791462934,
          16.96839374592374,
          14.610211914662392,
          12.324576679046924,
          10.71094633297266,
          14.522626472410641,
          19.138228778307834,
          25.02519735167028,
          28.11308285697322,
          32.05285745674405,
          34.578483142520184,
          38.63399751820443,
          40.773411589407296,
          44.29264865540458,
          49.53749915050343,
          52.278355736888486,
          51.630460355949545,
          47.11238037259522,
          41.28377730812243,
          34.712261295643856,
          28.71439668607948,
          23.210924247207945,
          18.690995418626834,
          17.691780645859524,
          16.573921450281393,
          15.310817130529202,
          14.529717010951785,
          12.809694294751377,
          11.95527372146854,
          10.247167497623169,
          9.238323898400711,
          7.981333456004416,
          6.92571975647499,
          7.212088161084742,
          7.800646141194873,
          7.487886666374143,
          8.36874689981968,
          8.756305496185849,
          13.319615602657517,
          15.455097725873397,
          14.987268111394792,
          13.431552143376349,
          12.119187836648758,
          10.407203308889459,
          8.489965373342052,
          6.6945301382829765,
          5.869568118805939,
          6.105224383687173,
          10.973779107306337,
          17.623978122697604,
          25.764259480984425,
          34.62757491711059,
          44.50767768629197,
          49.70066338867732,
          50.89249137030591,
          52.05677960820746,
          51.801047670328025,
          51.09967572423145,
          47.69419244032818,
          40.881289598556926,
          33.71500767308155,
          27.348853271718074,
          21.686451157793613,
          17.345017633487533,
          15.047721632219359,
          14.693913403514385,
          15.839018739213069,
          19.69316857804948,
          26.995771997749046,
          34.44905050285063,
          44.14415665945594,
          49.85449273986948,
          49.720415317057025,
          50.22952472473619,
          53.42174581685365,
          58.248195554912,
          64.0447193891823,
          67.89993400067725
         ],
         "yaxis": "y2"
        },
        {
         "type": "scatter",
         "x": [
          "2020-05-29",
          "2020-06-01",
          "2020-06-02",
          "2020-06-03",
          "2020-06-04",
          "2020-06-05",
          "2020-06-08",
          "2020-06-09",
          "2020-06-10",
          "2020-06-11",
          "2020-06-12",
          "2020-06-15",
          "2020-06-16",
          "2020-06-17",
          "2020-06-18",
          "2020-06-19",
          "2020-06-22",
          "2020-06-23",
          "2020-06-24",
          "2020-06-29",
          "2020-06-30",
          "2020-07-01",
          "2020-07-02",
          "2020-07-03",
          "2020-07-06",
          "2020-07-07",
          "2020-07-08",
          "2020-07-09",
          "2020-07-10",
          "2020-07-13",
          "2020-07-14",
          "2020-07-15",
          "2020-07-16",
          "2020-07-17",
          "2020-07-20",
          "2020-07-21",
          "2020-07-22",
          "2020-07-23",
          "2020-07-24",
          "2020-07-27",
          "2020-07-28",
          "2020-07-29",
          "2020-07-30",
          "2020-07-31",
          "2020-08-03",
          "2020-08-04",
          "2020-08-05",
          "2020-08-06",
          "2020-08-07",
          "2020-08-10",
          "2020-08-11",
          "2020-08-12",
          "2020-08-13",
          "2020-08-14",
          "2020-08-17",
          "2020-08-18",
          "2020-08-19",
          "2020-08-20",
          "2020-08-21",
          "2020-08-24",
          "2020-08-25",
          "2020-08-26",
          "2020-08-27",
          "2020-08-28",
          "2020-08-31",
          "2020-09-01",
          "2020-09-02",
          "2020-09-03",
          "2020-09-04",
          "2020-09-07",
          "2020-09-08",
          "2020-09-09",
          "2020-09-10",
          "2020-09-11",
          "2020-09-14",
          "2020-09-15",
          "2020-09-16",
          "2020-09-17",
          "2020-09-18",
          "2020-09-21",
          "2020-09-22",
          "2020-09-23",
          "2020-09-24",
          "2020-09-25",
          "2020-09-28",
          "2020-09-29",
          "2020-09-30",
          "2020-10-09",
          "2020-10-12",
          "2020-10-13",
          "2020-10-14",
          "2020-10-15",
          "2020-10-16",
          "2020-10-19",
          "2020-10-20",
          "2020-10-21",
          "2020-10-22",
          "2020-10-23",
          "2020-10-26",
          "2020-10-27",
          "2020-10-28",
          "2020-10-29",
          "2020-10-30",
          "2020-11-02",
          "2020-11-03",
          "2020-11-04",
          "2020-11-05",
          "2020-11-06",
          "2020-11-09",
          "2020-11-10",
          "2020-11-11",
          "2020-11-12",
          "2020-11-13",
          "2020-11-16",
          "2020-11-17",
          "2020-11-18",
          "2020-11-19",
          "2020-11-20"
         ],
         "xaxis": "x3",
         "y": [
          100,
          72,
          72.90285605119868,
          56.423086894956185,
          39.15257133057352,
          39.46045873352898,
          29.610168197992678,
          39.89252848489561,
          27.124484803722254,
          3.314108778692656,
          9.169601464302275,
          -7.54984718613926,
          3.281466509838296,
          18.146228563408975,
          32.637586217182154,
          63.09009069005923,
          65.94682120304532,
          53.482602296463526,
          74.67244729575852,
          70.3095372333299,
          65.42575931755556,
          92.30743315203753,
          108.71162678222808,
          108.14155376247106,
          108.2409167751058,
          91.03422663070972,
          82.35615824884744,
          72.37887331969773,
          52.794106561972484,
          45.69829884386229,
          29.464899382893634,
          3.647371119591469,
          -11.608794040615635,
          -13.156775203527303,
          4.760754032915457,
          20.485723738852897,
          40.6871292532079,
          25.887045968668424,
          5.219564765305556,
          -2.8140841983875973,
          -4.595616842449061,
          2.19392236346836,
          0.4611214958105556,
          -1.3892343671656207,
          1.02916442948478,
          37.3927070366674,
          46.83184239381302,
          60.34700860488279,
          46.64039582341283,
          55.6915049997593,
          49.732237233410984,
          62.9670837468684,
          53.60989600767702,
          65.40807104157619,
          81.00660211134765,
          68.7234952518024,
          47.74308807085107,
          20.003900474957575,
          6.31215892342577,
          -4.716834777619042,
          -7.272790970328053,
          -9.809910385422555,
          -8.428577552532044,
          11.696492009303974,
          9.866766276848615,
          7.732191212043219,
          9.843116293498468,
          2.4895579975653668,
          6.828750281776962,
          -0.001469845441803841,
          3.185262303068818,
          0.4393908016290098,
          0.5920375592997722,
          8.930298588743007,
          11.331994021855337,
          5.611329817449867,
          13.653908300492681,
          11.0816570743828,
          40.699476241487,
          28.267990465168516,
          12.180290424523175,
          4.09725633526573,
          4.245001996283232,
          0.13529614233368292,
          -3.013462239942374,
          -4.0780812720714685,
          0.9197960019437215,
          7.519161972974578,
          40.18510744902132,
          57.525172215045195,
          74.60594763070534,
          87.8074675338676,
          103.78829430138029,
          80.85857760298943,
          58.0434592600774,
          59.04250903561676,
          50.26665604305144,
          46.89144404765203,
          27.26129273690856,
          0.0038725479294328125,
          -9.282683879770687,
          -10.84807313646278,
          -12.287961525753165,
          -8.70358351234895,
          1.2639456246103187,
          12.57106403128454,
          22.70965075340518,
          42.818067611067946,
          70.81139251594647,
          79.16872153346016,
          102.31479359908779,
          84.11650922235079,
          48.915950780182314,
          53.284181170811095,
          72.57507236955841,
          87.20689398326215,
          98.82386239480414,
          91.03122166964695
         ],
         "yaxis": "y3"
        }
       ],
       "layout": {
        "height": 600,
        "template": {
         "data": {
          "bar": [
           {
            "error_x": {
             "color": "#2a3f5f"
            },
            "error_y": {
             "color": "#2a3f5f"
            },
            "marker": {
             "line": {
              "color": "#E5ECF6",
              "width": 0.5
             }
            },
            "type": "bar"
           }
          ],
          "barpolar": [
           {
            "marker": {
             "line": {
              "color": "#E5ECF6",
              "width": 0.5
             }
            },
            "type": "barpolar"
           }
          ],
          "carpet": [
           {
            "aaxis": {
             "endlinecolor": "#2a3f5f",
             "gridcolor": "white",
             "linecolor": "white",
             "minorgridcolor": "white",
             "startlinecolor": "#2a3f5f"
            },
            "baxis": {
             "endlinecolor": "#2a3f5f",
             "gridcolor": "white",
             "linecolor": "white",
             "minorgridcolor": "white",
             "startlinecolor": "#2a3f5f"
            },
            "type": "carpet"
           }
          ],
          "choropleth": [
           {
            "colorbar": {
             "outlinewidth": 0,
             "ticks": ""
            },
            "type": "choropleth"
           }
          ],
          "contour": [
           {
            "colorbar": {
             "outlinewidth": 0,
             "ticks": ""
            },
            "colorscale": [
             [
              0,
              "#0d0887"
             ],
             [
              0.1111111111111111,
              "#46039f"
             ],
             [
              0.2222222222222222,
              "#7201a8"
             ],
             [
              0.3333333333333333,
              "#9c179e"
             ],
             [
              0.4444444444444444,
              "#bd3786"
             ],
             [
              0.5555555555555556,
              "#d8576b"
             ],
             [
              0.6666666666666666,
              "#ed7953"
             ],
             [
              0.7777777777777778,
              "#fb9f3a"
             ],
             [
              0.8888888888888888,
              "#fdca26"
             ],
             [
              1,
              "#f0f921"
             ]
            ],
            "type": "contour"
           }
          ],
          "contourcarpet": [
           {
            "colorbar": {
             "outlinewidth": 0,
             "ticks": ""
            },
            "type": "contourcarpet"
           }
          ],
          "heatmap": [
           {
            "colorbar": {
             "outlinewidth": 0,
             "ticks": ""
            },
            "colorscale": [
             [
              0,
              "#0d0887"
             ],
             [
              0.1111111111111111,
              "#46039f"
             ],
             [
              0.2222222222222222,
              "#7201a8"
             ],
             [
              0.3333333333333333,
              "#9c179e"
             ],
             [
              0.4444444444444444,
              "#bd3786"
             ],
             [
              0.5555555555555556,
              "#d8576b"
             ],
             [
              0.6666666666666666,
              "#ed7953"
             ],
             [
              0.7777777777777778,
              "#fb9f3a"
             ],
             [
              0.8888888888888888,
              "#fdca26"
             ],
             [
              1,
              "#f0f921"
             ]
            ],
            "type": "heatmap"
           }
          ],
          "heatmapgl": [
           {
            "colorbar": {
             "outlinewidth": 0,
             "ticks": ""
            },
            "colorscale": [
             [
              0,
              "#0d0887"
             ],
             [
              0.1111111111111111,
              "#46039f"
             ],
             [
              0.2222222222222222,
              "#7201a8"
             ],
             [
              0.3333333333333333,
              "#9c179e"
             ],
             [
              0.4444444444444444,
              "#bd3786"
             ],
             [
              0.5555555555555556,
              "#d8576b"
             ],
             [
              0.6666666666666666,
              "#ed7953"
             ],
             [
              0.7777777777777778,
              "#fb9f3a"
             ],
             [
              0.8888888888888888,
              "#fdca26"
             ],
             [
              1,
              "#f0f921"
             ]
            ],
            "type": "heatmapgl"
           }
          ],
          "histogram": [
           {
            "marker": {
             "colorbar": {
              "outlinewidth": 0,
              "ticks": ""
             }
            },
            "type": "histogram"
           }
          ],
          "histogram2d": [
           {
            "colorbar": {
             "outlinewidth": 0,
             "ticks": ""
            },
            "colorscale": [
             [
              0,
              "#0d0887"
             ],
             [
              0.1111111111111111,
              "#46039f"
             ],
             [
              0.2222222222222222,
              "#7201a8"
             ],
             [
              0.3333333333333333,
              "#9c179e"
             ],
             [
              0.4444444444444444,
              "#bd3786"
             ],
             [
              0.5555555555555556,
              "#d8576b"
             ],
             [
              0.6666666666666666,
              "#ed7953"
             ],
             [
              0.7777777777777778,
              "#fb9f3a"
             ],
             [
              0.8888888888888888,
              "#fdca26"
             ],
             [
              1,
              "#f0f921"
             ]
            ],
            "type": "histogram2d"
           }
          ],
          "histogram2dcontour": [
           {
            "colorbar": {
             "outlinewidth": 0,
             "ticks": ""
            },
            "colorscale": [
             [
              0,
              "#0d0887"
             ],
             [
              0.1111111111111111,
              "#46039f"
             ],
             [
              0.2222222222222222,
              "#7201a8"
             ],
             [
              0.3333333333333333,
              "#9c179e"
             ],
             [
              0.4444444444444444,
              "#bd3786"
             ],
             [
              0.5555555555555556,
              "#d8576b"
             ],
             [
              0.6666666666666666,
              "#ed7953"
             ],
             [
              0.7777777777777778,
              "#fb9f3a"
             ],
             [
              0.8888888888888888,
              "#fdca26"
             ],
             [
              1,
              "#f0f921"
             ]
            ],
            "type": "histogram2dcontour"
           }
          ],
          "mesh3d": [
           {
            "colorbar": {
             "outlinewidth": 0,
             "ticks": ""
            },
            "type": "mesh3d"
           }
          ],
          "parcoords": [
           {
            "line": {
             "colorbar": {
              "outlinewidth": 0,
              "ticks": ""
             }
            },
            "type": "parcoords"
           }
          ],
          "pie": [
           {
            "automargin": true,
            "type": "pie"
           }
          ],
          "scatter": [
           {
            "marker": {
             "colorbar": {
              "outlinewidth": 0,
              "ticks": ""
             }
            },
            "type": "scatter"
           }
          ],
          "scatter3d": [
           {
            "line": {
             "colorbar": {
              "outlinewidth": 0,
              "ticks": ""
             }
            },
            "marker": {
             "colorbar": {
              "outlinewidth": 0,
              "ticks": ""
             }
            },
            "type": "scatter3d"
           }
          ],
          "scattercarpet": [
           {
            "marker": {
             "colorbar": {
              "outlinewidth": 0,
              "ticks": ""
             }
            },
            "type": "scattercarpet"
           }
          ],
          "scattergeo": [
           {
            "marker": {
             "colorbar": {
              "outlinewidth": 0,
              "ticks": ""
             }
            },
            "type": "scattergeo"
           }
          ],
          "scattergl": [
           {
            "marker": {
             "colorbar": {
              "outlinewidth": 0,
              "ticks": ""
             }
            },
            "type": "scattergl"
           }
          ],
          "scattermapbox": [
           {
            "marker": {
             "colorbar": {
              "outlinewidth": 0,
              "ticks": ""
             }
            },
            "type": "scattermapbox"
           }
          ],
          "scatterpolar": [
           {
            "marker": {
             "colorbar": {
              "outlinewidth": 0,
              "ticks": ""
             }
            },
            "type": "scatterpolar"
           }
          ],
          "scatterpolargl": [
           {
            "marker": {
             "colorbar": {
              "outlinewidth": 0,
              "ticks": ""
             }
            },
            "type": "scatterpolargl"
           }
          ],
          "scatterternary": [
           {
            "marker": {
             "colorbar": {
              "outlinewidth": 0,
              "ticks": ""
             }
            },
            "type": "scatterternary"
           }
          ],
          "surface": [
           {
            "colorbar": {
             "outlinewidth": 0,
             "ticks": ""
            },
            "colorscale": [
             [
              0,
              "#0d0887"
             ],
             [
              0.1111111111111111,
              "#46039f"
             ],
             [
              0.2222222222222222,
              "#7201a8"
             ],
             [
              0.3333333333333333,
              "#9c179e"
             ],
             [
              0.4444444444444444,
              "#bd3786"
             ],
             [
              0.5555555555555556,
              "#d8576b"
             ],
             [
              0.6666666666666666,
              "#ed7953"
             ],
             [
              0.7777777777777778,
              "#fb9f3a"
             ],
             [
              0.8888888888888888,
              "#fdca26"
             ],
             [
              1,
              "#f0f921"
             ]
            ],
            "type": "surface"
           }
          ],
          "table": [
           {
            "cells": {
             "fill": {
              "color": "#EBF0F8"
             },
             "line": {
              "color": "white"
             }
            },
            "header": {
             "fill": {
              "color": "#C8D4E3"
             },
             "line": {
              "color": "white"
             }
            },
            "type": "table"
           }
          ]
         },
         "layout": {
          "annotationdefaults": {
           "arrowcolor": "#2a3f5f",
           "arrowhead": 0,
           "arrowwidth": 1
          },
          "coloraxis": {
           "colorbar": {
            "outlinewidth": 0,
            "ticks": ""
           }
          },
          "colorscale": {
           "diverging": [
            [
             0,
             "#8e0152"
            ],
            [
             0.1,
             "#c51b7d"
            ],
            [
             0.2,
             "#de77ae"
            ],
            [
             0.3,
             "#f1b6da"
            ],
            [
             0.4,
             "#fde0ef"
            ],
            [
             0.5,
             "#f7f7f7"
            ],
            [
             0.6,
             "#e6f5d0"
            ],
            [
             0.7,
             "#b8e186"
            ],
            [
             0.8,
             "#7fbc41"
            ],
            [
             0.9,
             "#4d9221"
            ],
            [
             1,
             "#276419"
            ]
           ],
           "sequential": [
            [
             0,
             "#0d0887"
            ],
            [
             0.1111111111111111,
             "#46039f"
            ],
            [
             0.2222222222222222,
             "#7201a8"
            ],
            [
             0.3333333333333333,
             "#9c179e"
            ],
            [
             0.4444444444444444,
             "#bd3786"
            ],
            [
             0.5555555555555556,
             "#d8576b"
            ],
            [
             0.6666666666666666,
             "#ed7953"
            ],
            [
             0.7777777777777778,
             "#fb9f3a"
            ],
            [
             0.8888888888888888,
             "#fdca26"
            ],
            [
             1,
             "#f0f921"
            ]
           ],
           "sequentialminus": [
            [
             0,
             "#0d0887"
            ],
            [
             0.1111111111111111,
             "#46039f"
            ],
            [
             0.2222222222222222,
             "#7201a8"
            ],
            [
             0.3333333333333333,
             "#9c179e"
            ],
            [
             0.4444444444444444,
             "#bd3786"
            ],
            [
             0.5555555555555556,
             "#d8576b"
            ],
            [
             0.6666666666666666,
             "#ed7953"
            ],
            [
             0.7777777777777778,
             "#fb9f3a"
            ],
            [
             0.8888888888888888,
             "#fdca26"
            ],
            [
             1,
             "#f0f921"
            ]
           ]
          },
          "colorway": [
           "#636efa",
           "#EF553B",
           "#00cc96",
           "#ab63fa",
           "#FFA15A",
           "#19d3f3",
           "#FF6692",
           "#B6E880",
           "#FF97FF",
           "#FECB52"
          ],
          "font": {
           "color": "#2a3f5f"
          },
          "geo": {
           "bgcolor": "white",
           "lakecolor": "white",
           "landcolor": "#E5ECF6",
           "showlakes": true,
           "showland": true,
           "subunitcolor": "white"
          },
          "hoverlabel": {
           "align": "left"
          },
          "hovermode": "closest",
          "mapbox": {
           "style": "light"
          },
          "paper_bgcolor": "white",
          "plot_bgcolor": "#E5ECF6",
          "polar": {
           "angularaxis": {
            "gridcolor": "white",
            "linecolor": "white",
            "ticks": ""
           },
           "bgcolor": "#E5ECF6",
           "radialaxis": {
            "gridcolor": "white",
            "linecolor": "white",
            "ticks": ""
           }
          },
          "scene": {
           "xaxis": {
            "backgroundcolor": "#E5ECF6",
            "gridcolor": "white",
            "gridwidth": 2,
            "linecolor": "white",
            "showbackground": true,
            "ticks": "",
            "zerolinecolor": "white"
           },
           "yaxis": {
            "backgroundcolor": "#E5ECF6",
            "gridcolor": "white",
            "gridwidth": 2,
            "linecolor": "white",
            "showbackground": true,
            "ticks": "",
            "zerolinecolor": "white"
           },
           "zaxis": {
            "backgroundcolor": "#E5ECF6",
            "gridcolor": "white",
            "gridwidth": 2,
            "linecolor": "white",
            "showbackground": true,
            "ticks": "",
            "zerolinecolor": "white"
           }
          },
          "shapedefaults": {
           "line": {
            "color": "#2a3f5f"
           }
          },
          "ternary": {
           "aaxis": {
            "gridcolor": "white",
            "linecolor": "white",
            "ticks": ""
           },
           "baxis": {
            "gridcolor": "white",
            "linecolor": "white",
            "ticks": ""
           },
           "bgcolor": "#E5ECF6",
           "caxis": {
            "gridcolor": "white",
            "linecolor": "white",
            "ticks": ""
           }
          },
          "title": {
           "x": 0.05
          },
          "xaxis": {
           "automargin": true,
           "gridcolor": "white",
           "linecolor": "white",
           "ticks": "",
           "title": {
            "standoff": 15
           },
           "zerolinecolor": "white",
           "zerolinewidth": 2
          },
          "yaxis": {
           "automargin": true,
           "gridcolor": "white",
           "linecolor": "white",
           "ticks": "",
           "title": {
            "standoff": 15
           },
           "zerolinecolor": "white",
           "zerolinewidth": 2
          }
         }
        },
        "title": {
         "text": "Stacked Subplots"
        },
        "width": 600,
        "xaxis": {
         "anchor": "y",
         "autorange": true,
         "domain": [
          0,
          1
         ],
         "range": [
          "2020-05-29",
          "2020-11-20"
         ],
         "type": "date"
        },
        "xaxis2": {
         "anchor": "y2",
         "autorange": true,
         "domain": [
          0,
          1
         ],
         "range": [
          "2020-05-29",
          "2020-11-20"
         ],
         "type": "date"
        },
        "xaxis3": {
         "anchor": "y3",
         "autorange": true,
         "domain": [
          0,
          1
         ],
         "range": [
          "2020-05-29",
          "2020-11-20"
         ],
         "type": "date"
        },
        "yaxis": {
         "anchor": "x",
         "autorange": true,
         "domain": [
          0.7333333333333333,
          1
         ],
         "range": [
          -19.927241980513713,
          115.48209355921449
         ],
         "type": "linear"
        },
        "yaxis2": {
         "anchor": "x2",
         "autorange": true,
         "domain": [
          0.36666666666666664,
          0.6333333333333333
         ],
         "range": [
          0.6400996809618267,
          105.22946843784412
         ],
         "type": "linear"
        },
        "yaxis3": {
         "anchor": "x3",
         "autorange": true,
         "domain": [
          0,
          0.26666666666666666
         ],
         "range": [
          -19.927241980513713,
          115.48209355921449
         ],
         "type": "linear"
        }
       }
      },
      "image/png": "[encoded data removed]",
      "text/html": [
       "<div>                            <div id=\"dfbab27e-a713-4786-bb54-d1dc85a40d71\" class=\"plotly-graph-div\" style=\"height:600px; width:600px;\"></div>            <script type=\"text/javascript\">                require([\"plotly\"], function(Plotly) {                    window.PLOTLYENV=window.PLOTLYENV || {};                                    if (document.getElementById(\"dfbab27e-a713-4786-bb54-d1dc85a40d71\")) {                    Plotly.newPlot(                        \"dfbab27e-a713-4786-bb54-d1dc85a40d71\",                        [{\"type\": \"scatter\", \"x\": [\"2020-05-29\", \"2020-06-01\", \"2020-06-02\", \"2020-06-03\", \"2020-06-04\", \"2020-06-05\", \"2020-06-08\", \"2020-06-09\", \"2020-06-10\", \"2020-06-11\", \"2020-06-12\", \"2020-06-15\", \"2020-06-16\", \"2020-06-17\", \"2020-06-18\", \"2020-06-19\", \"2020-06-22\", \"2020-06-23\", \"2020-06-24\", \"2020-06-29\", \"2020-06-30\", \"2020-07-01\", \"2020-07-02\", \"2020-07-03\", \"2020-07-06\", \"2020-07-07\", \"2020-07-08\", \"2020-07-09\", \"2020-07-10\", \"2020-07-13\", \"2020-07-14\", \"2020-07-15\", \"2020-07-16\", \"2020-07-17\", \"2020-07-20\", \"2020-07-21\", \"2020-07-22\", \"2020-07-23\", \"2020-07-24\", \"2020-07-27\", \"2020-07-28\", \"2020-07-29\", \"2020-07-30\", \"2020-07-31\", \"2020-08-03\", \"2020-08-04\", \"2020-08-05\", \"2020-08-06\", \"2020-08-07\", \"2020-08-10\", \"2020-08-11\", \"2020-08-12\", \"2020-08-13\", \"2020-08-14\", \"2020-08-17\", \"2020-08-18\", \"2020-08-19\", \"2020-08-20\", \"2020-08-21\", \"2020-08-24\", \"2020-08-25\", \"2020-08-26\", \"2020-08-27\", \"2020-08-28\", \"2020-08-31\", \"2020-09-01\", \"2020-09-02\", \"2020-09-03\", \"2020-09-04\", \"2020-09-07\", \"2020-09-08\", \"2020-09-09\", \"2020-09-10\", \"2020-09-11\", \"2020-09-14\", \"2020-09-15\", \"2020-09-16\", \"2020-09-17\", \"2020-09-18\", \"2020-09-21\", \"2020-09-22\", \"2020-09-23\", \"2020-09-24\", \"2020-09-25\", \"2020-09-28\", \"2020-09-29\", \"2020-09-30\", \"2020-10-09\", \"2020-10-12\", \"2020-10-13\", \"2020-10-14\", \"2020-10-15\", \"2020-10-16\", \"2020-10-19\", \"2020-10-20\", \"2020-10-21\", \"2020-10-22\", \"2020-10-23\", \"2020-10-26\", \"2020-10-27\", \"2020-10-28\", \"2020-10-29\", \"2020-10-30\", \"2020-11-02\", \"2020-11-03\", \"2020-11-04\", \"2020-11-05\", \"2020-11-06\", \"2020-11-09\", \"2020-11-10\", \"2020-11-11\", \"2020-11-12\", \"2020-11-13\", \"2020-11-16\", \"2020-11-17\", \"2020-11-18\", \"2020-11-19\", \"2020-11-20\"], \"xaxis\": \"x\", \"y\": [100.0, 84.44444444444446, 82.01250252066944, 72.6710454296661, 62.139912891669816, 58.573856644896445, 51.32329184513885, 52.51603513601392, 45.13618353209057, 32.24824482775147, 30.57034069290999, 20.301078364212604, 20.944767071541584, 24.787150895845958, 30.050300011364822, 43.47739870089133, 47.50754141631418, 44.80117617527416, 55.1246328749884, 56.048278630777666, 55.99295897677362, 68.86189087455529, 79.24218551699134, 83.20810610177945, 86.81279319794446, 82.4997062183057, 79.99976014412181, 76.06039993237691, 67.1409720418867, 62.050341105968485, 52.75714651783587, 38.36501042796049, 26.866978432372942, 20.70701153400441, 23.548266050856842, 27.60360779536812, 35.244512792282954, 29.679136427976744, 20.279916837412234, 14.68544521782467, 11.421998246825602, 12.043569951771948, 9.89384844171178, 7.7533063303094085, 7.483685698476701, 22.145986660496227, 28.369433316809562, 36.799134436074446, 34.28885384578643, 39.93240663774913, 39.62973450615045, 46.74502626109242, 45.052239728830536, 51.331122784128446, 60.0272001374515, 57.760068908526456, 50.33466959425005, 38.076220406716004, 29.626571179890213, 21.56922927122289, 16.71866746727697, 12.203979369664445, 9.651137761573874, 15.693351100341006, 14.338203059137134, 12.784608491033875, 12.96751677180068, 9.36964886235604, 10.24643257490468, 6.830955049934844, 7.2206366999567475, 5.467352571212614, 4.814492357416584, 7.784824970304164, 8.977762101415028, 6.862367716732718, 10.13046736671068, 9.531422688918166, 22.44623581560068, 19.726061972305104, 14.051608882437586, 10.320120207339476, 9.494459223193582, 6.983234253370867, 4.655489502247243, 3.1036596681648283, 4.219644079851867, 6.576536913449641, 20.710888554544663, 30.924376153480136, 42.04482219755806, 52.35420578936293, 64.26788322465474, 60.08663479344802, 53.276147333563074, 54.38535608401056, 51.28958379456916, 49.69693183203831, 40.88322587252164, 27.255483915014427, 19.382443822130806, 14.616544468991123, 10.361646929944687, 8.662150584875372, 10.453129629683012, 13.986296946104437, 18.12922941061044, 27.401468255722303, 41.60097883714818, 49.355607513053805, 63.534368972666556, 61.27516490069658, 49.45226047143212, 51.24774354009449, 59.80618800108857, 67.90109503102872, 75.63776705772291, 75.61036322366715], \"yaxis\": \"y\"}, {\"type\": \"scatter\", \"x\": [\"2020-05-29\", \"2020-06-01\", \"2020-06-02\", \"2020-06-03\", \"2020-06-04\", \"2020-06-05\", \"2020-06-08\", \"2020-06-09\", \"2020-06-10\", \"2020-06-11\", \"2020-06-12\", \"2020-06-15\", \"2020-06-16\", \"2020-06-17\", \"2020-06-18\", \"2020-06-19\", \"2020-06-22\", \"2020-06-23\", \"2020-06-24\", \"2020-06-29\", \"2020-06-30\", \"2020-07-01\", \"2020-07-02\", \"2020-07-03\", \"2020-07-06\", \"2020-07-07\", \"2020-07-08\", \"2020-07-09\", \"2020-07-10\", \"2020-07-13\", \"2020-07-14\", \"2020-07-15\", \"2020-07-16\", \"2020-07-17\", \"2020-07-20\", \"2020-07-21\", \"2020-07-22\", \"2020-07-23\", \"2020-07-24\", \"2020-07-27\", \"2020-07-28\", \"2020-07-29\", \"2020-07-30\", \"2020-07-31\", \"2020-08-03\", \"2020-08-04\", \"2020-08-05\", \"2020-08-06\", \"2020-08-07\", \"2020-08-10\", \"2020-08-11\", \"2020-08-12\", \"2020-08-13\", \"2020-08-14\", \"2020-08-17\", \"2020-08-18\", \"2020-08-19\", \"2020-08-20\", \"2020-08-21\", \"2020-08-24\", \"2020-08-25\", \"2020-08-26\", \"2020-08-27\", \"2020-08-28\", \"2020-08-31\", \"2020-09-01\", \"2020-09-02\", \"2020-09-03\", \"2020-09-04\", \"2020-09-07\", \"2020-09-08\", \"2020-09-09\", \"2020-09-10\", \"2020-09-11\", \"2020-09-14\", \"2020-09-15\", \"2020-09-16\", \"2020-09-17\", \"2020-09-18\", \"2020-09-21\", \"2020-09-22\", \"2020-09-23\", \"2020-09-24\", \"2020-09-25\", \"2020-09-28\", \"2020-09-29\", \"2020-09-30\", \"2020-10-09\", \"2020-10-12\", \"2020-10-13\", \"2020-10-14\", \"2020-10-15\", \"2020-10-16\", \"2020-10-19\", \"2020-10-20\", \"2020-10-21\", \"2020-10-22\", \"2020-10-23\", \"2020-10-26\", \"2020-10-27\", \"2020-10-28\", \"2020-10-29\", \"2020-10-30\", \"2020-11-02\", \"2020-11-03\", \"2020-11-04\", \"2020-11-05\", \"2020-11-06\", \"2020-11-09\", \"2020-11-10\", \"2020-11-11\", \"2020-11-12\", \"2020-11-13\", \"2020-11-16\", \"2020-11-17\", \"2020-11-18\", \"2020-11-19\", \"2020-11-20\"], \"xaxis\": \"x\", \"y\": [100.0, 90.66666666666669, 86.56732575540482, 80.79502469702105, 73.63358367221797, 68.13055560058018, 62.179853668711935, 58.82778846157307, 54.14203289627473, 46.715312852280874, 41.27071030721385, 34.22654113938854, 29.776417352393228, 28.10761206206445, 28.756656908456154, 33.67105270630737, 38.287901522948616, 40.46046311467948, 45.35072566460334, 48.91764932950154, 51.27655880638265, 57.13911973581416, 64.50746488437296, 70.74138227143365, 76.09873140936378, 78.2324460121037, 78.821561091759, 77.90116323871649, 74.3144047818438, 70.22636223702159, 64.40327008530699, 55.723830082145, 46.10486466886723, 37.638904902770264, 32.942022059827536, 31.16254982362573, 32.52320456182048, 31.575181657630903, 27.810092873465575, 23.435209925930803, 19.430805791462934, 16.96839374592374, 14.610211914662392, 12.324576679046924, 10.71094633297266, 14.522626472410641, 19.138228778307834, 25.02519735167028, 28.11308285697322, 32.05285745674405, 34.578483142520184, 38.63399751820443, 40.773411589407296, 44.29264865540458, 49.53749915050343, 52.278355736888486, 51.630460355949545, 47.11238037259522, 41.28377730812243, 34.712261295643856, 28.71439668607948, 23.210924247207945, 18.690995418626834, 17.691780645859524, 16.573921450281393, 15.310817130529202, 14.529717010951785, 12.809694294751377, 11.95527372146854, 10.247167497623169, 9.238323898400711, 7.981333456004416, 6.92571975647499, 7.212088161084742, 7.800646141194873, 7.487886666374143, 8.36874689981968, 8.756305496185849, 13.319615602657517, 15.455097725873397, 14.987268111394792, 13.431552143376349, 12.119187836648758, 10.407203308889459, 8.489965373342052, 6.6945301382829765, 5.869568118805939, 6.105224383687173, 10.973779107306337, 17.623978122697604, 25.764259480984425, 34.62757491711059, 44.50767768629197, 49.70066338867732, 50.89249137030591, 52.05677960820746, 51.801047670328025, 51.09967572423145, 47.69419244032818, 40.881289598556926, 33.71500767308155, 27.348853271718074, 21.686451157793613, 17.345017633487533, 15.047721632219359, 14.693913403514385, 15.839018739213069, 19.69316857804948, 26.995771997749046, 34.44905050285063, 44.14415665945594, 49.85449273986948, 49.720415317057025, 50.22952472473619, 53.42174581685365, 58.248195554912, 64.0447193891823, 67.89993400067725], \"yaxis\": \"y\"}, {\"type\": \"scatter\", \"x\": [\"2020-05-29\", \"2020-06-01\", \"2020-06-02\", \"2020-06-03\", \"2020-06-04\", \"2020-06-05\", \"2020-06-08\", \"2020-06-09\", \"2020-06-10\", \"2020-06-11\", \"2020-06-12\", \"2020-06-15\", \"2020-06-16\", \"2020-06-17\", \"2020-06-18\", \"2020-06-19\", \"2020-06-22\", \"2020-06-23\", \"2020-06-24\", \"2020-06-29\", \"2020-06-30\", \"2020-07-01\", \"2020-07-02\", \"2020-07-03\", \"2020-07-06\", \"2020-07-07\", \"2020-07-08\", \"2020-07-09\", \"2020-07-10\", \"2020-07-13\", \"2020-07-14\", \"2020-07-15\", \"2020-07-16\", \"2020-07-17\", \"2020-07-20\", \"2020-07-21\", \"2020-07-22\", \"2020-07-23\", \"2020-07-24\", \"2020-07-27\", \"2020-07-28\", \"2020-07-29\", \"2020-07-30\", \"2020-07-31\", \"2020-08-03\", \"2020-08-04\", \"2020-08-05\", \"2020-08-06\", \"2020-08-07\", \"2020-08-10\", \"2020-08-11\", \"2020-08-12\", \"2020-08-13\", \"2020-08-14\", \"2020-08-17\", \"2020-08-18\", \"2020-08-19\", \"2020-08-20\", \"2020-08-21\", \"2020-08-24\", \"2020-08-25\", \"2020-08-26\", \"2020-08-27\", \"2020-08-28\", \"2020-08-31\", \"2020-09-01\", \"2020-09-02\", \"2020-09-03\", \"2020-09-04\", \"2020-09-07\", \"2020-09-08\", \"2020-09-09\", \"2020-09-10\", \"2020-09-11\", \"2020-09-14\", \"2020-09-15\", \"2020-09-16\", \"2020-09-17\", \"2020-09-18\", \"2020-09-21\", \"2020-09-22\", \"2020-09-23\", \"2020-09-24\", \"2020-09-25\", \"2020-09-28\", \"2020-09-29\", \"2020-09-30\", \"2020-10-09\", \"2020-10-12\", \"2020-10-13\", \"2020-10-14\", \"2020-10-15\", \"2020-10-16\", \"2020-10-19\", \"2020-10-20\", \"2020-10-21\", \"2020-10-22\", \"2020-10-23\", \"2020-10-26\", \"2020-10-27\", \"2020-10-28\", \"2020-10-29\", \"2020-10-30\", \"2020-11-02\", \"2020-11-03\", \"2020-11-04\", \"2020-11-05\", \"2020-11-06\", \"2020-11-09\", \"2020-11-10\", \"2020-11-11\", \"2020-11-12\", \"2020-11-13\", \"2020-11-16\", \"2020-11-17\", \"2020-11-18\", \"2020-11-19\", \"2020-11-20\"], \"xaxis\": \"x\", \"y\": [100.0, 72.0, 72.90285605119868, 56.423086894956185, 39.15257133057352, 39.46045873352898, 29.610168197992678, 39.89252848489561, 27.124484803722254, 3.314108778692656, 9.169601464302275, -7.54984718613926, 3.281466509838296, 18.146228563408975, 32.637586217182154, 63.09009069005923, 65.94682120304532, 53.482602296463526, 74.67244729575852, 70.3095372333299, 65.42575931755556, 92.30743315203753, 108.71162678222808, 108.14155376247106, 108.2409167751058, 91.03422663070972, 82.35615824884744, 72.37887331969773, 52.794106561972484, 45.69829884386229, 29.464899382893634, 3.647371119591469, -11.608794040615635, -13.156775203527303, 4.760754032915457, 20.485723738852897, 40.6871292532079, 25.887045968668424, 5.219564765305556, -2.8140841983875973, -4.595616842449061, 2.19392236346836, 0.4611214958105556, -1.3892343671656207, 1.02916442948478, 37.3927070366674, 46.83184239381302, 60.34700860488279, 46.64039582341283, 55.6915049997593, 49.732237233410984, 62.9670837468684, 53.60989600767702, 65.40807104157619, 81.00660211134765, 68.7234952518024, 47.74308807085107, 20.003900474957575, 6.31215892342577, -4.716834777619042, -7.272790970328053, -9.809910385422555, -8.428577552532044, 11.696492009303974, 9.866766276848615, 7.732191212043219, 9.843116293498468, 2.4895579975653668, 6.828750281776962, -0.001469845441803841, 3.185262303068818, 0.4393908016290098, 0.5920375592997722, 8.930298588743007, 11.331994021855337, 5.611329817449867, 13.653908300492681, 11.0816570743828, 40.699476241487, 28.267990465168516, 12.180290424523175, 4.09725633526573, 4.245001996283232, 0.13529614233368292, -3.013462239942374, -4.0780812720714685, 0.9197960019437215, 7.519161972974578, 40.18510744902132, 57.525172215045195, 74.60594763070534, 87.8074675338676, 103.78829430138029, 80.85857760298943, 58.0434592600774, 59.04250903561676, 50.26665604305144, 46.89144404765203, 27.26129273690856, 0.0038725479294328125, -9.282683879770687, -10.84807313646278, -12.287961525753165, -8.70358351234895, 1.2639456246103187, 12.57106403128454, 22.70965075340518, 42.818067611067946, 70.81139251594647, 79.16872153346016, 102.31479359908779, 84.11650922235079, 48.915950780182314, 53.284181170811095, 72.57507236955841, 87.20689398326215, 98.82386239480414, 91.03122166964695], \"yaxis\": \"y\"}, {\"type\": \"scatter\", \"x\": [\"2020-05-29\", \"2020-06-01\", \"2020-06-02\", \"2020-06-03\", \"2020-06-04\", \"2020-06-05\", \"2020-06-08\", \"2020-06-09\", \"2020-06-10\", \"2020-06-11\", \"2020-06-12\", \"2020-06-15\", \"2020-06-16\", \"2020-06-17\", \"2020-06-18\", \"2020-06-19\", \"2020-06-22\", \"2020-06-23\", \"2020-06-24\", \"2020-06-29\", \"2020-06-30\", \"2020-07-01\", \"2020-07-02\", \"2020-07-03\", \"2020-07-06\", \"2020-07-07\", \"2020-07-08\", \"2020-07-09\", \"2020-07-10\", \"2020-07-13\", \"2020-07-14\", \"2020-07-15\", \"2020-07-16\", \"2020-07-17\", \"2020-07-20\", \"2020-07-21\", \"2020-07-22\", \"2020-07-23\", \"2020-07-24\", \"2020-07-27\", \"2020-07-28\", \"2020-07-29\", \"2020-07-30\", \"2020-07-31\", \"2020-08-03\", \"2020-08-04\", \"2020-08-05\", \"2020-08-06\", \"2020-08-07\", \"2020-08-10\", \"2020-08-11\", \"2020-08-12\", \"2020-08-13\", \"2020-08-14\", \"2020-08-17\", \"2020-08-18\", \"2020-08-19\", \"2020-08-20\", \"2020-08-21\", \"2020-08-24\", \"2020-08-25\", \"2020-08-26\", \"2020-08-27\", \"2020-08-28\", \"2020-08-31\", \"2020-09-01\", \"2020-09-02\", \"2020-09-03\", \"2020-09-04\", \"2020-09-07\", \"2020-09-08\", \"2020-09-09\", \"2020-09-10\", \"2020-09-11\", \"2020-09-14\", \"2020-09-15\", \"2020-09-16\", \"2020-09-17\", \"2020-09-18\", \"2020-09-21\", \"2020-09-22\", \"2020-09-23\", \"2020-09-24\", \"2020-09-25\", \"2020-09-28\", \"2020-09-29\", \"2020-09-30\", \"2020-10-09\", \"2020-10-12\", \"2020-10-13\", \"2020-10-14\", \"2020-10-15\", \"2020-10-16\", \"2020-10-19\", \"2020-10-20\", \"2020-10-21\", \"2020-10-22\", \"2020-10-23\", \"2020-10-26\", \"2020-10-27\", \"2020-10-28\", \"2020-10-29\", \"2020-10-30\", \"2020-11-02\", \"2020-11-03\", \"2020-11-04\", \"2020-11-05\", \"2020-11-06\", \"2020-11-09\", \"2020-11-10\", \"2020-11-11\", \"2020-11-12\", \"2020-11-13\", \"2020-11-16\", \"2020-11-17\", \"2020-11-18\", \"2020-11-19\", \"2020-11-20\"], \"xaxis\": \"x2\", \"y\": [100.0, 90.66666666666669, 86.56732575540482, 80.79502469702105, 73.63358367221797, 68.13055560058018, 62.179853668711935, 58.82778846157307, 54.14203289627473, 46.715312852280874, 41.27071030721385, 34.22654113938854, 29.776417352393228, 28.10761206206445, 28.756656908456154, 33.67105270630737, 38.287901522948616, 40.46046311467948, 45.35072566460334, 48.91764932950154, 51.27655880638265, 57.13911973581416, 64.50746488437296, 70.74138227143365, 76.09873140936378, 78.2324460121037, 78.821561091759, 77.90116323871649, 74.3144047818438, 70.22636223702159, 64.40327008530699, 55.723830082145, 46.10486466886723, 37.638904902770264, 32.942022059827536, 31.16254982362573, 32.52320456182048, 31.575181657630903, 27.810092873465575, 23.435209925930803, 19.430805791462934, 16.96839374592374, 14.610211914662392, 12.324576679046924, 10.71094633297266, 14.522626472410641, 19.138228778307834, 25.02519735167028, 28.11308285697322, 32.05285745674405, 34.578483142520184, 38.63399751820443, 40.773411589407296, 44.29264865540458, 49.53749915050343, 52.278355736888486, 51.630460355949545, 47.11238037259522, 41.28377730812243, 34.712261295643856, 28.71439668607948, 23.210924247207945, 18.690995418626834, 17.691780645859524, 16.573921450281393, 15.310817130529202, 14.529717010951785, 12.809694294751377, 11.95527372146854, 10.247167497623169, 9.238323898400711, 7.981333456004416, 6.92571975647499, 7.212088161084742, 7.800646141194873, 7.487886666374143, 8.36874689981968, 8.756305496185849, 13.319615602657517, 15.455097725873397, 14.987268111394792, 13.431552143376349, 12.119187836648758, 10.407203308889459, 8.489965373342052, 6.6945301382829765, 5.869568118805939, 6.105224383687173, 10.973779107306337, 17.623978122697604, 25.764259480984425, 34.62757491711059, 44.50767768629197, 49.70066338867732, 50.89249137030591, 52.05677960820746, 51.801047670328025, 51.09967572423145, 47.69419244032818, 40.881289598556926, 33.71500767308155, 27.348853271718074, 21.686451157793613, 17.345017633487533, 15.047721632219359, 14.693913403514385, 15.839018739213069, 19.69316857804948, 26.995771997749046, 34.44905050285063, 44.14415665945594, 49.85449273986948, 49.720415317057025, 50.22952472473619, 53.42174581685365, 58.248195554912, 64.0447193891823, 67.89993400067725], \"yaxis\": \"y2\"}, {\"type\": \"scatter\", \"x\": [\"2020-05-29\", \"2020-06-01\", \"2020-06-02\", \"2020-06-03\", \"2020-06-04\", \"2020-06-05\", \"2020-06-08\", \"2020-06-09\", \"2020-06-10\", \"2020-06-11\", \"2020-06-12\", \"2020-06-15\", \"2020-06-16\", \"2020-06-17\", \"2020-06-18\", \"2020-06-19\", \"2020-06-22\", \"2020-06-23\", \"2020-06-24\", \"2020-06-29\", \"2020-06-30\", \"2020-07-01\", \"2020-07-02\", \"2020-07-03\", \"2020-07-06\", \"2020-07-07\", \"2020-07-08\", \"2020-07-09\", \"2020-07-10\", \"2020-07-13\", \"2020-07-14\", \"2020-07-15\", \"2020-07-16\", \"2020-07-17\", \"2020-07-20\", \"2020-07-21\", \"2020-07-22\", \"2020-07-23\", \"2020-07-24\", \"2020-07-27\", \"2020-07-28\", \"2020-07-29\", \"2020-07-30\", \"2020-07-31\", \"2020-08-03\", \"2020-08-04\", \"2020-08-05\", \"2020-08-06\", \"2020-08-07\", \"2020-08-10\", \"2020-08-11\", \"2020-08-12\", \"2020-08-13\", \"2020-08-14\", \"2020-08-17\", \"2020-08-18\", \"2020-08-19\", \"2020-08-20\", \"2020-08-21\", \"2020-08-24\", \"2020-08-25\", \"2020-08-26\", \"2020-08-27\", \"2020-08-28\", \"2020-08-31\", \"2020-09-01\", \"2020-09-02\", \"2020-09-03\", \"2020-09-04\", \"2020-09-07\", \"2020-09-08\", \"2020-09-09\", \"2020-09-10\", \"2020-09-11\", \"2020-09-14\", \"2020-09-15\", \"2020-09-16\", \"2020-09-17\", \"2020-09-18\", \"2020-09-21\", \"2020-09-22\", \"2020-09-23\", \"2020-09-24\", \"2020-09-25\", \"2020-09-28\", \"2020-09-29\", \"2020-09-30\", \"2020-10-09\", \"2020-10-12\", \"2020-10-13\", \"2020-10-14\", \"2020-10-15\", \"2020-10-16\", \"2020-10-19\", \"2020-10-20\", \"2020-10-21\", \"2020-10-22\", \"2020-10-23\", \"2020-10-26\", \"2020-10-27\", \"2020-10-28\", \"2020-10-29\", \"2020-10-30\", \"2020-11-02\", \"2020-11-03\", \"2020-11-04\", \"2020-11-05\", \"2020-11-06\", \"2020-11-09\", \"2020-11-10\", \"2020-11-11\", \"2020-11-12\", \"2020-11-13\", \"2020-11-16\", \"2020-11-17\", \"2020-11-18\", \"2020-11-19\", \"2020-11-20\"], \"xaxis\": \"x3\", \"y\": [100.0, 72.0, 72.90285605119868, 56.423086894956185, 39.15257133057352, 39.46045873352898, 29.610168197992678, 39.89252848489561, 27.124484803722254, 3.314108778692656, 9.169601464302275, -7.54984718613926, 3.281466509838296, 18.146228563408975, 32.637586217182154, 63.09009069005923, 65.94682120304532, 53.482602296463526, 74.67244729575852, 70.3095372333299, 65.42575931755556, 92.30743315203753, 108.71162678222808, 108.14155376247106, 108.2409167751058, 91.03422663070972, 82.35615824884744, 72.37887331969773, 52.794106561972484, 45.69829884386229, 29.464899382893634, 3.647371119591469, -11.608794040615635, -13.156775203527303, 4.760754032915457, 20.485723738852897, 40.6871292532079, 25.887045968668424, 5.219564765305556, -2.8140841983875973, -4.595616842449061, 2.19392236346836, 0.4611214958105556, -1.3892343671656207, 1.02916442948478, 37.3927070366674, 46.83184239381302, 60.34700860488279, 46.64039582341283, 55.6915049997593, 49.732237233410984, 62.9670837468684, 53.60989600767702, 65.40807104157619, 81.00660211134765, 68.7234952518024, 47.74308807085107, 20.003900474957575, 6.31215892342577, -4.716834777619042, -7.272790970328053, -9.809910385422555, -8.428577552532044, 11.696492009303974, 9.866766276848615, 7.732191212043219, 9.843116293498468, 2.4895579975653668, 6.828750281776962, -0.001469845441803841, 3.185262303068818, 0.4393908016290098, 0.5920375592997722, 8.930298588743007, 11.331994021855337, 5.611329817449867, 13.653908300492681, 11.0816570743828, 40.699476241487, 28.267990465168516, 12.180290424523175, 4.09725633526573, 4.245001996283232, 0.13529614233368292, -3.013462239942374, -4.0780812720714685, 0.9197960019437215, 7.519161972974578, 40.18510744902132, 57.525172215045195, 74.60594763070534, 87.8074675338676, 103.78829430138029, 80.85857760298943, 58.0434592600774, 59.04250903561676, 50.26665604305144, 46.89144404765203, 27.26129273690856, 0.0038725479294328125, -9.282683879770687, -10.84807313646278, -12.287961525753165, -8.70358351234895, 1.2639456246103187, 12.57106403128454, 22.70965075340518, 42.818067611067946, 70.81139251594647, 79.16872153346016, 102.31479359908779, 84.11650922235079, 48.915950780182314, 53.284181170811095, 72.57507236955841, 87.20689398326215, 98.82386239480414, 91.03122166964695], \"yaxis\": \"y3\"}],                        {\"height\": 600, \"template\": {\"data\": {\"bar\": [{\"error_x\": {\"color\": \"#2a3f5f\"}, \"error_y\": {\"color\": \"#2a3f5f\"}, \"marker\": {\"line\": {\"color\": \"#E5ECF6\", \"width\": 0.5}}, \"type\": \"bar\"}], \"barpolar\": [{\"marker\": {\"line\": {\"color\": \"#E5ECF6\", \"width\": 0.5}}, \"type\": \"barpolar\"}], \"carpet\": [{\"aaxis\": {\"endlinecolor\": \"#2a3f5f\", \"gridcolor\": \"white\", \"linecolor\": \"white\", \"minorgridcolor\": \"white\", \"startlinecolor\": \"#2a3f5f\"}, \"baxis\": {\"endlinecolor\": \"#2a3f5f\", \"gridcolor\": \"white\", \"linecolor\": \"white\", \"minorgridcolor\": \"white\", \"startlinecolor\": \"#2a3f5f\"}, \"type\": \"carpet\"}], \"choropleth\": [{\"colorbar\": {\"outlinewidth\": 0, \"ticks\": \"\"}, \"type\": \"choropleth\"}], \"contour\": [{\"colorbar\": {\"outlinewidth\": 0, \"ticks\": \"\"}, \"colorscale\": [[0.0, \"#0d0887\"], [0.1111111111111111, \"#46039f\"], [0.2222222222222222, \"#7201a8\"], [0.3333333333333333, \"#9c179e\"], [0.4444444444444444, \"#bd3786\"], [0.5555555555555556, \"#d8576b\"], [0.6666666666666666, \"#ed7953\"], [0.7777777777777778, \"#fb9f3a\"], [0.8888888888888888, \"#fdca26\"], [1.0, \"#f0f921\"]], \"type\": \"contour\"}], \"contourcarpet\": [{\"colorbar\": {\"outlinewidth\": 0, \"ticks\": \"\"}, \"type\": \"contourcarpet\"}], \"heatmap\": [{\"colorbar\": {\"outlinewidth\": 0, \"ticks\": \"\"}, \"colorscale\": [[0.0, \"#0d0887\"], [0.1111111111111111, \"#46039f\"], [0.2222222222222222, \"#7201a8\"], [0.3333333333333333, \"#9c179e\"], [0.4444444444444444, \"#bd3786\"], [0.5555555555555556, \"#d8576b\"], [0.6666666666666666, \"#ed7953\"], [0.7777777777777778, \"#fb9f3a\"], [0.8888888888888888, \"#fdca26\"], [1.0, \"#f0f921\"]], \"type\": \"heatmap\"}], \"heatmapgl\": [{\"colorbar\": {\"outlinewidth\": 0, \"ticks\": \"\"}, \"colorscale\": [[0.0, \"#0d0887\"], [0.1111111111111111, \"#46039f\"], [0.2222222222222222, \"#7201a8\"], [0.3333333333333333, \"#9c179e\"], [0.4444444444444444, \"#bd3786\"], [0.5555555555555556, \"#d8576b\"], [0.6666666666666666, \"#ed7953\"], [0.7777777777777778, \"#fb9f3a\"], [0.8888888888888888, \"#fdca26\"], [1.0, \"#f0f921\"]], \"type\": \"heatmapgl\"}], \"histogram\": [{\"marker\": {\"colorbar\": {\"outlinewidth\": 0, \"ticks\": \"\"}}, \"type\": \"histogram\"}], \"histogram2d\": [{\"colorbar\": {\"outlinewidth\": 0, \"ticks\": \"\"}, \"colorscale\": [[0.0, \"#0d0887\"], [0.1111111111111111, \"#46039f\"], [0.2222222222222222, \"#7201a8\"], [0.3333333333333333, \"#9c179e\"], [0.4444444444444444, \"#bd3786\"], [0.5555555555555556, \"#d8576b\"], [0.6666666666666666, \"#ed7953\"], [0.7777777777777778, \"#fb9f3a\"], [0.8888888888888888, \"#fdca26\"], [1.0, \"#f0f921\"]], \"type\": \"histogram2d\"}], \"histogram2dcontour\": [{\"colorbar\": {\"outlinewidth\": 0, \"ticks\": \"\"}, \"colorscale\": [[0.0, \"#0d0887\"], [0.1111111111111111, \"#46039f\"], [0.2222222222222222, \"#7201a8\"], [0.3333333333333333, \"#9c179e\"], [0.4444444444444444, \"#bd3786\"], [0.5555555555555556, \"#d8576b\"], [0.6666666666666666, \"#ed7953\"], [0.7777777777777778, \"#fb9f3a\"], [0.8888888888888888, \"#fdca26\"], [1.0, \"#f0f921\"]], \"type\": \"histogram2dcontour\"}], \"mesh3d\": [{\"colorbar\": {\"outlinewidth\": 0, \"ticks\": \"\"}, \"type\": \"mesh3d\"}], \"parcoords\": [{\"line\": {\"colorbar\": {\"outlinewidth\": 0, \"ticks\": \"\"}}, \"type\": \"parcoords\"}], \"pie\": [{\"automargin\": true, \"type\": \"pie\"}], \"scatter\": [{\"marker\": {\"colorbar\": {\"outlinewidth\": 0, \"ticks\": \"\"}}, \"type\": \"scatter\"}], \"scatter3d\": [{\"line\": {\"colorbar\": {\"outlinewidth\": 0, \"ticks\": \"\"}}, \"marker\": {\"colorbar\": {\"outlinewidth\": 0, \"ticks\": \"\"}}, \"type\": \"scatter3d\"}], \"scattercarpet\": [{\"marker\": {\"colorbar\": {\"outlinewidth\": 0, \"ticks\": \"\"}}, \"type\": \"scattercarpet\"}], \"scattergeo\": [{\"marker\": {\"colorbar\": {\"outlinewidth\": 0, \"ticks\": \"\"}}, \"type\": \"scattergeo\"}], \"scattergl\": [{\"marker\": {\"colorbar\": {\"outlinewidth\": 0, \"ticks\": \"\"}}, \"type\": \"scattergl\"}], \"scattermapbox\": [{\"marker\": {\"colorbar\": {\"outlinewidth\": 0, \"ticks\": \"\"}}, \"type\": \"scattermapbox\"}], \"scatterpolar\": [{\"marker\": {\"colorbar\": {\"outlinewidth\": 0, \"ticks\": \"\"}}, \"type\": \"scatterpolar\"}], \"scatterpolargl\": [{\"marker\": {\"colorbar\": {\"outlinewidth\": 0, \"ticks\": \"\"}}, \"type\": \"scatterpolargl\"}], \"scatterternary\": [{\"marker\": {\"colorbar\": {\"outlinewidth\": 0, \"ticks\": \"\"}}, \"type\": \"scatterternary\"}], \"surface\": [{\"colorbar\": {\"outlinewidth\": 0, \"ticks\": \"\"}, \"colorscale\": [[0.0, \"#0d0887\"], [0.1111111111111111, \"#46039f\"], [0.2222222222222222, \"#7201a8\"], [0.3333333333333333, \"#9c179e\"], [0.4444444444444444, \"#bd3786\"], [0.5555555555555556, \"#d8576b\"], [0.6666666666666666, \"#ed7953\"], [0.7777777777777778, \"#fb9f3a\"], [0.8888888888888888, \"#fdca26\"], [1.0, \"#f0f921\"]], \"type\": \"surface\"}], \"table\": [{\"cells\": {\"fill\": {\"color\": \"#EBF0F8\"}, \"line\": {\"color\": \"white\"}}, \"header\": {\"fill\": {\"color\": \"#C8D4E3\"}, \"line\": {\"color\": \"white\"}}, \"type\": \"table\"}]}, \"layout\": {\"annotationdefaults\": {\"arrowcolor\": \"#2a3f5f\", \"arrowhead\": 0, \"arrowwidth\": 1}, \"coloraxis\": {\"colorbar\": {\"outlinewidth\": 0, \"ticks\": \"\"}}, \"colorscale\": {\"diverging\": [[0, \"#8e0152\"], [0.1, \"#c51b7d\"], [0.2, \"#de77ae\"], [0.3, \"#f1b6da\"], [0.4, \"#fde0ef\"], [0.5, \"#f7f7f7\"], [0.6, \"#e6f5d0\"], [0.7, \"#b8e186\"], [0.8, \"#7fbc41\"], [0.9, \"#4d9221\"], [1, \"#276419\"]], \"sequential\": [[0.0, \"#0d0887\"], [0.1111111111111111, \"#46039f\"], [0.2222222222222222, \"#7201a8\"], [0.3333333333333333, \"#9c179e\"], [0.4444444444444444, \"#bd3786\"], [0.5555555555555556, \"#d8576b\"], [0.6666666666666666, \"#ed7953\"], [0.7777777777777778, \"#fb9f3a\"], [0.8888888888888888, \"#fdca26\"], [1.0, \"#f0f921\"]], \"sequentialminus\": [[0.0, \"#0d0887\"], [0.1111111111111111, \"#46039f\"], [0.2222222222222222, \"#7201a8\"], [0.3333333333333333, \"#9c179e\"], [0.4444444444444444, \"#bd3786\"], [0.5555555555555556, \"#d8576b\"], [0.6666666666666666, \"#ed7953\"], [0.7777777777777778, \"#fb9f3a\"], [0.8888888888888888, \"#fdca26\"], [1.0, \"#f0f921\"]]}, \"colorway\": [\"#636efa\", \"#EF553B\", \"#00cc96\", \"#ab63fa\", \"#FFA15A\", \"#19d3f3\", \"#FF6692\", \"#B6E880\", \"#FF97FF\", \"#FECB52\"], \"font\": {\"color\": \"#2a3f5f\"}, \"geo\": {\"bgcolor\": \"white\", \"lakecolor\": \"white\", \"landcolor\": \"#E5ECF6\", \"showlakes\": true, \"showland\": true, \"subunitcolor\": \"white\"}, \"hoverlabel\": {\"align\": \"left\"}, \"hovermode\": \"closest\", \"mapbox\": {\"style\": \"light\"}, \"paper_bgcolor\": \"white\", \"plot_bgcolor\": \"#E5ECF6\", \"polar\": {\"angularaxis\": {\"gridcolor\": \"white\", \"linecolor\": \"white\", \"ticks\": \"\"}, \"bgcolor\": \"#E5ECF6\", \"radialaxis\": {\"gridcolor\": \"white\", \"linecolor\": \"white\", \"ticks\": \"\"}}, \"scene\": {\"xaxis\": {\"backgroundcolor\": \"#E5ECF6\", \"gridcolor\": \"white\", \"gridwidth\": 2, \"linecolor\": \"white\", \"showbackground\": true, \"ticks\": \"\", \"zerolinecolor\": \"white\"}, \"yaxis\": {\"backgroundcolor\": \"#E5ECF6\", \"gridcolor\": \"white\", \"gridwidth\": 2, \"linecolor\": \"white\", \"showbackground\": true, \"ticks\": \"\", \"zerolinecolor\": \"white\"}, \"zaxis\": {\"backgroundcolor\": \"#E5ECF6\", \"gridcolor\": \"white\", \"gridwidth\": 2, \"linecolor\": \"white\", \"showbackground\": true, \"ticks\": \"\", \"zerolinecolor\": \"white\"}}, \"shapedefaults\": {\"line\": {\"color\": \"#2a3f5f\"}}, \"ternary\": {\"aaxis\": {\"gridcolor\": \"white\", \"linecolor\": \"white\", \"ticks\": \"\"}, \"baxis\": {\"gridcolor\": \"white\", \"linecolor\": \"white\", \"ticks\": \"\"}, \"bgcolor\": \"#E5ECF6\", \"caxis\": {\"gridcolor\": \"white\", \"linecolor\": \"white\", \"ticks\": \"\"}}, \"title\": {\"x\": 0.05}, \"xaxis\": {\"automargin\": true, \"gridcolor\": \"white\", \"linecolor\": \"white\", \"ticks\": \"\", \"title\": {\"standoff\": 15}, \"zerolinecolor\": \"white\", \"zerolinewidth\": 2}, \"yaxis\": {\"automargin\": true, \"gridcolor\": \"white\", \"linecolor\": \"white\", \"ticks\": \"\", \"title\": {\"standoff\": 15}, \"zerolinecolor\": \"white\", \"zerolinewidth\": 2}}}, \"title\": {\"text\": \"Stacked Subplots\"}, \"width\": 600, \"xaxis\": {\"anchor\": \"y\", \"domain\": [0.0, 1.0]}, \"xaxis2\": {\"anchor\": \"y2\", \"domain\": [0.0, 1.0]}, \"xaxis3\": {\"anchor\": \"y3\", \"domain\": [0.0, 1.0]}, \"yaxis\": {\"anchor\": \"x\", \"domain\": [0.7333333333333333, 1.0]}, \"yaxis2\": {\"anchor\": \"x2\", \"domain\": [0.36666666666666664, 0.6333333333333333]}, \"yaxis3\": {\"anchor\": \"x3\", \"domain\": [0.0, 0.26666666666666666]}},                        {\"responsive\": true}                    ).then(function(){\n",
       "                            \n",
       "var gd = document.getElementById('dfbab27e-a713-4786-bb54-d1dc85a40d71');\n",
       "var x = new MutationObserver(function (mutations, observer) {{\n",
       "        var display = window.getComputedStyle(gd).display;\n",
       "        if (!display || display === 'none') {{\n",
       "            console.log([gd, 'removed!']);\n",
       "            Plotly.purge(gd);\n",
       "            observer.disconnect();\n",
       "        }}\n",
       "}});\n",
       "\n",
       "// Listen for the removal of the full notebook cells\n",
       "var notebookContainer = gd.closest('#notebook-container');\n",
       "if (notebookContainer) {{\n",
       "    x.observe(notebookContainer, {childList: true});\n",
       "}}\n",
       "\n",
       "// Listen for the clearing of the current output cell\n",
       "var outputEl = gd.closest('.output');\n",
       "if (outputEl) {{\n",
       "    x.observe(outputEl, {childList: true});\n",
       "}}\n",
       "\n",
       "                        })                };                });            </script>        </div>"
      ]
     },
     "metadata": {},
     "output_type": "display_data"
    }
   ],
   "source": [
    "pd.options.plotting.backend = \"plotly\"\n",
    "from plotly.subplots import make_subplots\n",
    "import plotly.graph_objects as go\n",
    "\n",
    "fig = make_subplots(rows=3, cols=1)\n",
    "fig.append_trace(go.Scatter( x=dw['trade_date'], y=dw['K'],) , row=1, col=1)\n",
    "fig.append_trace(go.Scatter( x=dw['trade_date'], y=dw['D'],) , row=1, col=1)\n",
    "fig.append_trace(go.Scatter( x=dw['trade_date'], y=dw['J'],) , row=1, col=1)\n",
    "fig.append_trace(go.Scatter( x=dw['trade_date'], y=dw['D'],) , row=2, col=1)\n",
    "fig.append_trace(go.Scatter( x=dw['trade_date'], y=dw['J']) , row=3, col=1)\n",
    "\n",
    "fig.update_layout(height=600, width=600, title_text=\"Stacked Subplots\")\n",
    "fig.show()"
   ]
  },
  {
   "cell_type": "code",
   "execution_count": null,
   "metadata": {},
   "outputs": [],
   "source": []
  }
 ],
 "metadata": {
  "colab": {
   "authorship_tag": "ABX9TyMgPQJEOr31wkUCHUDwwqD5",
   "collapsed_sections": [],
   "name": "rsi.ipynb",
   "provenance": []
  },
  "kernelspec": {
   "display_name": "Python 3",
   "language": "python",
   "name": "python3"
  },
  "language_info": {
   "codemirror_mode": {
    "name": "ipython",
    "version": 3
   },
   "file_extension": ".py",
   "mimetype": "text/x-python",
   "name": "python",
   "nbconvert_exporter": "python",
   "pygments_lexer": "ipython3",
   "version": "3.8.3"
  }
 },
 "nbformat": 4,
 "nbformat_minor": 4
}
