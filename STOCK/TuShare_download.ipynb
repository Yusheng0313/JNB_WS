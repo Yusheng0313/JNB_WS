{
 "cells": [
  {
   "cell_type": "code",
   "execution_count": 1,
   "metadata": {
    "collapsed": true
   },
   "outputs": [],
   "source": [
    "import tushare as ts\n",
    "import pandas as pd\n",
    "from pandas import DataFrame\n",
    "from pandas import concat\n",
    "from pandas import merge\n",
    "import numpy as np\n",
    "import matplotlib.pyplot as plt\n",
    "import seaborn as sns\n",
    "import os, sys\n",
    "import time"
   ]
  },
  {
   "cell_type": "code",
   "execution_count": 2,
   "metadata": {
    "collapsed": true
   },
   "outputs": [],
   "source": [
    "#ts.set_token('4a7caeea1e5e4718dac4386b6e4f7bfefdafd2f9634f9e71e6ffaaef')\n",
    "#ts.set_token('d6fe22750410e124c057a41d1c8031d684b8e0d2f1b96b694db0ea2a') #15112994875\n",
    "#ts.set_token('ca4d2743af67b24bcbc3b14f09fa349b9877bc893b28706041600a9e') #492207670@qq.com\n",
    "#ts.set_token('86f7cdc6aad080403432e395cee208218866d4f091063e69d8c8d755') #714553504@qq.com\n",
    "#ts.set_token('0242bb7d53bef05e3ce8e426c7b4ac86edf30ca779d0b0e48d4a7882') #1755347637@qq.com\n",
    "#ts.set_token('8f68a2ccc10e31a9d66ae27e6930bdb8cb99a6eb75b8d5e8da0a495b')  #26098495@qq.com\n",
    "#ts.set_token('9f5585ac3e8a5fd2e4be500723102060c609881d22e2b9f9436d3409')  #2364480207@qq.com\n",
    "#ts.set_token('b1b07de72441487cc9bdced5c94fab3765605559a50106e3e621a95c')  #763690782@qq.com\n",
    "#ts.set_token('01e7c939be853b6e8cc8b2cfb19facd42733e68062485b5d8c8a3a38')  #3509036093@qq.com\n",
    "#ts.set_token('52341d49b9b7616a7f98976bcb41d29d21e723a68015afd6c97f781b')  #13433245820\n",
    "#ts.set_token('a06020cba02aa5cf32bc461b4e529af5852de1e7c19e5a22a9f7c118')  #roelwf134@163.com\n",
    "\n",
    "#ts.set_token('029060c40e4a6b9b2ffc3e55a18f6690b9e3ba9c77ab8a1ece015bda')  #2978373708@qq.com\n",
    "#ts.set_token('e6215c86b05f42be90a84255b65924c7e3e64cd8b189f09de97a9a90')  #huelw124@sina.com\n",
    "ts.set_token('89f9642565ae1134ca836fe089382335b46b880a626c2ec42ade6d87')  #1516836216@qq.com\n",
    "#ts.set_token('2b0108ead201cfff4f868f17f5f4269ac9617d740e24aea8c7ae5983') #holdetf@sina.com\n",
    "\n"
   ]
  },
  {
   "cell_type": "code",
   "execution_count": 3,
   "metadata": {
    "collapsed": true
   },
   "outputs": [],
   "source": [
    "pro = ts.pro_api()"
   ]
  },
  {
   "cell_type": "code",
   "execution_count": 4,
   "metadata": {
    "collapsed": true
   },
   "outputs": [],
   "source": [
    "# 更新股票基础信息 \n",
    "def to_stock_list():\n",
    "    df = pro.stock_basic(list_status='L', fields='ts_code,symbol,name,area,industry,list_date,fullname,market,exchange,list_status,is_hs')\n",
    "    df = df.to_excel('..\\\\JN_DataWarehouse\\\\stock_analysis\\\\TuShare\\\\stock_list.xls')"
   ]
  },
  {
   "cell_type": "code",
   "execution_count": 5,
   "metadata": {
    "collapsed": true
   },
   "outputs": [],
   "source": [
    "#更新交易日历\n",
    "def to_cal():\n",
    "    df = pro.trade_cal(exchange='', start_date='20110101', end_date='20290101', fields='exchange,cal_date,is_open,pretrade_date')\n",
    "    df = df.to_excel('..\\\\JN_DataWarehouse\\\\stock_analysis\\\\TuShare\\\\cal.xls')"
   ]
  },
  {
   "cell_type": "code",
   "execution_count": 6,
   "metadata": {
    "collapsed": true
   },
   "outputs": [],
   "source": [
    "# 上市公司基本信息\n",
    "def to_stock_company():\n",
    "    df = pro.stock_company()\n",
    "    df = df.to_excel('..\\\\JN_DataWarehouse\\\\stock_analysis\\\\TuShare\\\\company.xls')"
   ]
  },
  {
   "cell_type": "code",
   "execution_count": 7,
   "metadata": {
    "collapsed": true
   },
   "outputs": [],
   "source": [
    "#to_stock_list()\n",
    "#to_cal()\n",
    "#to_stock_company()\n"
   ]
  },
  {
   "cell_type": "code",
   "execution_count": 8,
   "metadata": {
    "collapsed": true
   },
   "outputs": [],
   "source": [
    "# 读取日历\n",
    "def read_cal():\n",
    "    df = pd.read_excel('..\\\\JN_DataWarehouse\\\\stock_analysis\\\\TuShare\\\\cal.xls', index_col=False)\n",
    "    return df\n",
    "\n",
    "\n",
    "# 读取日历\n",
    "def read_cal_t():\n",
    "    df = pd.read_excel('..\\\\JN_DataWarehouse\\\\stock_analysis\\\\TuShare\\\\cal.xls', index_col=False)\n",
    "    df_cal_t = df.query(\"is_open == 1\")[['cal_date']]            # query 查询语句\n",
    "    return df_cal_t"
   ]
  },
  {
   "cell_type": "code",
   "execution_count": 9,
   "metadata": {
    "collapsed": true
   },
   "outputs": [],
   "source": [
    "df_cal_t = read_cal_t()\n"
   ]
  },
  {
   "cell_type": "code",
   "execution_count": 10,
   "metadata": {},
   "outputs": [
    {
     "data": {
      "text/plain": [
       "pandas.core.frame.DataFrame"
      ]
     },
     "execution_count": 10,
     "metadata": {},
     "output_type": "execute_result"
    }
   ],
   "source": [
    "type(df_cal_t)"
   ]
  },
  {
   "cell_type": "code",
   "execution_count": 11,
   "metadata": {},
   "outputs": [
    {
     "name": "stdout",
     "output_type": "stream",
     "text": [
      "2432\n",
      "20110104\n",
      "<bound method DataFrame.count of         ts_code trade_date   open   high    low  close  pre_close  change  \\\n",
      "0     002007.SZ   20110104  48.51  48.69  47.42  48.13      48.39   -0.26   \n",
      "1     000088.SZ   20110104   6.15   6.18   6.09   6.17       6.13    0.04   \n",
      "2     000068.SZ   20110104   6.01   6.30   5.94   6.30       6.00    0.30   \n",
      "3     600167.SH   20110104   9.62   9.78   9.58   9.74       9.63    0.11   \n",
      "4     002418.SZ   20110104  22.05  22.64  22.01  22.58      22.00    0.58   \n",
      "...         ...        ...    ...    ...    ...    ...        ...     ...   \n",
      "1964  002387.SZ   20110104  38.90  39.98  38.90  39.85      38.85    1.00   \n",
      "1965  000958.SZ   20110104   5.07   5.13   5.04   5.09       5.06    0.03   \n",
      "1966  600862.SH   20110104  11.84  11.97  11.70  11.96      11.78    0.18   \n",
      "1967  001872.SZ   20110104  14.07  14.30  14.00  14.18      14.03    0.15   \n",
      "1968  001914.SZ   20110104  12.42  13.23  12.36  12.99      12.34    0.65   \n",
      "\n",
      "      pct_chg        vol       amount  \n",
      "0      -0.540   50208.66  240624.7194  \n",
      "1       0.650   22159.02   13623.5458  \n",
      "2       5.000  109392.70   66681.5565  \n",
      "3       1.140    8403.49    8151.7650  \n",
      "4       2.640   12609.19   28261.5130  \n",
      "...       ...        ...          ...  \n",
      "1964    2.570   10955.91   43461.6717  \n",
      "1965    0.590   25870.76   13136.3109  \n",
      "1966    1.528   18876.24   22417.8240  \n",
      "1967    1.070   22049.90   31214.5261  \n",
      "1968    5.270   62625.37   80958.7044  \n",
      "\n",
      "[1969 rows x 11 columns]>\n",
      "20110105\n",
      "<bound method DataFrame.count of         ts_code trade_date   open   high    low  close  pre_close  change  \\\n",
      "0     600088.SH   20110105  16.03  16.31  15.93  16.18      16.05    0.13   \n",
      "1     002303.SZ   20110105  42.35  42.88  41.79  42.06      42.32   -0.26   \n",
      "2     000928.SZ   20110105  14.18  14.72  13.90  14.44      14.23    0.21   \n",
      "3     000939.SZ   20110105  16.01  16.16  15.66  15.80      16.01   -0.21   \n",
      "4     002009.SZ   20110105  14.34  14.49  14.15  14.36      14.33    0.03   \n",
      "...         ...        ...    ...    ...    ...    ...        ...     ...   \n",
      "1952  000686.SZ   20110105  22.30  22.38  22.09  22.28      22.57   -0.29   \n",
      "1953  300114.SZ   20110105  36.31  36.57  36.00  36.55      36.31    0.24   \n",
      "1954  600862.SH   20110105  11.98  12.02  11.82  11.94      11.96   -0.02   \n",
      "1955  001872.SZ   20110105  14.15  14.33  14.03  14.32      14.18    0.14   \n",
      "1956  001914.SZ   20110105  12.85  13.07  12.78  12.91      12.99   -0.08   \n",
      "\n",
      "      pct_chg       vol       amount  \n",
      "0      0.8100  27868.74   45101.0400  \n",
      "1     -0.6100   6906.04   29139.0746  \n",
      "2      1.4800  83482.88  119883.3792  \n",
      "3     -1.3100  58403.33   92831.8123  \n",
      "4      0.2100  25817.36   37131.2475  \n",
      "...       ...       ...          ...  \n",
      "1952  -1.2800  48169.61  107040.3548  \n",
      "1953   0.6600   6166.42   22351.9446  \n",
      "1954  -0.1672  17744.20   21139.0290  \n",
      "1955   0.9900  20908.36   29670.6220  \n",
      "1956  -0.6200  38256.93   49288.5744  \n",
      "\n",
      "[1957 rows x 11 columns]>\n"
     ]
    }
   ],
   "source": [
    "count = int( df_cal_t.count() )\n",
    "print(count)\n",
    "for r in zip(df_cal_t['cal_date']):\n",
    "    print(r[0])\n",
    "    \n",
    "    df = pro.daily(start_date=r[0], end_date=r[0])\n",
    "    print(df.count)\n",
    "    \n",
    "    time.sleep(5)\n",
    "    \n",
    "    count= count - 1\n",
    "    if count==2430:\n",
    "        break "
   ]
  },
  {
   "cell_type": "code",
   "execution_count": 12,
   "metadata": {
    "scrolled": true
   },
   "outputs": [],
   "source": [
    "df = pro.daily(start_date='20110111', end_date='20110111')\n",
    "df = df.to_excel('..\\\\JN_DataWarehouse\\\\stock_analysis\\\\TuShare\\\\Temp\\\\20110111.xls')"
   ]
  },
  {
   "cell_type": "code",
   "execution_count": null,
   "metadata": {
    "collapsed": true
   },
   "outputs": [],
   "source": []
  },
  {
   "cell_type": "code",
   "execution_count": 13,
   "metadata": {},
   "outputs": [
    {
     "ename": "AttributeError",
     "evalue": "'NoneType' object has no attribute 'info'",
     "output_type": "error",
     "traceback": [
      "\u001b[1;31m---------------------------------------------------------------------------\u001b[0m",
      "\u001b[1;31mAttributeError\u001b[0m                            Traceback (most recent call last)",
      "\u001b[1;32m<ipython-input-13-857958930b27>\u001b[0m in \u001b[0;36m<module>\u001b[1;34m()\u001b[0m\n\u001b[1;32m----> 1\u001b[1;33m \u001b[0mdf\u001b[0m\u001b[1;33m.\u001b[0m\u001b[0minfo\u001b[0m\u001b[1;33m(\u001b[0m\u001b[1;33m)\u001b[0m\u001b[1;33m\u001b[0m\u001b[0m\n\u001b[0m",
      "\u001b[1;31mAttributeError\u001b[0m: 'NoneType' object has no attribute 'info'"
     ]
    }
   ],
   "source": [
    "df.info()"
   ]
  },
  {
   "cell_type": "code",
   "execution_count": null,
   "metadata": {
    "collapsed": true
   },
   "outputs": [],
   "source": [
    "df = pro.fina_indicator(ts_code='600000.SH')"
   ]
  },
  {
   "cell_type": "code",
   "execution_count": null,
   "metadata": {
    "collapsed": true
   },
   "outputs": [],
   "source": []
  }
 ],
 "metadata": {
  "kernelspec": {
   "display_name": "Python 3",
   "language": "python",
   "name": "python3"
  },
  "language_info": {
   "codemirror_mode": {
    "name": "ipython",
    "version": 3
   },
   "file_extension": ".py",
   "mimetype": "text/x-python",
   "name": "python",
   "nbconvert_exporter": "python",
   "pygments_lexer": "ipython3",
   "version": "3.6.2"
  }
 },
 "nbformat": 4,
 "nbformat_minor": 2
}
