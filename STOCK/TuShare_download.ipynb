{
 "cells": [
  {
   "cell_type": "code",
   "execution_count": 1,
   "metadata": {
    "collapsed": true
   },
   "outputs": [],
   "source": [
    "import tushare as ts\n",
    "import pandas as pd\n",
    "from pandas import DataFrame\n",
    "from pandas import concat\n",
    "from pandas import merge\n",
    "import numpy as np\n",
    "import matplotlib.pyplot as plt\n",
    "import seaborn as sns\n",
    "import os, sys\n",
    "import time"
   ]
  },
  {
   "cell_type": "markdown",
   "metadata": {},
   "source": [
    "# 1、注册接口"
   ]
  },
  {
   "cell_type": "code",
   "execution_count": 2,
   "metadata": {
    "collapsed": true
   },
   "outputs": [],
   "source": [
    "#ts.set_token('4a7caeea1e5e4718dac4386b6e4f7bfefdafd2f9634f9e71e6ffaaef')\n",
    "#ts.set_token('d6fe22750410e124c057a41d1c8031d684b8e0d2f1b96b694db0ea2a') #15112994875\n",
    "#ts.set_token('ca4d2743af67b24bcbc3b14f09fa349b9877bc893b28706041600a9e') #492207670@qq.com\n",
    "#ts.set_token('86f7cdc6aad080403432e395cee208218866d4f091063e69d8c8d755') #714553504@qq.com\n",
    "#ts.set_token('0242bb7d53bef05e3ce8e426c7b4ac86edf30ca779d0b0e48d4a7882') #1755347637@qq.com\n",
    "#ts.set_token('8f68a2ccc10e31a9d66ae27e6930bdb8cb99a6eb75b8d5e8da0a495b')  #26098495@qq.com\n",
    "ts.set_token('9f5585ac3e8a5fd2e4be500723102060c609881d22e2b9f9436d3409')  #2364480207@qq.com\n",
    "#ts.set_token('b1b07de72441487cc9bdced5c94fab3765605559a50106e3e621a95c')  #763690782@qq.com\n",
    "#ts.set_token('01e7c939be853b6e8cc8b2cfb19facd42733e68062485b5d8c8a3a38')  #3509036093@qq.com\n",
    "#ts.set_token('52341d49b9b7616a7f98976bcb41d29d21e723a68015afd6c97f781b')  #13433245820\n",
    "#ts.set_token('a06020cba02aa5cf32bc461b4e529af5852de1e7c19e5a22a9f7c118')  #roelwf134@163.com\n",
    "\n",
    "#ts.set_token('029060c40e4a6b9b2ffc3e55a18f6690b9e3ba9c77ab8a1ece015bda')  #2978373708@qq.com\n",
    "#ts.set_token('e6215c86b05f42be90a84255b65924c7e3e64cd8b189f09de97a9a90')  #huelw124@sina.com\n",
    "#ts.set_token('89f9642565ae1134ca836fe089382335b46b880a626c2ec42ade6d87')  #1516836216@qq.com\n",
    "#ts.set_token('2b0108ead201cfff4f868f17f5f4269ac9617d740e24aea8c7ae5983') #holdetf@sina.com\n",
    "\n"
   ]
  },
  {
   "cell_type": "code",
   "execution_count": 3,
   "metadata": {
    "collapsed": true
   },
   "outputs": [],
   "source": [
    "pro = ts.pro_api()"
   ]
  },
  {
   "cell_type": "markdown",
   "metadata": {},
   "source": [
    "# 2、更新基础信息"
   ]
  },
  {
   "cell_type": "code",
   "execution_count": 4,
   "metadata": {
    "collapsed": true
   },
   "outputs": [],
   "source": [
    "# 更新股票基础信息 \n",
    "def to_stock_list():\n",
    "    df = pro.stock_basic(list_status='L', fields='ts_code,symbol,name,area,industry,list_date,fullname,market,exchange,list_status,is_hs')\n",
    "    df = df.to_excel('..\\\\JN_DataWarehouse\\\\stock_analysis\\\\TuShare\\\\stock_list.xls')"
   ]
  },
  {
   "cell_type": "code",
   "execution_count": 5,
   "metadata": {
    "collapsed": true
   },
   "outputs": [],
   "source": [
    "#更新交易日历\n",
    "def to_cal():\n",
    "    df = pro.trade_cal(exchange='', start_date='20110101', end_date='20290101', fields='exchange,cal_date,is_open,pretrade_date')\n",
    "    df = df.to_excel('..\\\\JN_DataWarehouse\\\\stock_analysis\\\\TuShare\\\\cal.xls')"
   ]
  },
  {
   "cell_type": "code",
   "execution_count": 6,
   "metadata": {
    "collapsed": true
   },
   "outputs": [],
   "source": [
    "# 上市公司基本信息\n",
    "def to_stock_company():\n",
    "    df = pro.stock_company()\n",
    "    df = df.to_excel('..\\\\JN_DataWarehouse\\\\stock_analysis\\\\TuShare\\\\company.xls')"
   ]
  },
  {
   "cell_type": "code",
   "execution_count": 7,
   "metadata": {
    "collapsed": true
   },
   "outputs": [],
   "source": [
    "#to_stock_list()\n",
    "#to_cal()\n",
    "#to_stock_company()\n"
   ]
  },
  {
   "cell_type": "markdown",
   "metadata": {},
   "source": [
    "# 3、更新每日stock信息"
   ]
  },
  {
   "cell_type": "code",
   "execution_count": 8,
   "metadata": {
    "collapsed": true
   },
   "outputs": [],
   "source": [
    "# 读取日历\n",
    "def read_cal():\n",
    "    df = pd.read_excel('..\\\\JN_DataWarehouse\\\\stock_analysis\\\\TuShare\\\\cal.xls', index_col=False)\n",
    "    return df\n",
    "\n",
    "\n",
    "# 读取日历，按时间段\n",
    "def read_cal_t(start_date, end_date):\n",
    "    df = pd.read_excel('..\\\\JN_DataWarehouse\\\\stock_analysis\\\\TuShare\\\\cal.xls', index_col=False)\n",
    "    df_cal_t = df.query(\"is_open == 1 and cal_date >= \"+start_date+\" and cal_date <= \"+end_date+\"\")[['cal_date']]  # query 查询语句\n",
    "    return df_cal_t"
   ]
  },
  {
   "cell_type": "code",
   "execution_count": 9,
   "metadata": {
    "collapsed": true
   },
   "outputs": [],
   "source": [
    "# 读取year\n",
    "def read_year(year):\n",
    "    df = pd.read_csv('..\\\\JN_DataWarehouse\\\\stock_analysis\\\\TuShare\\\\'+year+'.csv', index_col=False)\n",
    "    return df\n",
    "\n",
    "# 更新 year\n",
    "def to_year(df, year):\n",
    "    df = df.to_csv('..\\\\JN_DataWarehouse\\\\stock_analysis\\\\TuShare\\\\'+year+'.csv')\n",
    "\n",
    "# 更新 year\n",
    "def to_newyear(df):\n",
    "    df = df.to_csv('..\\\\JN_DataWarehouse\\\\stock_analysis\\\\TuShare\\\\new_year.csv')"
   ]
  },
  {
   "cell_type": "code",
   "execution_count": 10,
   "metadata": {
    "collapsed": true
   },
   "outputs": [],
   "source": [
    "# 生成日数据按年合并\n",
    "def build_daily(year):\n",
    "    \n",
    "    start_date = year+'0101'\n",
    "    end_date = year+'1231'\n",
    "    \n",
    "    df_cal_t = read_cal_t(start_date, end_date)\n",
    "    count = int( df_cal_t.count() )\n",
    "    print(count)\n",
    "    \n",
    "    df_year = pro.daily(start_date='?', end_date='?')\n",
    "    print(df_year)\n",
    "    for r in zip(df_cal_t['cal_date']):\n",
    "        #print(r[0])\n",
    "    \n",
    "        df_daily = pro.daily(start_date=r[0], end_date=r[0])\n",
    "    \n",
    "        df_year = df_year.append(df_daily,ignore_index = True)         \n",
    "    \n",
    "        time.sleep(1)\n",
    "    \n",
    "        count= count - 1\n",
    "        if count==2430:\n",
    "            break\n",
    "    \n",
    "    to_year(df_year, year)\n",
    "    print('ok!')"
   ]
  },
  {
   "cell_type": "code",
   "execution_count": 11,
   "metadata": {
    "collapsed": true
   },
   "outputs": [],
   "source": [
    "# 刷新最细stock数据\n",
    "#build_daily('2020')"
   ]
  },
  {
   "cell_type": "markdown",
   "metadata": {},
   "source": [
    "# 4、读取XX公司日数据，按时间段"
   ]
  },
  {
   "cell_type": "code",
   "execution_count": 12,
   "metadata": {
    "collapsed": true
   },
   "outputs": [],
   "source": [
    "# 读取year\n",
    "def read_year(year):\n",
    "    df = pd.read_csv('..\\\\JN_DataWarehouse\\\\stock_analysis\\\\TuShare\\\\'+year+'.csv' ,index_col=False)\n",
    "    return df"
   ]
  },
  {
   "cell_type": "code",
   "execution_count": 13,
   "metadata": {
    "collapsed": true
   },
   "outputs": [],
   "source": [
    "def build_stock_newyear():\n",
    "    years = ['2011','2012','2013','2014','2015','2016','2017','2018','2019','2020']\n",
    "    df = read_year('2011')\n",
    "        \n",
    "    for x in years:\n",
    "        df1 = read_year(x)\n",
    "        df = concat([df,df1],ignore_index=True).drop_duplicates() \n",
    "    \n",
    "    del df['Unnamed: 0']\n",
    "    \n",
    "    to_newyear(df)\n",
    "    \n",
    "    return df"
   ]
  },
  {
   "cell_type": "code",
   "execution_count": 14,
   "metadata": {},
   "outputs": [
    {
     "data": {
      "text/plain": [
       "<bound method DataFrame.info of            ts_code  trade_date    open    high    low   close  pre_close  \\\n",
       "0        002007.SZ    20110104   48.51   48.69  47.42   48.13      48.39   \n",
       "1        000088.SZ    20110104    6.15    6.18   6.09    6.17       6.13   \n",
       "2        000068.SZ    20110104    6.01    6.30   5.94    6.30       6.00   \n",
       "3        600167.SH    20110104    9.62    9.78   9.58    9.74       9.63   \n",
       "4        002418.SZ    20110104   22.05   22.64  22.01   22.58      22.00   \n",
       "...            ...         ...     ...     ...    ...     ...        ...   \n",
       "6415362  688589.SH    20200805   71.58   73.29  68.18   70.83      66.65   \n",
       "6415363  688598.SH    20200805  101.50  106.58  99.02  105.00     100.20   \n",
       "6415364  688599.SH    20200805   17.24   17.24  16.87   17.15      17.18   \n",
       "6415365  688600.SH    20200805   28.31   28.64  27.85   28.01      28.30   \n",
       "6415366  688981.SH    20200805   87.00   87.00  82.58   83.00      81.08   \n",
       "\n",
       "         change  pct_chg         vol        amount  \n",
       "0         -0.26  -0.5400    50208.66  2.406247e+05  \n",
       "1          0.04   0.6500    22159.02  1.362355e+04  \n",
       "2          0.30   5.0000   109392.70  6.668156e+04  \n",
       "3          0.11   1.1400     8403.49  8.151765e+03  \n",
       "4          0.58   2.6400    12609.19  2.826151e+04  \n",
       "...         ...      ...         ...           ...  \n",
       "6415362    4.18   6.2716    78499.06  5.569587e+05  \n",
       "6415363    4.80   4.7904    18334.79  1.900575e+05  \n",
       "6415364   -0.03  -0.1746   185949.80  3.165506e+05  \n",
       "6415365   -0.29  -1.0247    14063.77  3.947903e+04  \n",
       "6415366    1.92   2.3680  1172417.44  9.904636e+06  \n",
       "\n",
       "[6415367 rows x 11 columns]>"
      ]
     },
     "execution_count": 14,
     "metadata": {},
     "output_type": "execute_result"
    }
   ],
   "source": [
    "%%time\n",
    "df_stock_daily = build_stock_newyear()\n",
    "df_stock_daily.info"
   ]
  }
 ],
 "metadata": {
  "kernelspec": {
   "display_name": "Python 3",
   "language": "python",
   "name": "python3"
  },
  "language_info": {
   "codemirror_mode": {
    "name": "ipython",
    "version": 3
   },
   "file_extension": ".py",
   "mimetype": "text/x-python",
   "name": "python",
   "nbconvert_exporter": "python",
   "pygments_lexer": "ipython3",
   "version": "3.6.2"
  }
 },
 "nbformat": 4,
 "nbformat_minor": 2
}
