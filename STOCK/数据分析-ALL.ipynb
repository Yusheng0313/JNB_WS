{
 "cells": [
  {
   "cell_type": "code",
   "execution_count": 1,
   "metadata": {
    "collapsed": true,
    "jupyter": {
     "outputs_hidden": true
    }
   },
   "outputs": [],
   "source": [
    "import pandas as pd\n",
    "from pandas import DataFrame\n",
    "from pandas import concat\n",
    "from pandas import merge\n",
    "import numpy as np\n",
    "import matplotlib.pyplot as plt\n",
    "import seaborn as sns\n",
    "import os, sys"
   ]
  },
  {
   "cell_type": "markdown",
   "metadata": {},
   "source": [
    "## 获取文件列表"
   ]
  },
  {
   "cell_type": "markdown",
   "metadata": {},
   "source": [
    "# 1、导入数据"
   ]
  },
  {
   "cell_type": "code",
   "execution_count": 2,
   "metadata": {
    "collapsed": true,
    "jupyter": {
     "outputs_hidden": true
    }
   },
   "outputs": [],
   "source": [
    "# 初始化股票历史数据函数\n",
    "def import_data(stock_name, flag):\n",
    "    # 导入数据, 上级目录的平行目录要用..\n",
    "    df = pd.read_csv('D:\\\\stock\\\\StockData\\\\163\\day_20200110\\\\000000标题副本.csv')\n",
    "    \n",
    "    df.to_csv('..\\\\JN_DataWarehouse\\\\stock_analysis\\\\'+stock_name)\n",
    "    df.head()\n",
    "    \n",
    "    path = \"D:\\\\stock\\\\StockData\\\\163\\day_20200110\"\n",
    "    dirs = os.listdir( path )\n",
    "\n",
    "    # 输出所有文件和文件夹,并合并df, 600000读取时用encoding='gbk'\n",
    "    for file in dirs:\n",
    "        if file != '000000标题副本.csv' and file[0] == flag and file != '600000.csv' and file != '601318下载语句.txt':\n",
    "            print(file)    \n",
    "            df1 = pd.read_csv('D:\\\\stock\\\\StockData\\\\163\\day_20200110\\\\'+file)\n",
    "\n",
    "            #df1 = df1.loc[df.日期>='2011-01-01']\n",
    "            #df = concat([df,df1],ignore_index=True).drop_duplicates()\n",
    "            df1.to_csv('..\\\\JN_DataWarehouse\\\\stock_analysis\\\\'+stock_name, mode='a', header=False)\n",
    "    \n",
    "    # 特殊处理600000\n",
    "    if flag == '6':\n",
    "        dfc = pd.read_csv('D:\\\\stock\\\\StockData\\\\163\\day_20200110\\\\600000.csv',encoding='gbk')\n",
    "        dfc.to_csv('..\\\\JN_DataWarehouse\\\\stock_analysis\\\\sh-stock.csv', mode='a', header=False)"
   ]
  },
  {
   "cell_type": "code",
   "execution_count": 3,
   "metadata": {
    "collapsed": true,
    "jupyter": {
     "outputs_hidden": true
    }
   },
   "outputs": [],
   "source": [
    "def save_data(df, stock_name, flag):\n",
    "    df.to_csv('..\\\\JN_DataWarehouse\\\\stock_analysis\\\\'+stock_name)"
   ]
  },
  {
   "cell_type": "code",
   "execution_count": 4,
   "metadata": {
    "collapsed": true,
    "jupyter": {
     "outputs_hidden": true
    }
   },
   "outputs": [],
   "source": [
    "def read_data(stock_name, flag):\n",
    "    df = pd.read_csv('..\\\\JN_DataWarehouse\\\\stock_analysis\\\\'+stock_name, index_col=False)\n",
    "    return df"
   ]
  },
  {
   "cell_type": "code",
   "execution_count": null,
   "metadata": {},
   "outputs": [],
   "source": [
    "# 初始化时才打开\n",
    "#import_data('sz-stock.csv','0')\n",
    "#import_data('cy-stock.csv','3')\n",
    "import_data('sh-stock.csv','6')"
   ]
  },
  {
   "cell_type": "code",
   "execution_count": 4,
   "metadata": {},
   "outputs": [
    {
     "name": "stderr",
     "output_type": "stream",
     "text": [
      "D:\\Program Files (x86)\\Anaconda3\\envs\\tf2g\\lib\\site-packages\\IPython\\core\\interactiveshell.py:2698: DtypeWarning: Columns (11) have mixed types.Specify dtype option on import or set low_memory=False.\n",
      "  interactivity=interactivity, compiler=compiler, result=result)\n"
     ]
    },
    {
     "name": "stdout",
     "output_type": "stream",
     "text": [
      "<class 'pandas.core.frame.DataFrame'>\n",
      "RangeIndex: 4459000 entries, 0 to 4458999\n",
      "Data columns (total 16 columns):\n",
      " #   Column      Dtype  \n",
      "---  ------      -----  \n",
      " 0   Unnamed: 0  int64  \n",
      " 1   日期          object \n",
      " 2   股票代码        object \n",
      " 3   名称          object \n",
      " 4   收盘价         float64\n",
      " 5   最高价         float64\n",
      " 6   最低价         float64\n",
      " 7   开盘价         float64\n",
      " 8   前收盘         float64\n",
      " 9   涨跌额         object \n",
      " 10  涨跌幅         object \n",
      " 11  换手率         object \n",
      " 12  成交量         float64\n",
      " 13  成交金额        float64\n",
      " 14  总市值         float64\n",
      " 15  流通市值        float64\n",
      "dtypes: float64(9), int64(1), object(6)\n",
      "memory usage: 544.3+ MB\n"
     ]
    }
   ],
   "source": [
    "df = pd.read_csv('..\\\\JN_DataWarehouse\\\\stock_analysis\\\\sh-stock.csv')\n",
    "df.info()"
   ]
  },
  {
   "cell_type": "code",
   "execution_count": 5,
   "metadata": {},
   "outputs": [
    {
     "data": {
      "text/plain": [
       "Unnamed: 0    4854\n",
       "日期            4854\n",
       "股票代码          4854\n",
       "名称            4854\n",
       "收盘价           4854\n",
       "最高价           4854\n",
       "最低价           4854\n",
       "开盘价           4854\n",
       "前收盘           4854\n",
       "涨跌额           4854\n",
       "涨跌幅           4854\n",
       "换手率           4854\n",
       "成交量           4854\n",
       "成交金额          4854\n",
       "总市值           4854\n",
       "流通市值          4854\n",
       "dtype: int64"
      ]
     },
     "execution_count": 5,
     "metadata": {},
     "output_type": "execute_result"
    }
   ],
   "source": [
    "df2 = df.loc[(df.日期>='2000-01-01')&(df.股票代码 == '\\'600000')]\n",
    "df2.count()"
   ]
  },
  {
   "cell_type": "markdown",
   "metadata": {},
   "source": [
    "# 2 异常数据处理"
   ]
  },
  {
   "cell_type": "markdown",
   "metadata": {},
   "source": [
    "## 2.1 重复值处理"
   ]
  },
  {
   "cell_type": "code",
   "execution_count": 6,
   "metadata": {},
   "outputs": [
    {
     "data": {
      "text/plain": [
       "(4459000, 16)"
      ]
     },
     "execution_count": 6,
     "metadata": {},
     "output_type": "execute_result"
    }
   ],
   "source": [
    "# 查看总行数\n",
    "df.shape"
   ]
  },
  {
   "cell_type": "code",
   "execution_count": 12,
   "metadata": {},
   "outputs": [
    {
     "data": {
      "text/plain": [
       "0"
      ]
     },
     "execution_count": 12,
     "metadata": {},
     "output_type": "execute_result"
    }
   ],
   "source": [
    "# 检查重复值\n",
    "df.duplicated().sum()"
   ]
  },
  {
   "cell_type": "code",
   "execution_count": 8,
   "metadata": {},
   "outputs": [
    {
     "data": {
      "text/html": [
       "<div>\n",
       "<style scoped>\n",
       "    .dataframe tbody tr th:only-of-type {\n",
       "        vertical-align: middle;\n",
       "    }\n",
       "\n",
       "    .dataframe tbody tr th {\n",
       "        vertical-align: top;\n",
       "    }\n",
       "\n",
       "    .dataframe thead th {\n",
       "        text-align: right;\n",
       "    }\n",
       "</style>\n",
       "<table border=\"1\" class=\"dataframe\">\n",
       "  <thead>\n",
       "    <tr style=\"text-align: right;\">\n",
       "      <th></th>\n",
       "      <th>Unnamed: 0</th>\n",
       "      <th>日期</th>\n",
       "      <th>股票代码</th>\n",
       "      <th>名称</th>\n",
       "      <th>收盘价</th>\n",
       "      <th>最高价</th>\n",
       "      <th>最低价</th>\n",
       "      <th>开盘价</th>\n",
       "      <th>前收盘</th>\n",
       "      <th>涨跌额</th>\n",
       "      <th>涨跌幅</th>\n",
       "      <th>换手率</th>\n",
       "      <th>成交量</th>\n",
       "      <th>成交金额</th>\n",
       "      <th>总市值</th>\n",
       "      <th>流通市值</th>\n",
       "    </tr>\n",
       "  </thead>\n",
       "  <tbody>\n",
       "  </tbody>\n",
       "</table>\n",
       "</div>"
      ],
      "text/plain": [
       "Empty DataFrame\n",
       "Columns: [Unnamed: 0, 日期, 股票代码, 名称, 收盘价, 最高价, 最低价, 开盘价, 前收盘, 涨跌额, 涨跌幅, 换手率, 成交量, 成交金额, 总市值, 流通市值]\n",
       "Index: []"
      ]
     },
     "execution_count": 8,
     "metadata": {},
     "output_type": "execute_result"
    }
   ],
   "source": [
    "#显示重复值的数据\n",
    "df[df.duplicated()]"
   ]
  },
  {
   "cell_type": "code",
   "execution_count": 6,
   "metadata": {
    "collapsed": true,
    "jupyter": {
     "outputs_hidden": true
    }
   },
   "outputs": [],
   "source": [
    "# 删除表中的重复值的数据\n",
    "df.drop_duplicates(inplace=True)"
   ]
  },
  {
   "cell_type": "code",
   "execution_count": 7,
   "metadata": {},
   "outputs": [
    {
     "data": {
      "text/plain": [
       "0"
      ]
     },
     "execution_count": 7,
     "metadata": {},
     "output_type": "execute_result"
    }
   ],
   "source": [
    "# 检查去掉的重复值\n",
    "df.duplicated().sum()"
   ]
  },
  {
   "cell_type": "code",
   "execution_count": 9,
   "metadata": {},
   "outputs": [
    {
     "data": {
      "text/plain": [
       "(4459000, 16)"
      ]
     },
     "execution_count": 9,
     "metadata": {},
     "output_type": "execute_result"
    }
   ],
   "source": [
    "# 查看总行数，去掉重复后，行数会变化\n",
    "df.shape"
   ]
  },
  {
   "cell_type": "code",
   "execution_count": 14,
   "metadata": {
    "collapsed": true,
    "jupyter": {
     "outputs_hidden": true
    }
   },
   "outputs": [],
   "source": [
    "# 重新排序，重新索引\n",
    "df.index=range(df.shape[0])"
   ]
  },
  {
   "cell_type": "code",
   "execution_count": 15,
   "metadata": {},
   "outputs": [
    {
     "name": "stdout",
     "output_type": "stream",
     "text": [
      "           日期     股票代码    名称  收盘价  最高价  最低价  开盘价   前收盘  涨跌额  涨跌幅  换手率  成交量  \\\n",
      "0  2009-12-29  '600001  邯郸钢铁  0.0  0.0  0.0  0.0  5.29  0.0  0.0  0.0  0.0   \n",
      "1  2009-12-28  '600001  邯郸钢铁  0.0  0.0  0.0  0.0  5.29  0.0  0.0  0.0  0.0   \n",
      "2  2009-12-25  '600001  邯郸钢铁  0.0  0.0  0.0  0.0  5.29  0.0  0.0  0.0  0.0   \n",
      "3  2009-12-24  '600001  邯郸钢铁  0.0  0.0  0.0  0.0  5.29  0.0  0.0  0.0  0.0   \n",
      "4  2009-12-23  '600001  邯郸钢铁  0.0  0.0  0.0  0.0  5.29  0.0  0.0  0.0  0.0   \n",
      "\n",
      "   成交金额           总市值          流通市值  \n",
      "0   0.0  1.489906e+10  1.489906e+10  \n",
      "1   0.0  1.489906e+10  1.489906e+10  \n",
      "2   0.0  1.489906e+10  1.489906e+10  \n",
      "3   0.0  1.489906e+10  1.489906e+10  \n",
      "4   0.0  1.489906e+10  1.489906e+10  \n"
     ]
    }
   ],
   "source": [
    "df.index\n",
    "print(df.head())"
   ]
  },
  {
   "cell_type": "code",
   "execution_count": 11,
   "metadata": {
    "collapsed": true,
    "jupyter": {
     "outputs_hidden": true
    }
   },
   "outputs": [],
   "source": [
    "# 删除index=0的 test值\n",
    "df.drop(0,inplace=True)"
   ]
  },
  {
   "cell_type": "code",
   "execution_count": 12,
   "metadata": {
    "collapsed": true,
    "jupyter": {
     "outputs_hidden": true
    }
   },
   "outputs": [],
   "source": [
    "# 删除 列\n",
    "del df['Unnamed: 0']"
   ]
  },
  {
   "cell_type": "markdown",
   "metadata": {},
   "source": [
    "## 2.2 异常值处理"
   ]
  },
  {
   "cell_type": "code",
   "execution_count": 14,
   "metadata": {},
   "outputs": [
    {
     "data": {
      "text/html": [
       "<div>\n",
       "<style scoped>\n",
       "    .dataframe tbody tr th:only-of-type {\n",
       "        vertical-align: middle;\n",
       "    }\n",
       "\n",
       "    .dataframe tbody tr th {\n",
       "        vertical-align: top;\n",
       "    }\n",
       "\n",
       "    .dataframe thead th {\n",
       "        text-align: right;\n",
       "    }\n",
       "</style>\n",
       "<table border=\"1\" class=\"dataframe\">\n",
       "  <thead>\n",
       "    <tr style=\"text-align: right;\">\n",
       "      <th></th>\n",
       "      <th>count</th>\n",
       "      <th>mean</th>\n",
       "      <th>std</th>\n",
       "      <th>min</th>\n",
       "      <th>25%</th>\n",
       "      <th>50%</th>\n",
       "      <th>75%</th>\n",
       "      <th>max</th>\n",
       "    </tr>\n",
       "  </thead>\n",
       "  <tbody>\n",
       "    <tr>\n",
       "      <th>收盘价</th>\n",
       "      <td>4458998.0</td>\n",
       "      <td>1.226466e+01</td>\n",
       "      <td>1.558694e+01</td>\n",
       "      <td>0.00</td>\n",
       "      <td>5.650000e+00</td>\n",
       "      <td>9.060000e+00</td>\n",
       "      <td>1.464000e+01</td>\n",
       "      <td>1.233750e+03</td>\n",
       "    </tr>\n",
       "    <tr>\n",
       "      <th>最高价</th>\n",
       "      <td>4458998.0</td>\n",
       "      <td>1.250707e+01</td>\n",
       "      <td>1.586670e+01</td>\n",
       "      <td>0.00</td>\n",
       "      <td>5.760000e+00</td>\n",
       "      <td>9.220000e+00</td>\n",
       "      <td>1.493000e+01</td>\n",
       "      <td>1.241610e+03</td>\n",
       "    </tr>\n",
       "    <tr>\n",
       "      <th>最低价</th>\n",
       "      <td>4458998.0</td>\n",
       "      <td>1.200991e+01</td>\n",
       "      <td>1.528774e+01</td>\n",
       "      <td>0.00</td>\n",
       "      <td>5.540000e+00</td>\n",
       "      <td>8.880000e+00</td>\n",
       "      <td>1.435000e+01</td>\n",
       "      <td>1.228060e+03</td>\n",
       "    </tr>\n",
       "    <tr>\n",
       "      <th>开盘价</th>\n",
       "      <td>4458998.0</td>\n",
       "      <td>1.224730e+01</td>\n",
       "      <td>1.555895e+01</td>\n",
       "      <td>0.00</td>\n",
       "      <td>5.650000e+00</td>\n",
       "      <td>9.050000e+00</td>\n",
       "      <td>1.462000e+01</td>\n",
       "      <td>1.231000e+03</td>\n",
       "    </tr>\n",
       "    <tr>\n",
       "      <th>前收盘</th>\n",
       "      <td>4458998.0</td>\n",
       "      <td>1.280208e+01</td>\n",
       "      <td>1.558402e+01</td>\n",
       "      <td>0.13</td>\n",
       "      <td>6.060000e+00</td>\n",
       "      <td>9.390000e+00</td>\n",
       "      <td>1.500000e+01</td>\n",
       "      <td>1.233750e+03</td>\n",
       "    </tr>\n",
       "    <tr>\n",
       "      <th>成交量</th>\n",
       "      <td>4458993.0</td>\n",
       "      <td>1.153555e+07</td>\n",
       "      <td>3.599005e+07</td>\n",
       "      <td>0.00</td>\n",
       "      <td>1.097713e+06</td>\n",
       "      <td>3.676956e+06</td>\n",
       "      <td>1.031098e+07</td>\n",
       "      <td>5.109897e+09</td>\n",
       "    </tr>\n",
       "    <tr>\n",
       "      <th>成交金额</th>\n",
       "      <td>4458993.0</td>\n",
       "      <td>1.255065e+08</td>\n",
       "      <td>3.967822e+08</td>\n",
       "      <td>0.00</td>\n",
       "      <td>9.612077e+06</td>\n",
       "      <td>3.576920e+07</td>\n",
       "      <td>1.089335e+08</td>\n",
       "      <td>6.999139e+10</td>\n",
       "    </tr>\n",
       "    <tr>\n",
       "      <th>总市值</th>\n",
       "      <td>4458991.0</td>\n",
       "      <td>1.933745e+10</td>\n",
       "      <td>9.999144e+10</td>\n",
       "      <td>0.00</td>\n",
       "      <td>2.282700e+09</td>\n",
       "      <td>4.439064e+09</td>\n",
       "      <td>1.009026e+10</td>\n",
       "      <td>8.045602e+12</td>\n",
       "    </tr>\n",
       "    <tr>\n",
       "      <th>流通市值</th>\n",
       "      <td>4458989.0</td>\n",
       "      <td>1.182119e+10</td>\n",
       "      <td>6.045182e+10</td>\n",
       "      <td>0.00</td>\n",
       "      <td>1.092845e+09</td>\n",
       "      <td>2.730767e+09</td>\n",
       "      <td>6.795600e+09</td>\n",
       "      <td>2.372158e+12</td>\n",
       "    </tr>\n",
       "  </tbody>\n",
       "</table>\n",
       "</div>"
      ],
      "text/plain": [
       "          count          mean           std   min           25%           50%  \\\n",
       "收盘价   4458998.0  1.226466e+01  1.558694e+01  0.00  5.650000e+00  9.060000e+00   \n",
       "最高价   4458998.0  1.250707e+01  1.586670e+01  0.00  5.760000e+00  9.220000e+00   \n",
       "最低价   4458998.0  1.200991e+01  1.528774e+01  0.00  5.540000e+00  8.880000e+00   \n",
       "开盘价   4458998.0  1.224730e+01  1.555895e+01  0.00  5.650000e+00  9.050000e+00   \n",
       "前收盘   4458998.0  1.280208e+01  1.558402e+01  0.13  6.060000e+00  9.390000e+00   \n",
       "成交量   4458993.0  1.153555e+07  3.599005e+07  0.00  1.097713e+06  3.676956e+06   \n",
       "成交金额  4458993.0  1.255065e+08  3.967822e+08  0.00  9.612077e+06  3.576920e+07   \n",
       "总市值   4458991.0  1.933745e+10  9.999144e+10  0.00  2.282700e+09  4.439064e+09   \n",
       "流通市值  4458989.0  1.182119e+10  6.045182e+10  0.00  1.092845e+09  2.730767e+09   \n",
       "\n",
       "               75%           max  \n",
       "收盘价   1.464000e+01  1.233750e+03  \n",
       "最高价   1.493000e+01  1.241610e+03  \n",
       "最低价   1.435000e+01  1.228060e+03  \n",
       "开盘价   1.462000e+01  1.231000e+03  \n",
       "前收盘   1.500000e+01  1.233750e+03  \n",
       "成交量   1.031098e+07  5.109897e+09  \n",
       "成交金额  1.089335e+08  6.999139e+10  \n",
       "总市值   1.009026e+10  8.045602e+12  \n",
       "流通市值  6.795600e+09  2.372158e+12  "
      ]
     },
     "execution_count": 14,
     "metadata": {},
     "output_type": "execute_result"
    }
   ],
   "source": [
    "# 查看异常数据,只对数值型有效\n",
    "df.describe().T"
   ]
  },
  {
   "cell_type": "code",
   "execution_count": null,
   "metadata": {},
   "outputs": [],
   "source": [
    "# 案例1 假设收盘价有某行值偏离异常（过大或过小），只可以使用本公式发现\n",
    "sta=(df['收盘价']-df['收盘价'].mean())/df['收盘价'].std()\n",
    "df[sta.abs()>4]"
   ]
  },
  {
   "cell_type": "code",
   "execution_count": 13,
   "metadata": {},
   "outputs": [
    {
     "data": {
      "text/html": [
       "<div>\n",
       "<style scoped>\n",
       "    .dataframe tbody tr th:only-of-type {\n",
       "        vertical-align: middle;\n",
       "    }\n",
       "\n",
       "    .dataframe tbody tr th {\n",
       "        vertical-align: top;\n",
       "    }\n",
       "\n",
       "    .dataframe thead th {\n",
       "        text-align: right;\n",
       "    }\n",
       "</style>\n",
       "<table border=\"1\" class=\"dataframe\">\n",
       "  <thead>\n",
       "    <tr style=\"text-align: right;\">\n",
       "      <th></th>\n",
       "      <th>日期</th>\n",
       "      <th>股票代码</th>\n",
       "      <th>名称</th>\n",
       "      <th>收盘价</th>\n",
       "      <th>最高价</th>\n",
       "      <th>最低价</th>\n",
       "      <th>开盘价</th>\n",
       "      <th>前收盘</th>\n",
       "      <th>涨跌额</th>\n",
       "      <th>涨跌幅</th>\n",
       "      <th>换手率</th>\n",
       "      <th>成交量</th>\n",
       "      <th>成交金额</th>\n",
       "      <th>总市值</th>\n",
       "      <th>流通市值</th>\n",
       "    </tr>\n",
       "  </thead>\n",
       "  <tbody>\n",
       "  </tbody>\n",
       "</table>\n",
       "</div>"
      ],
      "text/plain": [
       "Empty DataFrame\n",
       "Columns: [日期, 股票代码, 名称, 收盘价, 最高价, 最低价, 开盘价, 前收盘, 涨跌额, 涨跌幅, 换手率, 成交量, 成交金额, 总市值, 流通市值]\n",
       "Index: []"
      ]
     },
     "execution_count": 13,
     "metadata": {},
     "output_type": "execute_result"
    }
   ],
   "source": [
    "# 案例2\n",
    "df[df.收盘价 > df.最高价]"
   ]
  },
  {
   "cell_type": "code",
   "execution_count": 14,
   "metadata": {},
   "outputs": [
    {
     "data": {
      "text/html": [
       "<div>\n",
       "<style scoped>\n",
       "    .dataframe tbody tr th:only-of-type {\n",
       "        vertical-align: middle;\n",
       "    }\n",
       "\n",
       "    .dataframe tbody tr th {\n",
       "        vertical-align: top;\n",
       "    }\n",
       "\n",
       "    .dataframe thead th {\n",
       "        text-align: right;\n",
       "    }\n",
       "</style>\n",
       "<table border=\"1\" class=\"dataframe\">\n",
       "  <thead>\n",
       "    <tr style=\"text-align: right;\">\n",
       "      <th></th>\n",
       "      <th>日期</th>\n",
       "      <th>股票代码</th>\n",
       "      <th>名称</th>\n",
       "      <th>收盘价</th>\n",
       "      <th>最高价</th>\n",
       "      <th>最低价</th>\n",
       "      <th>开盘价</th>\n",
       "      <th>前收盘</th>\n",
       "      <th>涨跌额</th>\n",
       "      <th>涨跌幅</th>\n",
       "      <th>换手率</th>\n",
       "      <th>成交量</th>\n",
       "      <th>成交金额</th>\n",
       "      <th>总市值</th>\n",
       "      <th>流通市值</th>\n",
       "    </tr>\n",
       "  </thead>\n",
       "  <tbody>\n",
       "  </tbody>\n",
       "</table>\n",
       "</div>"
      ],
      "text/plain": [
       "Empty DataFrame\n",
       "Columns: [日期, 股票代码, 名称, 收盘价, 最高价, 最低价, 开盘价, 前收盘, 涨跌额, 涨跌幅, 换手率, 成交量, 成交金额, 总市值, 流通市值]\n",
       "Index: []"
      ]
     },
     "execution_count": 14,
     "metadata": {},
     "output_type": "execute_result"
    }
   ],
   "source": [
    "#合并 案例1 和 案例2 查看异常数据\n",
    "pd.concat([df[df.收盘价 > df.最高价],df[sta.abs()>4]])"
   ]
  },
  {
   "cell_type": "code",
   "execution_count": 15,
   "metadata": {
    "collapsed": true,
    "jupyter": {
     "outputs_hidden": true
    }
   },
   "outputs": [],
   "source": [
    "# 删除异常数据\n",
    "delindex=pd.concat([df[df.收盘价 > df.最高价],df[sta.abs()>4]]).index\n",
    "df.drop(delindex,inplace=True)"
   ]
  },
  {
   "cell_type": "code",
   "execution_count": 15,
   "metadata": {},
   "outputs": [
    {
     "data": {
      "text/plain": [
       "(4458999, 15)"
      ]
     },
     "execution_count": 15,
     "metadata": {},
     "output_type": "execute_result"
    }
   ],
   "source": [
    "#查看是否有删除数据，如有要重做索引\n",
    "df.shape"
   ]
  },
  {
   "cell_type": "markdown",
   "metadata": {},
   "source": [
    "## 2.3 缺失值，None值处理"
   ]
  },
  {
   "cell_type": "code",
   "execution_count": 16,
   "metadata": {},
   "outputs": [
    {
     "data": {
      "text/plain": [
       "日期       0\n",
       "股票代码     0\n",
       "名称       1\n",
       "收盘价      1\n",
       "最高价      1\n",
       "最低价      1\n",
       "开盘价      1\n",
       "前收盘      1\n",
       "涨跌额      3\n",
       "涨跌幅      4\n",
       "换手率      4\n",
       "成交量      6\n",
       "成交金额     6\n",
       "总市值      8\n",
       "流通市值    10\n",
       "dtype: int64"
      ]
     },
     "execution_count": 16,
     "metadata": {},
     "output_type": "execute_result"
    }
   ],
   "source": [
    "# 检验空值 isnull() , notnull()\n",
    "df.isnull().sum()"
   ]
  },
  {
   "cell_type": "code",
   "execution_count": 21,
   "metadata": {},
   "outputs": [
    {
     "data": {
      "text/html": [
       "<div>\n",
       "<style scoped>\n",
       "    .dataframe tbody tr th:only-of-type {\n",
       "        vertical-align: middle;\n",
       "    }\n",
       "\n",
       "    .dataframe tbody tr th {\n",
       "        vertical-align: top;\n",
       "    }\n",
       "\n",
       "    .dataframe thead th {\n",
       "        text-align: right;\n",
       "    }\n",
       "</style>\n",
       "<table border=\"1\" class=\"dataframe\">\n",
       "  <thead>\n",
       "    <tr style=\"text-align: right;\">\n",
       "      <th></th>\n",
       "      <th>Missing Values</th>\n",
       "      <th>% of Total Values</th>\n",
       "    </tr>\n",
       "  </thead>\n",
       "  <tbody>\n",
       "  </tbody>\n",
       "</table>\n",
       "</div>"
      ],
      "text/plain": [
       "Empty DataFrame\n",
       "Columns: [Missing Values, % of Total Values]\n",
       "Index: []"
      ]
     },
     "execution_count": 21,
     "metadata": {},
     "output_type": "execute_result"
    }
   ],
   "source": [
    "# 缺失值筛查\n",
    "def missing_values_table(df):\n",
    "    mis_val = df.isnull().sum()\n",
    "    mis_val_pct = 100 * mis_val/len(df)\n",
    "    mis_val_table = pd.concat([mis_val, mis_val_pct], axis=1)\n",
    "    mis_val_table.rename(columns={0: 'Missing Values', 1: '% of Total Values'}, inplace=True)\n",
    "    mis_val_table = mis_val_table[mis_val_table.iloc[:, 1] != 0].sort_values('% of Total Values', ascending=False).round(1)\n",
    "    return mis_val_table\n",
    "missing_loan = missing_values_table(df)\n",
    "missing_loan"
   ]
  },
  {
   "cell_type": "code",
   "execution_count": 20,
   "metadata": {
    "collapsed": true,
    "jupyter": {
     "outputs_hidden": true
    }
   },
   "outputs": [],
   "source": [
    "# 检查是否含有None\n",
    "#df.groupby(['涨跌额'])['涨跌额'].count()\n",
    "\n",
    "df.loc[df.涨跌幅=='None','涨跌幅'] =0\n",
    "df.loc[df.涨跌额=='None','涨跌额'] =0\n",
    "df.loc[df.涨跌幅.isnull(),'涨跌幅'] =0\n",
    "df.loc[df.涨跌额.isnull(),'涨跌额'] =0\n",
    "df.loc[df.流通市值.isnull(),'流通市值'] =0\n",
    "df.loc[df.总市值.isnull(),'总市值'] =0\n",
    "df.loc[df.成交量.isnull(),'成交量'] =0\n",
    "df.loc[df.成交金额.isnull(),'成交金额'] =0\n",
    "df.loc[df.换手率.isnull(),'换手率'] =0\n",
    "df.loc[df.股票代码==\"'600001\",'名称'] ='邯郸钢铁'"
   ]
  },
  {
   "cell_type": "code",
   "execution_count": 19,
   "metadata": {
    "collapsed": true,
    "jupyter": {
     "outputs_hidden": true
    }
   },
   "outputs": [],
   "source": [
    "# 根据索引删除异常\n",
    "df.drop(694032,inplace=True)"
   ]
  },
  {
   "cell_type": "code",
   "execution_count": 19,
   "metadata": {},
   "outputs": [
    {
     "name": "stdout",
     "output_type": "stream",
     "text": [
      "<class 'pandas.core.frame.DataFrame'>\n",
      "RangeIndex: 4459000 entries, 0 to 4458999\n",
      "Data columns (total 16 columns):\n",
      " #   Column      Dtype  \n",
      "---  ------      -----  \n",
      " 0   Unnamed: 0  int64  \n",
      " 1   日期          object \n",
      " 2   股票代码        object \n",
      " 3   名称          object \n",
      " 4   收盘价         float64\n",
      " 5   最高价         float64\n",
      " 6   最低价         float64\n",
      " 7   开盘价         float64\n",
      " 8   前收盘         float64\n",
      " 9   涨跌额         object \n",
      " 10  涨跌幅         object \n",
      " 11  换手率         object \n",
      " 12  成交量         float64\n",
      " 13  成交金额        float64\n",
      " 14  总市值         float64\n",
      " 15  流通市值        float64\n",
      "dtypes: float64(9), int64(1), object(6)\n",
      "memory usage: 544.3+ MB\n"
     ]
    }
   ],
   "source": [
    "df.info()"
   ]
  },
  {
   "cell_type": "code",
   "execution_count": null,
   "metadata": {
    "collapsed": true,
    "jupyter": {
     "outputs_hidden": true
    }
   },
   "outputs": [],
   "source": [
    "# 改变索引\n",
    "df = df.set_index(\"日期\")\n",
    "df.loc['2020-04-22']"
   ]
  },
  {
   "cell_type": "code",
   "execution_count": null,
   "metadata": {
    "collapsed": true,
    "jupyter": {
     "outputs_hidden": true
    }
   },
   "outputs": [],
   "source": [
    "# 恢复索引\n",
    "df = df.reset_index()\n",
    "df.head(5)"
   ]
  },
  {
   "cell_type": "code",
   "execution_count": 24,
   "metadata": {},
   "outputs": [
    {
     "name": "stdout",
     "output_type": "stream",
     "text": [
      "df Index(['日期', '股票代码', '名称', '收盘价', '最高价', '最低价', '开盘价', '前收盘', '涨跌额', '涨跌幅',\n",
      "       '换手率', '成交量', '成交金额', '总市值', '流通市值'],\n",
      "      dtype='object')\n"
     ]
    }
   ],
   "source": [
    "# 展示所有列\n",
    "print('df',df.columns)"
   ]
  },
  {
   "cell_type": "code",
   "execution_count": 16,
   "metadata": {
    "collapsed": true,
    "jupyter": {
     "outputs_hidden": true
    }
   },
   "outputs": [],
   "source": [
    "save_data(df,'sh-stock1.csv','6')"
   ]
  },
  {
   "cell_type": "markdown",
   "metadata": {},
   "source": [
    "## 2.4 去掉乱码字符"
   ]
  },
  {
   "cell_type": "code",
   "execution_count": 19,
   "metadata": {},
   "outputs": [
    {
     "name": "stderr",
     "output_type": "stream",
     "text": [
      "D:\\Program Files (x86)\\Anaconda3\\envs\\tf2g\\lib\\site-packages\\IPython\\core\\interactiveshell.py:2802: DtypeWarning: Columns (11) have mixed types.Specify dtype option on import or set low_memory=False.\n",
      "  if self.run_code(code, result):\n"
     ]
    }
   ],
   "source": [
    "df = read_data('sh-stock1.csv','6')\n"
   ]
  },
  {
   "cell_type": "code",
   "execution_count": 20,
   "metadata": {},
   "outputs": [
    {
     "data": {
      "text/html": [
       "<div>\n",
       "<style scoped>\n",
       "    .dataframe tbody tr th:only-of-type {\n",
       "        vertical-align: middle;\n",
       "    }\n",
       "\n",
       "    .dataframe tbody tr th {\n",
       "        vertical-align: top;\n",
       "    }\n",
       "\n",
       "    .dataframe thead th {\n",
       "        text-align: right;\n",
       "    }\n",
       "</style>\n",
       "<table border=\"1\" class=\"dataframe\">\n",
       "  <thead>\n",
       "    <tr style=\"text-align: right;\">\n",
       "      <th></th>\n",
       "      <th>Unnamed: 0</th>\n",
       "      <th>日期</th>\n",
       "      <th>股票代码</th>\n",
       "      <th>名称</th>\n",
       "      <th>收盘价</th>\n",
       "      <th>最高价</th>\n",
       "      <th>最低价</th>\n",
       "      <th>开盘价</th>\n",
       "      <th>前收盘</th>\n",
       "      <th>涨跌额</th>\n",
       "      <th>涨跌幅</th>\n",
       "      <th>换手率</th>\n",
       "      <th>成交量</th>\n",
       "      <th>成交金额</th>\n",
       "      <th>总市值</th>\n",
       "      <th>流通市值</th>\n",
       "    </tr>\n",
       "  </thead>\n",
       "  <tbody>\n",
       "    <tr>\n",
       "      <th>0</th>\n",
       "      <td>0</td>\n",
       "      <td>2009-12-29</td>\n",
       "      <td>'600001</td>\n",
       "      <td>邯郸钢铁</td>\n",
       "      <td>0.0</td>\n",
       "      <td>0.0</td>\n",
       "      <td>0.0</td>\n",
       "      <td>0.0</td>\n",
       "      <td>5.29</td>\n",
       "      <td>0.0</td>\n",
       "      <td>0.0</td>\n",
       "      <td>0.0</td>\n",
       "      <td>0.0</td>\n",
       "      <td>0.0</td>\n",
       "      <td>1.489906e+10</td>\n",
       "      <td>1.489906e+10</td>\n",
       "    </tr>\n",
       "    <tr>\n",
       "      <th>1</th>\n",
       "      <td>1</td>\n",
       "      <td>2009-12-28</td>\n",
       "      <td>'600001</td>\n",
       "      <td>邯郸钢铁</td>\n",
       "      <td>0.0</td>\n",
       "      <td>0.0</td>\n",
       "      <td>0.0</td>\n",
       "      <td>0.0</td>\n",
       "      <td>5.29</td>\n",
       "      <td>0.0</td>\n",
       "      <td>0.0</td>\n",
       "      <td>0.0</td>\n",
       "      <td>0.0</td>\n",
       "      <td>0.0</td>\n",
       "      <td>1.489906e+10</td>\n",
       "      <td>1.489906e+10</td>\n",
       "    </tr>\n",
       "    <tr>\n",
       "      <th>2</th>\n",
       "      <td>2</td>\n",
       "      <td>2009-12-25</td>\n",
       "      <td>'600001</td>\n",
       "      <td>邯郸钢铁</td>\n",
       "      <td>0.0</td>\n",
       "      <td>0.0</td>\n",
       "      <td>0.0</td>\n",
       "      <td>0.0</td>\n",
       "      <td>5.29</td>\n",
       "      <td>0.0</td>\n",
       "      <td>0.0</td>\n",
       "      <td>0.0</td>\n",
       "      <td>0.0</td>\n",
       "      <td>0.0</td>\n",
       "      <td>1.489906e+10</td>\n",
       "      <td>1.489906e+10</td>\n",
       "    </tr>\n",
       "    <tr>\n",
       "      <th>3</th>\n",
       "      <td>3</td>\n",
       "      <td>2009-12-24</td>\n",
       "      <td>'600001</td>\n",
       "      <td>邯郸钢铁</td>\n",
       "      <td>0.0</td>\n",
       "      <td>0.0</td>\n",
       "      <td>0.0</td>\n",
       "      <td>0.0</td>\n",
       "      <td>5.29</td>\n",
       "      <td>0.0</td>\n",
       "      <td>0.0</td>\n",
       "      <td>0.0</td>\n",
       "      <td>0.0</td>\n",
       "      <td>0.0</td>\n",
       "      <td>1.489906e+10</td>\n",
       "      <td>1.489906e+10</td>\n",
       "    </tr>\n",
       "    <tr>\n",
       "      <th>4</th>\n",
       "      <td>4</td>\n",
       "      <td>2009-12-23</td>\n",
       "      <td>'600001</td>\n",
       "      <td>邯郸钢铁</td>\n",
       "      <td>0.0</td>\n",
       "      <td>0.0</td>\n",
       "      <td>0.0</td>\n",
       "      <td>0.0</td>\n",
       "      <td>5.29</td>\n",
       "      <td>0.0</td>\n",
       "      <td>0.0</td>\n",
       "      <td>0.0</td>\n",
       "      <td>0.0</td>\n",
       "      <td>0.0</td>\n",
       "      <td>1.489906e+10</td>\n",
       "      <td>1.489906e+10</td>\n",
       "    </tr>\n",
       "    <tr>\n",
       "      <th>5</th>\n",
       "      <td>5</td>\n",
       "      <td>2009-12-22</td>\n",
       "      <td>'600001</td>\n",
       "      <td>邯郸钢铁</td>\n",
       "      <td>0.0</td>\n",
       "      <td>0.0</td>\n",
       "      <td>0.0</td>\n",
       "      <td>0.0</td>\n",
       "      <td>5.29</td>\n",
       "      <td>0.0</td>\n",
       "      <td>0.0</td>\n",
       "      <td>0.0</td>\n",
       "      <td>0.0</td>\n",
       "      <td>0.0</td>\n",
       "      <td>1.489906e+10</td>\n",
       "      <td>1.489906e+10</td>\n",
       "    </tr>\n",
       "    <tr>\n",
       "      <th>6</th>\n",
       "      <td>6</td>\n",
       "      <td>2009-12-21</td>\n",
       "      <td>'600001</td>\n",
       "      <td>邯郸钢铁</td>\n",
       "      <td>0.0</td>\n",
       "      <td>0.0</td>\n",
       "      <td>0.0</td>\n",
       "      <td>0.0</td>\n",
       "      <td>5.29</td>\n",
       "      <td>0.0</td>\n",
       "      <td>0.0</td>\n",
       "      <td>0.0</td>\n",
       "      <td>0.0</td>\n",
       "      <td>0.0</td>\n",
       "      <td>1.489906e+10</td>\n",
       "      <td>1.489906e+10</td>\n",
       "    </tr>\n",
       "    <tr>\n",
       "      <th>7</th>\n",
       "      <td>7</td>\n",
       "      <td>2009-12-18</td>\n",
       "      <td>'600001</td>\n",
       "      <td>邯郸钢铁</td>\n",
       "      <td>0.0</td>\n",
       "      <td>0.0</td>\n",
       "      <td>0.0</td>\n",
       "      <td>0.0</td>\n",
       "      <td>5.29</td>\n",
       "      <td>0.0</td>\n",
       "      <td>0.0</td>\n",
       "      <td>0.0</td>\n",
       "      <td>0.0</td>\n",
       "      <td>0.0</td>\n",
       "      <td>1.489906e+10</td>\n",
       "      <td>1.489906e+10</td>\n",
       "    </tr>\n",
       "    <tr>\n",
       "      <th>8</th>\n",
       "      <td>8</td>\n",
       "      <td>2009-12-17</td>\n",
       "      <td>'600001</td>\n",
       "      <td>邯郸钢铁</td>\n",
       "      <td>0.0</td>\n",
       "      <td>0.0</td>\n",
       "      <td>0.0</td>\n",
       "      <td>0.0</td>\n",
       "      <td>5.29</td>\n",
       "      <td>0.0</td>\n",
       "      <td>0.0</td>\n",
       "      <td>0.0</td>\n",
       "      <td>0.0</td>\n",
       "      <td>0.0</td>\n",
       "      <td>1.489906e+10</td>\n",
       "      <td>1.489906e+10</td>\n",
       "    </tr>\n",
       "    <tr>\n",
       "      <th>9</th>\n",
       "      <td>9</td>\n",
       "      <td>2009-12-16</td>\n",
       "      <td>'600001</td>\n",
       "      <td>邯郸钢铁</td>\n",
       "      <td>0.0</td>\n",
       "      <td>0.0</td>\n",
       "      <td>0.0</td>\n",
       "      <td>0.0</td>\n",
       "      <td>5.29</td>\n",
       "      <td>0.0</td>\n",
       "      <td>0.0</td>\n",
       "      <td>0.0</td>\n",
       "      <td>0.0</td>\n",
       "      <td>0.0</td>\n",
       "      <td>1.489906e+10</td>\n",
       "      <td>1.489906e+10</td>\n",
       "    </tr>\n",
       "  </tbody>\n",
       "</table>\n",
       "</div>"
      ],
      "text/plain": [
       "   Unnamed: 0          日期     股票代码    名称  收盘价  最高价  最低价  开盘价   前收盘  涨跌额  涨跌幅  \\\n",
       "0           0  2009-12-29  '600001  邯郸钢铁  0.0  0.0  0.0  0.0  5.29  0.0  0.0   \n",
       "1           1  2009-12-28  '600001  邯郸钢铁  0.0  0.0  0.0  0.0  5.29  0.0  0.0   \n",
       "2           2  2009-12-25  '600001  邯郸钢铁  0.0  0.0  0.0  0.0  5.29  0.0  0.0   \n",
       "3           3  2009-12-24  '600001  邯郸钢铁  0.0  0.0  0.0  0.0  5.29  0.0  0.0   \n",
       "4           4  2009-12-23  '600001  邯郸钢铁  0.0  0.0  0.0  0.0  5.29  0.0  0.0   \n",
       "5           5  2009-12-22  '600001  邯郸钢铁  0.0  0.0  0.0  0.0  5.29  0.0  0.0   \n",
       "6           6  2009-12-21  '600001  邯郸钢铁  0.0  0.0  0.0  0.0  5.29  0.0  0.0   \n",
       "7           7  2009-12-18  '600001  邯郸钢铁  0.0  0.0  0.0  0.0  5.29  0.0  0.0   \n",
       "8           8  2009-12-17  '600001  邯郸钢铁  0.0  0.0  0.0  0.0  5.29  0.0  0.0   \n",
       "9           9  2009-12-16  '600001  邯郸钢铁  0.0  0.0  0.0  0.0  5.29  0.0  0.0   \n",
       "\n",
       "   换手率  成交量  成交金额           总市值          流通市值  \n",
       "0  0.0  0.0   0.0  1.489906e+10  1.489906e+10  \n",
       "1  0.0  0.0   0.0  1.489906e+10  1.489906e+10  \n",
       "2  0.0  0.0   0.0  1.489906e+10  1.489906e+10  \n",
       "3  0.0  0.0   0.0  1.489906e+10  1.489906e+10  \n",
       "4  0.0  0.0   0.0  1.489906e+10  1.489906e+10  \n",
       "5  0.0  0.0   0.0  1.489906e+10  1.489906e+10  \n",
       "6  0.0  0.0   0.0  1.489906e+10  1.489906e+10  \n",
       "7  0.0  0.0   0.0  1.489906e+10  1.489906e+10  \n",
       "8  0.0  0.0   0.0  1.489906e+10  1.489906e+10  \n",
       "9  0.0  0.0   0.0  1.489906e+10  1.489906e+10  "
      ]
     },
     "execution_count": 20,
     "metadata": {},
     "output_type": "execute_result"
    }
   ],
   "source": [
    "df.head(10)"
   ]
  },
  {
   "cell_type": "code",
   "execution_count": 8,
   "metadata": {},
   "outputs": [
    {
     "name": "stdout",
     "output_type": "stream",
     "text": [
      "<class 'pandas.core.frame.DataFrame'>\n",
      "Int64Index: 2413 entries, 0 to 2412\n",
      "Data columns (total 16 columns):\n",
      " #   Column      Non-Null Count  Dtype  \n",
      "---  ------      --------------  -----  \n",
      " 0   Unnamed: 0  2413 non-null   int64  \n",
      " 1   日期          2413 non-null   object \n",
      " 2   股票代码        2413 non-null   object \n",
      " 3   名称          2413 non-null   object \n",
      " 4   收盘价         2413 non-null   float64\n",
      " 5   最高价         2413 non-null   float64\n",
      " 6   最低价         2413 non-null   float64\n",
      " 7   开盘价         2413 non-null   float64\n",
      " 8   前收盘         2413 non-null   float64\n",
      " 9   涨跌额         2413 non-null   float64\n",
      " 10  涨跌幅         2413 non-null   float64\n",
      " 11  换手率         2413 non-null   object \n",
      " 12  成交量         2413 non-null   float64\n",
      " 13  成交金额        2413 non-null   float64\n",
      " 14  总市值         2413 non-null   float64\n",
      " 15  流通市值        2413 non-null   float64\n",
      "dtypes: float64(11), int64(1), object(4)\n",
      "memory usage: 320.5+ KB\n"
     ]
    }
   ],
   "source": [
    "dfc = df.loc[df.股票代码==\"'600001\"] \n",
    "dfc.info()"
   ]
  },
  {
   "cell_type": "code",
   "execution_count": 9,
   "metadata": {
    "collapsed": true,
    "jupyter": {
     "outputs_hidden": true
    }
   },
   "outputs": [],
   "source": []
  },
  {
   "cell_type": "markdown",
   "metadata": {},
   "source": [
    "# 3、分析数据"
   ]
  },
  {
   "cell_type": "code",
   "execution_count": 23,
   "metadata": {},
   "outputs": [
    {
     "data": {
      "text/html": [
       "<div>\n",
       "<style scoped>\n",
       "    .dataframe tbody tr th:only-of-type {\n",
       "        vertical-align: middle;\n",
       "    }\n",
       "\n",
       "    .dataframe tbody tr th {\n",
       "        vertical-align: top;\n",
       "    }\n",
       "\n",
       "    .dataframe thead th {\n",
       "        text-align: right;\n",
       "    }\n",
       "</style>\n",
       "<table border=\"1\" class=\"dataframe\">\n",
       "  <thead>\n",
       "    <tr style=\"text-align: right;\">\n",
       "      <th></th>\n",
       "      <th>日期</th>\n",
       "      <th>涨跌幅</th>\n",
       "    </tr>\n",
       "  </thead>\n",
       "  <tbody>\n",
       "    <tr>\n",
       "      <th>4454145</th>\n",
       "      <td>2020-1-13</td>\n",
       "      <td>0.1614</td>\n",
       "    </tr>\n",
       "    <tr>\n",
       "      <th>4454146</th>\n",
       "      <td>2020-1-10</td>\n",
       "      <td>0.1617</td>\n",
       "    </tr>\n",
       "    <tr>\n",
       "      <th>4454147</th>\n",
       "      <td>2020-1-9</td>\n",
       "      <td>0.4058</td>\n",
       "    </tr>\n",
       "    <tr>\n",
       "      <th>4454149</th>\n",
       "      <td>2020-1-7</td>\n",
       "      <td>0.3210</td>\n",
       "    </tr>\n",
       "    <tr>\n",
       "      <th>4454151</th>\n",
       "      <td>2020-1-3</td>\n",
       "      <td>1.0425</td>\n",
       "    </tr>\n",
       "  </tbody>\n",
       "</table>\n",
       "</div>"
      ],
      "text/plain": [
       "                日期     涨跌幅\n",
       "4454145  2020-1-13  0.1614\n",
       "4454146  2020-1-10  0.1617\n",
       "4454147   2020-1-9  0.4058\n",
       "4454149   2020-1-7  0.3210\n",
       "4454151   2020-1-3  1.0425"
      ]
     },
     "execution_count": 23,
     "metadata": {},
     "output_type": "execute_result"
    }
   ],
   "source": [
    "#pd.set_option('display.max_rows',2000)\n",
    "df_copy = df.loc[df[\"名称\"]==('浦发银行')].head(10000)\n",
    "# '涨跌幅'原来是str 先转换成 float ，后面才能与0比较\n",
    "df_copy['涨跌幅'] = df_copy['涨跌幅'].astype('float')\n",
    "df_copy.loc[df_copy.涨跌幅>0,['日期','涨跌幅']].head()"
   ]
  },
  {
   "cell_type": "code",
   "execution_count": 24,
   "metadata": {},
   "outputs": [
    {
     "data": {
      "text/html": [
       "<div>\n",
       "<style scoped>\n",
       "    .dataframe tbody tr th:only-of-type {\n",
       "        vertical-align: middle;\n",
       "    }\n",
       "\n",
       "    .dataframe tbody tr th {\n",
       "        vertical-align: top;\n",
       "    }\n",
       "\n",
       "    .dataframe thead th {\n",
       "        text-align: right;\n",
       "    }\n",
       "</style>\n",
       "<table border=\"1\" class=\"dataframe\">\n",
       "  <thead>\n",
       "    <tr style=\"text-align: right;\">\n",
       "      <th></th>\n",
       "      <th>日期</th>\n",
       "      <th>股票代码</th>\n",
       "      <th>收盘价</th>\n",
       "      <th>涨跌幅</th>\n",
       "    </tr>\n",
       "  </thead>\n",
       "  <tbody>\n",
       "    <tr>\n",
       "      <th>4454145</th>\n",
       "      <td>2020-1-13</td>\n",
       "      <td>'600000</td>\n",
       "      <td>12.41</td>\n",
       "      <td>0.1614</td>\n",
       "    </tr>\n",
       "    <tr>\n",
       "      <th>4454146</th>\n",
       "      <td>2020-1-10</td>\n",
       "      <td>'600000</td>\n",
       "      <td>12.39</td>\n",
       "      <td>0.1617</td>\n",
       "    </tr>\n",
       "    <tr>\n",
       "      <th>4454147</th>\n",
       "      <td>2020-1-9</td>\n",
       "      <td>'600000</td>\n",
       "      <td>12.37</td>\n",
       "      <td>0.4058</td>\n",
       "    </tr>\n",
       "    <tr>\n",
       "      <th>4454148</th>\n",
       "      <td>2020-1-8</td>\n",
       "      <td>'600000</td>\n",
       "      <td>12.32</td>\n",
       "      <td>-1.4400</td>\n",
       "    </tr>\n",
       "    <tr>\n",
       "      <th>4454149</th>\n",
       "      <td>2020-1-7</td>\n",
       "      <td>'600000</td>\n",
       "      <td>12.50</td>\n",
       "      <td>0.3210</td>\n",
       "    </tr>\n",
       "    <tr>\n",
       "      <th>4454150</th>\n",
       "      <td>2020-1-6</td>\n",
       "      <td>'600000</td>\n",
       "      <td>12.46</td>\n",
       "      <td>-1.1111</td>\n",
       "    </tr>\n",
       "    <tr>\n",
       "      <th>4454151</th>\n",
       "      <td>2020-1-3</td>\n",
       "      <td>'600000</td>\n",
       "      <td>12.60</td>\n",
       "      <td>1.0425</td>\n",
       "    </tr>\n",
       "    <tr>\n",
       "      <th>4454152</th>\n",
       "      <td>2020-1-2</td>\n",
       "      <td>'600000</td>\n",
       "      <td>12.47</td>\n",
       "      <td>0.8084</td>\n",
       "    </tr>\n",
       "  </tbody>\n",
       "</table>\n",
       "</div>"
      ],
      "text/plain": [
       "                日期     股票代码    收盘价     涨跌幅\n",
       "4454145  2020-1-13  '600000  12.41  0.1614\n",
       "4454146  2020-1-10  '600000  12.39  0.1617\n",
       "4454147   2020-1-9  '600000  12.37  0.4058\n",
       "4454148   2020-1-8  '600000  12.32 -1.4400\n",
       "4454149   2020-1-7  '600000  12.50  0.3210\n",
       "4454150   2020-1-6  '600000  12.46 -1.1111\n",
       "4454151   2020-1-3  '600000  12.60  1.0425\n",
       "4454152   2020-1-2  '600000  12.47  0.8084"
      ]
     },
     "execution_count": 24,
     "metadata": {},
     "output_type": "execute_result"
    }
   ],
   "source": [
    "# loc查看数据\n",
    "df_copy.loc[df.日期 > '2020-04-10',['日期','股票代码','收盘价','涨跌幅']]"
   ]
  },
  {
   "cell_type": "code",
   "execution_count": 44,
   "metadata": {
    "collapsed": true,
    "jupyter": {
     "outputs_hidden": true
    }
   },
   "outputs": [],
   "source": [
    "# query 查看数据\n",
    "df2 = df_copy.query(\"日期 > '2020-02-10'\")[['日期','股票代码','收盘价','涨跌幅']].head(50) "
   ]
  },
  {
   "cell_type": "code",
   "execution_count": 52,
   "metadata": {},
   "outputs": [
    {
     "data": {
      "image/png": "[encoded data removed]",
      "text/plain": [
       "<Figure size 432x288 with 1 Axes>"
      ]
     },
     "metadata": {},
     "output_type": "display_data"
    }
   ],
   "source": [
    "plt.style.use('ggplot')\n",
    "#解决中文显示问题\n",
    "plt.rcParams['font.sans-serif'] = ['KaiTi'] # 指定默认字体\n",
    "plt.rcParams['axes.unicode_minus'] = False # 解决保存图像是负号'-'显示为方块的问题\n",
    "\n",
    "df2.groupby('日期')['收盘价'].max().reset_index()\n",
    "df2['收盘价'].sort_index().plot(kind='bar', title=u'浦发银行')\n",
    "plt.show()\n"
   ]
  },
  {
   "cell_type": "code",
   "execution_count": 58,
   "metadata": {},
   "outputs": [
    {
     "data": {
      "image/png": "[encoded data removed]",
      "text/plain": [
       "<Figure size 436x360 with 1 Axes>"
      ]
     },
     "metadata": {},
     "output_type": "display_data"
    }
   ],
   "source": [
    "sns.relplot(x= \"日期\", y= \"收盘价\", hue= \"股票代码\", kind= \"line\", data=df2)\n",
    "plt.show()"
   ]
  },
  {
   "cell_type": "code",
   "execution_count": 53,
   "metadata": {},
   "outputs": [
    {
     "data": {
      "image/png": "[encoded data removed]",
      "text/plain": [
       "<Figure size 431x360 with 1 Axes>"
      ]
     },
     "metadata": {},
     "output_type": "display_data"
    }
   ],
   "source": [
    "sns.catplot(x= u\"日期\", y= u\"收盘价\",hue= u\"股票代码\", kind= \"bar\", data=df2)\n",
    "plt.show()"
   ]
  },
  {
   "cell_type": "code",
   "execution_count": 54,
   "metadata": {},
   "outputs": [
    {
     "data": {
      "image/png": "[encoded data removed]",
      "text/plain": [
       "<Figure size 432x288 with 1 Axes>"
      ]
     },
     "metadata": {},
     "output_type": "display_data"
    }
   ],
   "source": [
    "sns.lineplot(x=u\"日期\", y=u\"收盘价\",hue=u\"股票代码\", data=df2)\n",
    "plt.show()"
   ]
  },
  {
   "cell_type": "code",
   "execution_count": 56,
   "metadata": {},
   "outputs": [
    {
     "data": {
      "image/png": "[encoded data removed]",
      "text/plain": [
       "<Figure size 432x288 with 1 Axes>"
      ]
     },
     "metadata": {},
     "output_type": "display_data"
    }
   ],
   "source": [
    "# 两条线在一个图上显示\n",
    "list_data = [df2.loc[:, \"收盘价\"], df2.loc[:, \"涨跌幅\"]]\n",
    "\n",
    "ax = sns.lineplot(data=list_data)\n",
    "plt.show()"
   ]
  },
  {
   "cell_type": "code",
   "execution_count": 57,
   "metadata": {},
   "outputs": [
    {
     "data": {
      "image/png": "[encoded data removed]",
      "text/plain": [
       "<Figure size 1008x720 with 1 Axes>"
      ]
     },
     "metadata": {},
     "output_type": "display_data"
    }
   ],
   "source": [
    "f, ax = plt.subplots(figsize = (14, 10))\n",
    "\n",
    "# 设置颜色\n",
    "cmap = sns.cubehelix_palette(start = 1, rot = 3, gamma=0.8, as_cmap = True)\n",
    "\n",
    "# color: https://matplotlib.org/users/colormaps.html\n",
    "sns.lineplot(x=u\"日期\", y=u\"收盘价\",hue=u\"股票代码\", data=df2, ax=ax)\n",
    "\n",
    "ax.set_title('股票K线图', fontsize=18, position=(0.5,1.05))\n",
    "\n",
    "#ax.tick_params(axis=u\"日期\",labelsize=6, colors='b', labeltop=False, labelbottom=False) \n",
    "ax.set_xticklabels(df2['日期'], rotation=-90)\n",
    "plt.show()"
   ]
  },
  {
   "cell_type": "code",
   "execution_count": null,
   "metadata": {
    "collapsed": true,
    "jupyter": {
     "outputs_hidden": true
    }
   },
   "outputs": [],
   "source": []
  }
 ],
 "metadata": {
  "kernelspec": {
   "display_name": "Python 3",
   "language": "python",
   "name": "python3"
  },
  "language_info": {
   "codemirror_mode": {
    "name": "ipython",
    "version": 3
   },
   "file_extension": ".py",
   "mimetype": "text/x-python",
   "name": "python",
   "nbconvert_exporter": "python",
   "pygments_lexer": "ipython3",
   "version": "3.8.3"
  }
 },
 "nbformat": 4,
 "nbformat_minor": 4
}
