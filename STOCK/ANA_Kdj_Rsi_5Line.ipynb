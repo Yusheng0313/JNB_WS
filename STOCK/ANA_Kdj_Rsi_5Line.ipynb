{
 "cells": [
  {
   "cell_type": "code",
   "execution_count": 1,
   "metadata": {},
   "outputs": [
    {
     "data": {
      "text/html": [
       "        <script type=\"text/javascript\">\n",
       "        window.PlotlyConfig = {MathJaxConfig: 'local'};\n",
       "        if (window.MathJax) {MathJax.Hub.Config({SVG: {font: \"STIX-Web\"}});}\n",
       "        if (typeof require !== 'undefined') {\n",
       "        require.undef(\"plotly\");\n",
       "        requirejs.config({\n",
       "            paths: {\n",
       "                'plotly': ['https://cdn.plot.ly/plotly-latest.min']\n",
       "            }\n",
       "        });\n",
       "        require(['plotly'], function(Plotly) {\n",
       "            window._Plotly = Plotly;\n",
       "        });\n",
       "        }\n",
       "        </script>\n",
       "        "
      ]
     },
     "metadata": {},
     "output_type": "display_data"
    }
   ],
   "source": [
    "import talib                   #量化金融技术分析库\n",
    "import os\n",
    "import pandas as pd\n",
    "import numpy as np\n",
    "import cufflinks as cf\n",
    "import datetime\n",
    "import time"
   ]
  },
  {
   "cell_type": "code",
   "execution_count": 2,
   "metadata": {},
   "outputs": [],
   "source": [
    "start = time.time()"
   ]
  },
  {
   "cell_type": "code",
   "execution_count": 3,
   "metadata": {},
   "outputs": [],
   "source": [
    "# 插入py文件，调用里面的函数\n",
    "from Stock_Interface import cli_fiveLine\n",
    "from Stock_Interface import cli_rsi\n",
    "from Stock_Interface import cli_kdj\n",
    "from Stock_Interface import cli_kdj_rsi_5line\n",
    "from Stock_Interface.read_finance_year import read_stock, read_newyear, read_companyInfo"
   ]
  },
  {
   "cell_type": "code",
   "execution_count": null,
   "metadata": {},
   "outputs": [],
   "source": [
    "stock_code = '601398'\n",
    "today = datetime.date.today()                #datetime.date类型日期  today = datetime.date(2019,11,15)\n",
    "today = today - datetime.timedelta(365*0)\n",
    "A3yday = today - datetime.timedelta(365*3.5) # 0.3 rsi6 kdj，3.5 5line\n",
    "startDate = A3yday.strftime('%Y%m%d')        #字符串型日期\n",
    "endDate = today.strftime('%Y%m%d')\n",
    "stock_name = read_companyInfo(stock_code)\n",
    "\n",
    "df = read_stock( read_newyear(), stock_code, startDate, endDate )"
   ]
  },
  {
   "cell_type": "code",
   "execution_count": null,
   "metadata": {},
   "outputs": [],
   "source": [
    "fig = cli_kdj_rsi_5line.show_fig(df, stock_code, stock_name, startDate, endDate)"
   ]
  },
  {
   "cell_type": "code",
   "execution_count": null,
   "metadata": {},
   "outputs": [],
   "source": [
    "#df_mode = cli_fiveLine.build_mode(df, stock_code, startDate, endDate)\n",
    "#fig = cli_fiveLine.show_save_image(df_mode, stock_code, stock_name)"
   ]
  },
  {
   "cell_type": "code",
   "execution_count": null,
   "metadata": {},
   "outputs": [],
   "source": [
    "#df_mode = cli_rsi.build_mode(df, stock_code, startDate, endDate)\n",
    "#fig = cli_rsi.show_save_image(df_mode, stock_code, stock_name)"
   ]
  },
  {
   "cell_type": "code",
   "execution_count": null,
   "metadata": {},
   "outputs": [],
   "source": [
    "#df_mode = cli_kdj.build_mode(df, stock_code, startDate, endDate)\n",
    "#fig = cli_kdj.show_save_image(df_mode, stock_code, stock_name)"
   ]
  },
  {
   "cell_type": "code",
   "execution_count": null,
   "metadata": {},
   "outputs": [],
   "source": [
    "print('finish:%.4f'%(time.time()-start))"
   ]
  }
 ],
 "metadata": {
  "kernelspec": {
   "display_name": "Python 3",
   "language": "python",
   "name": "python3"
  },
  "language_info": {
   "codemirror_mode": {
    "name": "ipython",
    "version": 3
   },
   "file_extension": ".py",
   "mimetype": "text/x-python",
   "name": "python",
   "nbconvert_exporter": "python",
   "pygments_lexer": "ipython3",
   "version": "3.8.3"
  }
 },
 "nbformat": 4,
 "nbformat_minor": 4
}
