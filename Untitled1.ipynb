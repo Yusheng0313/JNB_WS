{
 "cells": [
  {
   "cell_type": "code",
   "execution_count": 1,
   "metadata": {},
   "outputs": [
    {
     "name": "stdout",
     "output_type": "stream",
     "text": [
      " 驱动器 C 中的卷没有标签。\n",
      " 卷的序列号是 8ED8-D47B\n",
      "\n",
      " C:\\Users\\pc-01 的目录\n",
      "\n",
      "2020-04-05  10:53    <DIR>          .\n",
      "2020-04-05  10:53    <DIR>          ..\n",
      "2019-12-22  15:57    <DIR>          .anaconda\n",
      "2017-11-01  15:12    <DIR>          .android\n",
      "2019-12-22  22:39    <DIR>          .astropy\n",
      "2020-01-19  20:00               686 .bash_history\n",
      "2017-11-01  09:35    <DIR>          .cisco\n",
      "2020-04-01  18:04    <DIR>          .conda\n",
      "2020-04-01  16:05               105 .condarc\n",
      "2019-05-22  10:16                60 .deliverycenter.installs\n",
      "2018-06-19  17:26                67 .deliverycenter.system\n",
      "2017-06-16  16:45    <DIR>          .dnx\n",
      "2018-06-19  15:39    <DIR>          .eclipse\n",
      "2018-04-30  08:41    <DIR>          .FineReport80\n",
      "2020-03-18  17:51    <DIR>          .FineReport90\n",
      "2019-12-25  11:37               179 .gitconfig\n",
      "2020-04-04  18:59    <DIR>          .ipynb_checkpoints\n",
      "2019-12-22  16:17    <DIR>          .ipython\n",
      "2020-04-04  18:06    <DIR>          .jupyter\n",
      "2019-09-21  18:48    <DIR>          .kettle\n",
      "2018-06-19  17:27    <DIR>          .m2\n",
      "2020-01-22  09:11    <DIR>          .matplotlib\n",
      "2018-01-02  11:20    <DIR>          .MemuHyperv\n",
      "2018-08-17  15:16    <DIR>          .myeclipse\n",
      "2017-07-15  11:26    <DIR>          .nuget\n",
      "2017-06-15  19:59    <DIR>          .oracle_jre_usage\n",
      "2019-09-14  21:42    <DIR>          .pentaho\n",
      "2019-12-22  21:49    <DIR>          .PyCharm2019.3\n",
      "2020-04-03  16:03    <DIR>          .spyder-py3\n",
      "2018-11-24  21:04    <DIR>          .swt\n",
      "2019-12-25  15:13             7,776 .viminfo\n",
      "2020-03-11  18:01    <DIR>          3D Objects\n",
      "2020-04-02  12:03         2,832,108 a.ipynb\n",
      "2019-12-21  13:22    <DIR>          ansel\n",
      "2017-06-17  09:02    <DIR>          CMB\n",
      "2020-03-11  18:01    <DIR>          Contacts\n",
      "2020-04-03  17:36    <DIR>          Desktop\n",
      "2020-03-11  18:01    <DIR>          Documents\n",
      "2020-03-29  23:47    <DIR>          Downloads\n",
      "2020-03-11  18:01    <DIR>          Favorites\n",
      "2020-04-03  16:18    <DIR>          JupyterNotebook\n",
      "2020-03-11  18:01    <DIR>          Links\n",
      "2019-12-21  16:02    <DIR>          logs\n",
      "2020-03-11  18:01    <DIR>          Music\n",
      "2019-06-20  10:40    <DIR>          OneDrive\n",
      "2020-03-11  18:01    <DIR>          Pictures\n",
      "2020-04-05  01:22               607 ppd_result.csv\n",
      "2017-07-09  19:38             1,773 Replace Studio.cfg\n",
      "2020-03-11  18:01    <DIR>          Saved Games\n",
      "2020-03-11  18:01    <DIR>          Searches\n",
      "2019-06-20  10:19    <DIR>          UIDowner\n",
      "2020-04-04  18:58             5,124 Untitled.ipynb\n",
      "2020-04-04  18:58                72 Untitled1.ipynb\n",
      "2020-03-11  18:01    <DIR>          Videos\n",
      "2020-04-05  02:46            70,581 拍拍贷信贷分析.ipynb\n",
      "2020-04-04  18:59             4,389 日期时间.ipynb\n",
      "2020-04-05  10:53            18,307 深圳房价分析.ipynb\n",
      "              14 个文件      2,941,834 字节\n",
      "              43 个目录 10,375,688,192 可用字节\n"
     ]
    }
   ],
   "source": [
    "ls"
   ]
  },
  {
   "cell_type": "code",
   "execution_count": null,
   "metadata": {},
   "outputs": [],
   "source": []
  }
 ],
 "metadata": {
  "kernelspec": {
   "display_name": "Python 3",
   "language": "python",
   "name": "python3"
  },
  "language_info": {
   "codemirror_mode": {
    "name": "ipython",
    "version": 3
   },
   "file_extension": ".py",
   "mimetype": "text/x-python",
   "name": "python",
   "nbconvert_exporter": "python",
   "pygments_lexer": "ipython3",
   "version": "3.7.0"
  }
 },
 "nbformat": 4,
 "nbformat_minor": 2
}
