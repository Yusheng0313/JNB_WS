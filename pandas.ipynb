{
 "cells": [
  {
   "cell_type": "code",
   "execution_count": 2,
   "metadata": {},
   "outputs": [],
   "source": [
    "#coding=utf-8\n",
    "import pandas as pd\n",
    "from pandas import DataFrame\n",
    "from pandas import concat\n",
    "from pandas import merge\n",
    "import numpy as np\n"
   ]
  },
  {
   "cell_type": "markdown",
   "metadata": {},
   "source": [
    "# 1、构造DF"
   ]
  },
  {
   "cell_type": "code",
   "execution_count": 3,
   "metadata": {},
   "outputs": [
    {
     "data": {
      "text/html": [
       "<div>\n",
       "<style scoped>\n",
       "    .dataframe tbody tr th:only-of-type {\n",
       "        vertical-align: middle;\n",
       "    }\n",
       "\n",
       "    .dataframe tbody tr th {\n",
       "        vertical-align: top;\n",
       "    }\n",
       "\n",
       "    .dataframe thead th {\n",
       "        text-align: right;\n",
       "    }\n",
       "</style>\n",
       "<table border=\"1\" class=\"dataframe\">\n",
       "  <thead>\n",
       "    <tr style=\"text-align: right;\">\n",
       "      <th></th>\n",
       "      <th>id</th>\n",
       "      <th>name</th>\n",
       "    </tr>\n",
       "  </thead>\n",
       "  <tbody>\n",
       "    <tr>\n",
       "      <th>0</th>\n",
       "      <td>1</td>\n",
       "      <td>Jim</td>\n",
       "    </tr>\n",
       "    <tr>\n",
       "      <th>1</th>\n",
       "      <td>2</td>\n",
       "      <td>Tom</td>\n",
       "    </tr>\n",
       "    <tr>\n",
       "      <th>2</th>\n",
       "      <td>3</td>\n",
       "      <td>Jack</td>\n",
       "    </tr>\n",
       "  </tbody>\n",
       "</table>\n",
       "</div>"
      ],
      "text/plain": [
       "   id  name\n",
       "0   1   Jim\n",
       "1   2   Tom\n",
       "2   3  Jack"
      ]
     },
     "execution_count": 3,
     "metadata": {},
     "output_type": "execute_result"
    }
   ],
   "source": [
    "pd.DataFrame({'id':[1,2,3],'name':['Jim','Tom','Jack']})"
   ]
  },
  {
   "cell_type": "markdown",
   "metadata": {},
   "source": [
    "# 2、merage\n",
    "pandas提供了一个类似于关系数据库的连接(join)操作的方法<Strong>merage</Strong>,可以根据一个或多个键将不同DataFrame中的行连接起来，语法如下：\n",
    "1\tmerge(left, right, how='inner', on=None, left_on=None, right_on=None,\n",
    "2\t      left_index=False, right_index=False, sort=True,\n",
    "3\t      suffixes=('_x', '_y'), copy=True, indicator=False)\n",
    "\n",
    "作为一个功能完善、强大的语言，python的pandas库中的merge()支持各种内外连接。\n",
    "+ left与right：两个不同的DataFrame\n",
    "+ how：指的是合并(连接)的方式有inner(内连接),left(左外连接),right(右外连接),outer(全外连接);默认为inner\n",
    "+ on : 指的是用于连接的列索引名称。必须存在右右两个DataFrame对象中，如果没有指定且其他参数也未指定则以两个DataFrame的列名交集做为连接键\n",
    "+ left_on：左则DataFrame中用作连接键的列名;这个参数中左右列名不相同，但代表的含义相同时非常有用。\n",
    "+ right_on：右则DataFrame中用作 连接键的列名\n",
    "+ left_index：使用左则DataFrame中的行索引做为连接键\n",
    "+ right_index：使用右则DataFrame中的行索引做为连接键\n",
    "+ sort：默认为True，将合并的数据进行排序。在大多数情况下设置为False可以提高性能\n",
    "+ suffixes：字符串值组成的元组，用于指定当左右DataFrame存在相同列名时在列名后面附加的后缀名称，默认为('_x','_y')\n",
    "+ copy：默认为True,总是将数据复制到数据结构中；大多数情况下设置为False可以提高性能\n",
    "+ indicator：在 0.17.0中还增加了一个显示合并数据中来源情况；如只来自己于左边(left_only)、两者(both)"
   ]
  },
  {
   "cell_type": "code",
   "execution_count": 4,
   "metadata": {},
   "outputs": [
    {
     "name": "stdout",
     "output_type": "stream",
     "text": [
      "data:    age   cp  id  name\n",
      "0   20   lm   0   lxh\n",
      "1   40   ly   1  xiao\n",
      "2    4  yry   2   hua\n",
      "3   70  old   3    be\n",
      "data1:    cs   id  name\n",
      "0  10  100   lxh\n",
      "1  40  101  xiao\n",
      "2  50  102  hua2\n",
      "data2:    cs   id  name\n",
      "0  10    0   lxh\n",
      "1  40  101  xiao\n",
      "2  50  102  hua2\n",
      "单个列名做为内链接的连接键\r\n",
      "    age  cp  id_a  name  cs  id_b\n",
      "0   20  lm     0   lxh  10   100\n",
      "1   40  ly     1  xiao  40   101\n",
      "多列名做为内链接的连接键\r\n",
      "    age  cp  id name  cs\n",
      "0   20  lm   0  lxh  10\n",
      "不指定on则以两个DataFrame的列名交集做为连接键\r\n",
      "    age  cp  id name  cs\n",
      "0   20  lm   0  lxh  10\n",
      "使用右边的DataFrame的行索引做为连接键\r\n",
      "    age  cp  id_x  name  cs  id_y\n",
      "0   20  lm     0   lxh  10   100\n",
      "1   40  ly     1  xiao  40   101\n",
      "左外连接\r\n",
      "    age   cp  id_a  name    cs   id_b\n",
      "0   20   lm     0   lxh  10.0  100.0\n",
      "1   40   ly     1  xiao  40.0  101.0\n",
      "2    4  yry     2   hua   NaN    NaN\n",
      "3   70  old     3    be   NaN    NaN\n",
      "左外连接1\r\n",
      "    cs  id_x  name   age   cp  id_y\n",
      "0  10   100   lxh  20.0   lm   0.0\n",
      "1  40   101  xiao  40.0   ly   1.0\n",
      "2  50   102  hua2   NaN  NaN   NaN\n",
      "右外连接\r\n",
      "     age   cp  id_x  name  cs  id_y\n",
      "0  20.0   lm   0.0   lxh  10   100\n",
      "1  40.0   ly   1.0  xiao  40   101\n",
      "2   NaN  NaN   NaN  hua2  50   102\n",
      "使用left_on与right_on来指定列名字不同的连接键\r\n",
      "    age  cp  id name  cs  mid mname\n",
      "0   20  lm   0  lxh  10    0   lxh\n"
     ]
    }
   ],
   "source": [
    "data=DataFrame([{\"id\":0,\"name\":'lxh',\"age\":20,\"cp\":'lm'},{\"id\":1,\"name\":'xiao',\"age\":40,\"cp\":'ly'},{\"id\":2,\"name\":'hua',\"age\":4,\"cp\":'yry'},{\"id\":3,\"name\":'be',\"age\":70,\"cp\":'old'}])\n",
    "data1=DataFrame([{\"id\":100,\"name\":'lxh','cs':10},{\"id\":101,\"name\":'xiao','cs':40},{\"id\":102,\"name\":'hua2','cs':50}])\n",
    "data2=DataFrame([{\"id\":0,\"name\":'lxh','cs':10},{\"id\":101,\"name\":'xiao','cs':40},{\"id\":102,\"name\":'hua2','cs':50}])\n",
    "\n",
    "print('data:',data)\n",
    "print('data1:',data1)\n",
    "print('data2:',data2)\n",
    "\n",
    "print('单个列名做为内链接的连接键\\r\\n', merge(data, data1, on='name',suffixes=('_a','_b')) )\n",
    "print(\"多列名做为内链接的连接键\\r\\n\",merge(data,data2,on=(\"name\",\"id\"))  )\n",
    "print('不指定on则以两个DataFrame的列名交集做为连接键\\r\\n' ,merge(data,data2))     #这里使用了id与name\n",
    "\n",
    "#使用右边的DataFrame的行索引做为连接键\n",
    "##设置行索引名称\n",
    "indexed_data1=data1.set_index(\"name\")\n",
    "print(\"使用右边的DataFrame的行索引做为连接键\\r\\n\",merge(data,indexed_data1,left_on='name',right_index=True))\n",
    "\n",
    "print('左外连接\\r\\n',merge(data,data1,on=\"name\",how=\"left\",suffixes=('_a','_b')) )\n",
    "print('左外连接1\\r\\n',merge(data1,data,on=\"name\",how=\"left\")  )\n",
    "print('右外连接\\r\\n',merge(data,data1,on=\"name\",how=\"right\")  )\n",
    "data3=DataFrame([{\"mid\":0,\"mname\":'lxh','cs':10},{\"mid\":101,\"mname\":'xiao','cs':40},{\"mid\":102,\"mname\":'hua2','cs':50}])\n",
    "\n",
    "#当左右两个DataFrame的列名不同，当又想做为连接键时可以使用left_on与right_on来指定连接键\n",
    "print(\"使用left_on与right_on来指定列名字不同的连接键\\r\\n\",merge(data,data3,left_on=[\"name\",\"id\"],right_on=[\"mname\",\"mid\"])  )\n"
   ]
  },
  {
   "cell_type": "markdown",
   "metadata": {},
   "source": [
    "# 3、join\n",
    "方法提供了一个简便的方法用于将两个DataFrame中的不同的列索引合并成为一个DataFrame。\n",
    "其中参数的意义与merge方法基本相同,只是join方法默认为左外连接how=left。"
   ]
  },
  {
   "cell_type": "code",
   "execution_count": 5,
   "metadata": {},
   "outputs": [
    {
     "name": "stdout",
     "output_type": "stream",
     "text": [
      "使用默认的左连接\r\n",
      "    age   cp  id  name  sex\n",
      "a   20   lm   0   lxh  0.0\n",
      "b   40   ly   1  xiao  1.0\n",
      "c    4  yry   2   hua  NaN\n",
      "d   70  old   3    be  NaN\n",
      "使用右连接\r\n",
      "     age   cp   id  name  sex\n",
      "a  20.0   lm  0.0   lxh    0\n",
      "b  40.0   ly  1.0  xiao    1\n",
      "e   NaN  NaN  NaN   NaN    2\n",
      "使用内连接\r\n",
      "    age  cp  id  name  sex\n",
      "a   20  lm   0   lxh    0\n",
      "b   40  ly   1  xiao    1\n",
      "使用全外连接\r\n",
      "     age   cp   id  name  sex\n",
      "a  20.0   lm  0.0   lxh  0.0\n",
      "b  40.0   ly  1.0  xiao  1.0\n",
      "c   4.0  yry  2.0   hua  NaN\n",
      "d  70.0  old  3.0    be  NaN\n",
      "e   NaN  NaN  NaN   NaN  2.0\n"
     ]
    }
   ],
   "source": [
    "data=DataFrame([{\"id\":0,\"name\":'lxh',\"age\":20,\"cp\":'lm'},{\"id\":1,\"name\":'xiao',\"age\":40,\"cp\":'ly'},{\"id\":2,\"name\":'hua',\"age\":4,\"cp\":'yry'},{\"id\":3,\"name\":'be',\"age\":70,\"cp\":'old'}],index=['a','b','c','d'])\n",
    "data1=DataFrame([{\"sex\":0},{\"sex\":1},{\"sex\":2}],index=['a','b','e'])\n",
    "\n",
    "print('使用默认的左连接\\r\\n',data.join(data1) )#这里可以看出自动屏蔽了data中没有的index=e 那一行的数据\n",
    "print('使用右连接\\r\\n',data.join(data1,how=\"right\") )#这里出自动屏蔽了data1中没有index=c,d的那行数据；等价于data1.join(data)\n",
    "print('使用内连接\\r\\n',data.join(data1,how='inner') )\n",
    "print('使用全外连接\\r\\n',data.join(data1,how='outer') )\n"
   ]
  },
  {
   "cell_type": "markdown",
   "metadata": {},
   "source": [
    "# 4、concat\n",
    "concat方法相当于数据库中的全连接(UNION ALL),可以指定按某个轴进行连接,也可以指定连接的方式join(outer,inner 只有这两种)。\n",
    "与数据库不同的是concat不会去重，要达到去重的效果可以使用drop_duplicates方法\n",
    "\n",
    "1\tconcat(objs, axis=0, join='outer', join_axes=None, ignore_index=False,\n",
    "2\t           keys=None, levels=None, names=None, verify_integrity=False, copy=True):"
   ]
  },
  {
   "cell_type": "code",
   "execution_count": 6,
   "metadata": {},
   "outputs": [
    {
     "name": "stdout",
     "output_type": "stream",
     "text": [
      "            city  rank\n",
      "0        Chicago     1\n",
      "1  San Francisco     4\n",
      "2  New York City     5\n",
      "            city  rank  age\n",
      "0        Chicago     1   20\n",
      "1         Boston    14   30\n",
      "2    Los Angeles    16   40\n",
      "3  San Francisco     4   50\n",
      "一、按索引轴进行内连接\r\n",
      "             city  rank         city  rank  age\n",
      "0        Chicago     1      Chicago     1   20\n",
      "1  San Francisco     4       Boston    14   30\n",
      "2  New York City     5  Los Angeles    16   40\n",
      "二、进行外连接并指定keys(行索引)\r\n",
      "       age           city  rank\n",
      "a 0   NaN        Chicago     1\n",
      "  1   NaN  San Francisco     4\n",
      "  2   NaN  New York City     5\n",
      "b 0  20.0        Chicago     1\n",
      "  1  30.0         Boston    14\n",
      "  2  40.0    Los Angeles    16\n",
      "  3  50.0  San Francisco     4\n",
      "三、去重后\r\n",
      "     age           city  rank\n",
      "0   NaN        Chicago     1\n",
      "1   NaN  San Francisco     4\n",
      "2   NaN  New York City     5\n",
      "3  20.0        Chicago     1\n",
      "4  30.0         Boston    14\n",
      "5  40.0    Los Angeles    16\n",
      "6  50.0  San Francisco     4\n",
      "四、按索引轴进行内连接\r\n",
      "             city  rank           city  rank  age\n",
      "0        Chicago   1.0        Chicago     1   20\n",
      "1  San Francisco   4.0         Boston    14   30\n",
      "2  New York City   5.0    Los Angeles    16   40\n",
      "3            NaN   NaN  San Francisco     4   50\n"
     ]
    },
    {
     "name": "stderr",
     "output_type": "stream",
     "text": [
      "D:\\Program Files (x86)\\Anaconda3\\lib\\site-packages\\ipykernel_launcher.py:7: FutureWarning: Sorting because non-concatenation axis is not aligned. A future version\n",
      "of pandas will change to not sort by default.\n",
      "\n",
      "To accept the future behavior, pass 'sort=False'.\n",
      "\n",
      "To retain the current behavior and silence the warning, pass 'sort=True'.\n",
      "\n",
      "  import sys\n",
      "D:\\Program Files (x86)\\Anaconda3\\lib\\site-packages\\ipykernel_launcher.py:8: FutureWarning: Sorting because non-concatenation axis is not aligned. A future version\n",
      "of pandas will change to not sort by default.\n",
      "\n",
      "To accept the future behavior, pass 'sort=False'.\n",
      "\n",
      "To retain the current behavior and silence the warning, pass 'sort=True'.\n",
      "\n",
      "  \n"
     ]
    }
   ],
   "source": [
    "df1 = DataFrame({'city': ['Chicago', 'San Francisco', 'New York City'], 'rank':  [1, 4, 5]})\n",
    "df2 = DataFrame({'city': ['Chicago', 'Boston', 'Los Angeles','San Francisco'], 'rank': [1, 14, 16, 4], 'age': [20, 30, 40, 50]})\n",
    "print(df1)\n",
    "print(df2)\n",
    "\n",
    "print( '一、按索引轴进行内连接\\r\\n',concat([df1,df2],join=\"inner\",axis=1)  )\n",
    "print( '二、进行外连接并指定keys(行索引)\\r\\n',concat([df1,df2],keys=['a','b'])   ) #这里有重复的数据\n",
    "print( '三、去重后\\r\\n',concat([df1,df2],ignore_index=True).drop_duplicates()  )\n",
    "print( '四、按索引轴进行内连接\\r\\n',concat([df1,df2],join=\"outer\",axis=1)  )\n"
   ]
  },
  {
   "cell_type": "markdown",
   "metadata": {},
   "source": [
    "# 5、导入数据"
   ]
  },
  {
   "cell_type": "code",
   "execution_count": 7,
   "metadata": {},
   "outputs": [
    {
     "data": {
      "text/html": [
       "<div>\n",
       "<style scoped>\n",
       "    .dataframe tbody tr th:only-of-type {\n",
       "        vertical-align: middle;\n",
       "    }\n",
       "\n",
       "    .dataframe tbody tr th {\n",
       "        vertical-align: top;\n",
       "    }\n",
       "\n",
       "    .dataframe thead th {\n",
       "        text-align: right;\n",
       "    }\n",
       "</style>\n",
       "<table border=\"1\" class=\"dataframe\">\n",
       "  <thead>\n",
       "    <tr style=\"text-align: right;\">\n",
       "      <th></th>\n",
       "      <th>出发地</th>\n",
       "      <th>目的地</th>\n",
       "      <th>价格</th>\n",
       "      <th>节省</th>\n",
       "      <th>路线名</th>\n",
       "      <th>酒店</th>\n",
       "      <th>房间</th>\n",
       "      <th>去程航司</th>\n",
       "      <th>去程方式</th>\n",
       "      <th>去程时间</th>\n",
       "      <th>回程航司</th>\n",
       "      <th>回程方式</th>\n",
       "      <th>回程时间</th>\n",
       "    </tr>\n",
       "  </thead>\n",
       "  <tbody>\n",
       "    <tr>\n",
       "      <th>0</th>\n",
       "      <td>哈尔滨</td>\n",
       "      <td>北海</td>\n",
       "      <td>2208.0</td>\n",
       "      <td>650.0</td>\n",
       "      <td>哈尔滨-北海3天2晚 | 入住北海祥丰嘉年华大酒店 + 春秋航空往返机票</td>\n",
       "      <td>北海祥丰嘉年华大酒店 舒适型 4.7分/5分</td>\n",
       "      <td>标准双人间(双床) 双床 不含早 1间2晚</td>\n",
       "      <td>春秋航空 9C8741</td>\n",
       "      <td>直飞</td>\n",
       "      <td>17:10-21:50</td>\n",
       "      <td>春秋航空 9C8742</td>\n",
       "      <td>直飞</td>\n",
       "      <td>10:20-15:05</td>\n",
       "    </tr>\n",
       "    <tr>\n",
       "      <th>1</th>\n",
       "      <td>成都</td>\n",
       "      <td>泸沽湖</td>\n",
       "      <td>1145.0</td>\n",
       "      <td>376.0</td>\n",
       "      <td>成都-泸沽湖3天2晚 | 入住7天酒店丽江古城中心店 + 成都航空往返机票</td>\n",
       "      <td>7天酒店丽江古城中心店 经济型 4.0分/5分</td>\n",
       "      <td>经济房-不含早-限时特... 其他 不含早 1间2晚</td>\n",
       "      <td>成都航空 EU2237</td>\n",
       "      <td>直飞</td>\n",
       "      <td>19:45-21:20</td>\n",
       "      <td>成都航空 EU2738</td>\n",
       "      <td>直飞</td>\n",
       "      <td>23:30-01:05</td>\n",
       "    </tr>\n",
       "    <tr>\n",
       "      <th>2</th>\n",
       "      <td>广州</td>\n",
       "      <td>沈阳</td>\n",
       "      <td>2702.0</td>\n",
       "      <td>618.0</td>\n",
       "      <td>广州-沈阳3天2晚 | 入住沈阳中煤宾馆 + 南方航空/深圳航空往返机票</td>\n",
       "      <td>沈阳中煤宾馆 舒适型 4.5分/5分</td>\n",
       "      <td>大床间(内宾) 大床 双早 1间2晚</td>\n",
       "      <td>南方航空 CZ6384</td>\n",
       "      <td>直飞</td>\n",
       "      <td>08:05-11:45</td>\n",
       "      <td>深圳航空 ZH9652</td>\n",
       "      <td>经停</td>\n",
       "      <td>08:20-13:05</td>\n",
       "    </tr>\n",
       "    <tr>\n",
       "      <th>3</th>\n",
       "      <td>上海</td>\n",
       "      <td>九寨沟</td>\n",
       "      <td>1954.0</td>\n",
       "      <td>484.0</td>\n",
       "      <td>上海-九寨沟3天2晚 | 入住红原芸谊大酒店 + 成都航空往返机票</td>\n",
       "      <td>红原芸谊大酒店 舒适型 4.6分/5分</td>\n",
       "      <td>豪华双床房[双早] 双床 双早 1间2晚</td>\n",
       "      <td>成都航空 EU6678</td>\n",
       "      <td>直飞</td>\n",
       "      <td>21:55-01:15</td>\n",
       "      <td>成都航空 EU6677</td>\n",
       "      <td>直飞</td>\n",
       "      <td>17:45-20:35</td>\n",
       "    </tr>\n",
       "    <tr>\n",
       "      <th>4</th>\n",
       "      <td>广州</td>\n",
       "      <td>天津</td>\n",
       "      <td>1608.0</td>\n",
       "      <td>422.0</td>\n",
       "      <td>广州-天津3天2晚 | 入住天津逸海明珠大酒店 + 奥凯航空/海南航空往返机票</td>\n",
       "      <td>天津逸海明珠大酒店 高档型 4.1分/5分</td>\n",
       "      <td>豪华双床房(预付) 双床 不含早 1间2晚</td>\n",
       "      <td>奥凯航空 BK2787</td>\n",
       "      <td>直飞</td>\n",
       "      <td>06:55-10:00</td>\n",
       "      <td>海南航空 HU7201</td>\n",
       "      <td>直飞</td>\n",
       "      <td>20:15-23:25</td>\n",
       "    </tr>\n",
       "  </tbody>\n",
       "</table>\n",
       "</div>"
      ],
      "text/plain": [
       "  出发地   目的地     价格      节省                                      路线名  \\\n",
       "0  哈尔滨   北海  2208.0  650.0     哈尔滨-北海3天2晚 | 入住北海祥丰嘉年华大酒店 + 春秋航空往返机票   \n",
       "1   成都  泸沽湖  1145.0  376.0    成都-泸沽湖3天2晚 | 入住7天酒店丽江古城中心店 + 成都航空往返机票   \n",
       "2   广州   沈阳  2702.0  618.0     广州-沈阳3天2晚 | 入住沈阳中煤宾馆 + 南方航空/深圳航空往返机票   \n",
       "3   上海  九寨沟  1954.0  484.0        上海-九寨沟3天2晚 | 入住红原芸谊大酒店 + 成都航空往返机票   \n",
       "4   广州   天津  1608.0  422.0  广州-天津3天2晚 | 入住天津逸海明珠大酒店 + 奥凯航空/海南航空往返机票   \n",
       "\n",
       "                        酒店                          房间         去程航司 去程方式  \\\n",
       "0   北海祥丰嘉年华大酒店 舒适型 4.7分/5分       标准双人间(双床) 双床 不含早 1间2晚  春秋航空 9C8741   直飞   \n",
       "1  7天酒店丽江古城中心店 经济型 4.0分/5分  经济房-不含早-限时特... 其他 不含早 1间2晚  成都航空 EU2237   直飞   \n",
       "2       沈阳中煤宾馆 舒适型 4.5分/5分          大床间(内宾) 大床 双早 1间2晚  南方航空 CZ6384   直飞   \n",
       "3      红原芸谊大酒店 舒适型 4.6分/5分        豪华双床房[双早] 双床 双早 1间2晚  成都航空 EU6678   直飞   \n",
       "4    天津逸海明珠大酒店 高档型 4.1分/5分       豪华双床房(预付) 双床 不含早 1间2晚  奥凯航空 BK2787   直飞   \n",
       "\n",
       "          去程时间         回程航司 回程方式          回程时间  \n",
       "0  17:10-21:50  春秋航空 9C8742    直飞  10:20-15:05  \n",
       "1  19:45-21:20  成都航空 EU2738    直飞  23:30-01:05  \n",
       "2  08:05-11:45  深圳航空 ZH9652    经停  08:20-13:05  \n",
       "3  21:55-01:15  成都航空 EU6677    直飞  17:45-20:35  \n",
       "4  06:55-10:00  海南航空 HU7201    直飞  20:15-23:25  "
      ]
     },
     "execution_count": 7,
     "metadata": {},
     "output_type": "execute_result"
    }
   ],
   "source": [
    "df=pd.read_csv('.\\JN_DataWarehouse\\qunar\\qunar_freetrip.csv',index_col=0)\n",
    "df.head()"
   ]
  },
  {
   "cell_type": "markdown",
   "metadata": {},
   "source": [
    "# 6、导出数据"
   ]
  },
  {
   "cell_type": "code",
   "execution_count": 8,
   "metadata": {},
   "outputs": [],
   "source": [
    "# data.to_csv('lianjia-foshanfangyuan.csv')\n",
    "df.to_csv('.\\JN_DataWarehouse\\qunar\\qunar_freetrip.csv')"
   ]
  },
  {
   "cell_type": "markdown",
   "metadata": {},
   "source": [
    "# 7、去列名的空格"
   ]
  },
  {
   "cell_type": "code",
   "execution_count": 9,
   "metadata": {},
   "outputs": [],
   "source": [
    "# 将数组里的下标赋值给col变量\n",
    "col = df.columns.values\n",
    "# 去空格，第二种：使用for循环来进行处理，如下：\n",
    "df.columns=[x.strip() for x in col]"
   ]
  },
  {
   "cell_type": "markdown",
   "metadata": {},
   "source": [
    "# 7.1 缺失值筛查"
   ]
  },
  {
   "cell_type": "code",
   "execution_count": 10,
   "metadata": {},
   "outputs": [
    {
     "data": {
      "text/plain": [
       "出发地      2\n",
       "目的地      1\n",
       "价格      28\n",
       "节省      17\n",
       "路线名      0\n",
       "酒店       0\n",
       "房间       0\n",
       "去程航司     0\n",
       "去程方式     0\n",
       "去程时间     0\n",
       "回程航司     0\n",
       "回程方式     0\n",
       "回程时间     0\n",
       "dtype: int64"
      ]
     },
     "execution_count": 10,
     "metadata": {},
     "output_type": "execute_result"
    }
   ],
   "source": [
    "df.isnull().sum()"
   ]
  },
  {
   "cell_type": "code",
   "execution_count": 11,
   "metadata": {},
   "outputs": [
    {
     "data": {
      "text/html": [
       "<div>\n",
       "<style scoped>\n",
       "    .dataframe tbody tr th:only-of-type {\n",
       "        vertical-align: middle;\n",
       "    }\n",
       "\n",
       "    .dataframe tbody tr th {\n",
       "        vertical-align: top;\n",
       "    }\n",
       "\n",
       "    .dataframe thead th {\n",
       "        text-align: right;\n",
       "    }\n",
       "</style>\n",
       "<table border=\"1\" class=\"dataframe\">\n",
       "  <thead>\n",
       "    <tr style=\"text-align: right;\">\n",
       "      <th></th>\n",
       "      <th>Missing Values</th>\n",
       "      <th>% of Total Values</th>\n",
       "    </tr>\n",
       "  </thead>\n",
       "  <tbody>\n",
       "    <tr>\n",
       "      <th>价格</th>\n",
       "      <td>28</td>\n",
       "      <td>0.5</td>\n",
       "    </tr>\n",
       "    <tr>\n",
       "      <th>节省</th>\n",
       "      <td>17</td>\n",
       "      <td>0.3</td>\n",
       "    </tr>\n",
       "    <tr>\n",
       "      <th>出发地</th>\n",
       "      <td>2</td>\n",
       "      <td>0.0</td>\n",
       "    </tr>\n",
       "    <tr>\n",
       "      <th>目的地</th>\n",
       "      <td>1</td>\n",
       "      <td>0.0</td>\n",
       "    </tr>\n",
       "  </tbody>\n",
       "</table>\n",
       "</div>"
      ],
      "text/plain": [
       "     Missing Values  % of Total Values\n",
       "价格               28                0.5\n",
       "节省               17                0.3\n",
       "出发地               2                0.0\n",
       "目的地               1                0.0"
      ]
     },
     "execution_count": 11,
     "metadata": {},
     "output_type": "execute_result"
    }
   ],
   "source": [
    "# 缺失值筛查\n",
    "def missing_values_table(df):\n",
    "    mis_val = df.isnull().sum()\n",
    "    mis_val_pct = 100 * mis_val/len(df)\n",
    "    mis_val_table = pd.concat([mis_val, mis_val_pct], axis=1)\n",
    "    mis_val_table.rename(columns={0: 'Missing Values', 1: '% of Total Values'}, inplace=True)\n",
    "    mis_val_table = mis_val_table[mis_val_table.iloc[:, 1] != 0].sort_values('% of Total Values', ascending=False).round(1)\n",
    "    return mis_val_table\n",
    "missing_loan = missing_values_table(df)\n",
    "missing_loan"
   ]
  },
  {
   "cell_type": "markdown",
   "metadata": {},
   "source": [
    "# 7.3 查看列值 是否有异常值 "
   ]
  },
  {
   "cell_type": "code",
   "execution_count": 14,
   "metadata": {},
   "outputs": [
    {
     "data": {
      "text/plain": [
       "南京     361\n",
       "广州     358\n",
       "杭州     357\n",
       "上海     340\n",
       "北京     339\n",
       "天津     318\n",
       "厦门     306\n",
       "成都     295\n",
       "西安     290\n",
       "济南     270\n",
       "重庆     269\n",
       "深圳     261\n",
       "青岛     256\n",
       "大连     240\n",
       "沈阳     229\n",
       "武汉     220\n",
       "宁波     182\n",
       "哈尔滨    182\n",
       "长春      25\n",
       "Name: 出发地, dtype: int64"
      ]
     },
     "execution_count": 14,
     "metadata": {},
     "output_type": "execute_result"
    }
   ],
   "source": [
    "# 查看列 是否有异常值 如 【出发地】列包含什么数据，要自己先检查NaN\n",
    "df.groupby(['出发地'])['出发地'].count()\n",
    "# 含有上面的功能 还多了排序\n",
    "df['出发地'].value_counts()"
   ]
  },
  {
   "cell_type": "markdown",
   "metadata": {},
   "source": [
    "# 8、查询某行某列"
   ]
  },
  {
   "cell_type": "code",
   "execution_count": 71,
   "metadata": {},
   "outputs": [
    {
     "data": {
      "text/html": [
       "<div>\n",
       "<style scoped>\n",
       "    .dataframe tbody tr th:only-of-type {\n",
       "        vertical-align: middle;\n",
       "    }\n",
       "\n",
       "    .dataframe tbody tr th {\n",
       "        vertical-align: top;\n",
       "    }\n",
       "\n",
       "    .dataframe thead th {\n",
       "        text-align: right;\n",
       "    }\n",
       "</style>\n",
       "<table border=\"1\" class=\"dataframe\">\n",
       "  <thead>\n",
       "    <tr style=\"text-align: right;\">\n",
       "      <th></th>\n",
       "      <th>出发地</th>\n",
       "      <th>目的地</th>\n",
       "      <th>价格</th>\n",
       "      <th>节省</th>\n",
       "      <th>路线名</th>\n",
       "      <th>酒店</th>\n",
       "      <th>房间</th>\n",
       "      <th>去程航司</th>\n",
       "      <th>去程方式</th>\n",
       "      <th>去程时间</th>\n",
       "      <th>回程航司</th>\n",
       "      <th>回程方式</th>\n",
       "      <th>回程时间</th>\n",
       "      <th>逾期天数</th>\n",
       "    </tr>\n",
       "  </thead>\n",
       "  <tbody>\n",
       "    <tr>\n",
       "      <th>11</th>\n",
       "      <td>哈尔滨</td>\n",
       "      <td>长沙</td>\n",
       "      <td>NaN</td>\n",
       "      <td>472.0</td>\n",
       "      <td>哈尔滨-长沙3天2晚 | 入住长沙艾玛连锁酒店 + 海南航空/奥凯航空往返机票</td>\n",
       "      <td>长沙艾玛连锁酒店 舒适型 3.7分/5分</td>\n",
       "      <td>豪华双人间-不含早（预... 双床 不含早 1间2晚</td>\n",
       "      <td>海南航空 HU7726</td>\n",
       "      <td>经停</td>\n",
       "      <td>16:25-22:05</td>\n",
       "      <td>奥凯航空 BK2849</td>\n",
       "      <td>经停</td>\n",
       "      <td>07:15-12:50</td>\n",
       "      <td>3</td>\n",
       "    </tr>\n",
       "    <tr>\n",
       "      <th>31</th>\n",
       "      <td>天津</td>\n",
       "      <td>西宁</td>\n",
       "      <td>NaN</td>\n",
       "      <td>396.0</td>\n",
       "      <td>天津-西宁3天2晚 | 入住西宁运通商务宾馆 + 中国国航往返机票</td>\n",
       "      <td>西宁运通商务宾馆 舒适型 4.4分/5分</td>\n",
       "      <td>标准间(双床)(内宾) 双床 不含早 1间2晚</td>\n",
       "      <td>中国国航 CA1241</td>\n",
       "      <td>直飞</td>\n",
       "      <td>15:25-17:55</td>\n",
       "      <td>中国国航 CA8280</td>\n",
       "      <td>经停</td>\n",
       "      <td>18:15-22:05</td>\n",
       "      <td>3</td>\n",
       "    </tr>\n",
       "    <tr>\n",
       "      <th>41</th>\n",
       "      <td>南京</td>\n",
       "      <td>青岛</td>\n",
       "      <td>NaN</td>\n",
       "      <td>326.0</td>\n",
       "      <td>南京-青岛3天2晚 | 入住宜必思酒店青岛城阳正阳路店 + 青岛航/首都航空往返...</td>\n",
       "      <td>宜必思酒店青岛城阳正阳路店 4.4分/5分</td>\n",
       "      <td>大床房(酒店★力推)(... 大床 不含早 1间2晚</td>\n",
       "      <td>青岛航 QW9860</td>\n",
       "      <td>直飞</td>\n",
       "      <td>22:55-00:10</td>\n",
       "      <td>首都航空 JD5298</td>\n",
       "      <td>直飞</td>\n",
       "      <td>10:40-12:00</td>\n",
       "      <td>3</td>\n",
       "    </tr>\n",
       "    <tr>\n",
       "      <th>51</th>\n",
       "      <td>青岛</td>\n",
       "      <td>长沙</td>\n",
       "      <td>NaN</td>\n",
       "      <td>454.0</td>\n",
       "      <td>青岛-长沙3天2晚 | 入住长沙天洋大酒店 + 青岛航/幸福航空往返机票</td>\n",
       "      <td>长沙天洋大酒店 3.9分/5分</td>\n",
       "      <td>标准大床房[无早] 大床 不含早 1间2晚</td>\n",
       "      <td>青岛航 QW9775</td>\n",
       "      <td>直飞</td>\n",
       "      <td>06:20-08:40</td>\n",
       "      <td>幸福航空 JR2769</td>\n",
       "      <td>直飞</td>\n",
       "      <td>06:40-09:05</td>\n",
       "      <td>3</td>\n",
       "    </tr>\n",
       "    <tr>\n",
       "      <th>73</th>\n",
       "      <td>深圳</td>\n",
       "      <td>呼和浩特</td>\n",
       "      <td>NaN</td>\n",
       "      <td>606.0</td>\n",
       "      <td>深圳-呼和浩特3天2晚 | 入住呼和浩特凯基国际商务酒店 + 东方航空/深圳航空...</td>\n",
       "      <td>呼和浩特凯基国际商务酒店 高档型 4.4分/5分</td>\n",
       "      <td>豪华双人间 双床 双床 不含早 1间2晚</td>\n",
       "      <td>东方航空 MU2877</td>\n",
       "      <td>经停</td>\n",
       "      <td>11:05-17:00</td>\n",
       "      <td>深圳航空 ZH9128</td>\n",
       "      <td>经停</td>\n",
       "      <td>13:55-18:40</td>\n",
       "      <td>3</td>\n",
       "    </tr>\n",
       "  </tbody>\n",
       "</table>\n",
       "</div>"
      ],
      "text/plain": [
       "    出发地   目的地  价格     节省                                          路线名  \\\n",
       "11  哈尔滨    长沙 NaN  472.0      哈尔滨-长沙3天2晚 | 入住长沙艾玛连锁酒店 + 海南航空/奥凯航空往返机票   \n",
       "31   天津    西宁 NaN  396.0            天津-西宁3天2晚 | 入住西宁运通商务宾馆 + 中国国航往返机票   \n",
       "41   南京    青岛 NaN  326.0  南京-青岛3天2晚 | 入住宜必思酒店青岛城阳正阳路店 + 青岛航/首都航空往返...   \n",
       "51   青岛    长沙 NaN  454.0         青岛-长沙3天2晚 | 入住长沙天洋大酒店 + 青岛航/幸福航空往返机票   \n",
       "73   深圳  呼和浩特 NaN  606.0  深圳-呼和浩特3天2晚 | 入住呼和浩特凯基国际商务酒店 + 东方航空/深圳航空...   \n",
       "\n",
       "                          酒店                          房间         去程航司 去程方式  \\\n",
       "11      长沙艾玛连锁酒店 舒适型 3.7分/5分  豪华双人间-不含早（预... 双床 不含早 1间2晚  海南航空 HU7726   经停   \n",
       "31      西宁运通商务宾馆 舒适型 4.4分/5分     标准间(双床)(内宾) 双床 不含早 1间2晚  中国国航 CA1241   直飞   \n",
       "41     宜必思酒店青岛城阳正阳路店 4.4分/5分  大床房(酒店★力推)(... 大床 不含早 1间2晚   青岛航 QW9860   直飞   \n",
       "51           长沙天洋大酒店 3.9分/5分       标准大床房[无早] 大床 不含早 1间2晚   青岛航 QW9775   直飞   \n",
       "73  呼和浩特凯基国际商务酒店 高档型 4.4分/5分        豪华双人间 双床 双床 不含早 1间2晚  东方航空 MU2877   经停   \n",
       "\n",
       "           去程时间         回程航司 回程方式         回程时间  逾期天数  \n",
       "11  16:25-22:05  奥凯航空 BK2849   经停  07:15-12:50     3  \n",
       "31  15:25-17:55  中国国航 CA8280   经停  18:15-22:05     3  \n",
       "41  22:55-00:10  首都航空 JD5298   直飞  10:40-12:00     3  \n",
       "51  06:20-08:40  幸福航空 JR2769   直飞  06:40-09:05     3  \n",
       "73  11:05-17:00  深圳航空 ZH9128   经停  13:55-18:40     3  "
      ]
     },
     "execution_count": 71,
     "metadata": {},
     "output_type": "execute_result"
    }
   ],
   "source": [
    "# #where条件 和 显示 指定列， select '价格','节省','目的地' from df where 价格 > 0 and 节省 >400 and rownum < 6\n",
    "df.loc[(df.价格>0) & (df.节省>400) ,['价格','节省','目的地']].head()\n",
    "#df.loc[df['价格'].isnull()].head()"
   ]
  },
  {
   "cell_type": "code",
   "execution_count": 10,
   "metadata": {},
   "outputs": [
    {
     "data": {
      "text/plain": [
       "出发地                                       天津\n",
       "目的地                                     西双版纳\n",
       "价格                                      3027\n",
       "节省                                       816\n",
       "路线名     天津-西双版纳3天2晚 | 入住西双版纳景祥大酒店 + 东方航空往返机票\n",
       "酒店                     西双版纳景祥大酒店 舒适型 4.5分/5分\n",
       "房间                         温馨大床房 大床 不含早 1间2晚\n",
       "去程航司                             东方航空 MU5748\n",
       "去程方式                                      经停\n",
       "去程时间                             14:15-20:00\n",
       "回程航司                             东方航空 MU5747\n",
       "回程方式                                      经停\n",
       "回程时间                             07:30-12:55\n",
       "Name: 1850, dtype: object"
      ]
     },
     "execution_count": 10,
     "metadata": {},
     "output_type": "execute_result"
    }
   ],
   "source": [
    "# 显示某行\n",
    "df.loc[1850]"
   ]
  },
  {
   "cell_type": "code",
   "execution_count": 11,
   "metadata": {},
   "outputs": [
    {
     "data": {
      "text/html": [
       "<div>\n",
       "<style scoped>\n",
       "    .dataframe tbody tr th:only-of-type {\n",
       "        vertical-align: middle;\n",
       "    }\n",
       "\n",
       "    .dataframe tbody tr th {\n",
       "        vertical-align: top;\n",
       "    }\n",
       "\n",
       "    .dataframe thead th {\n",
       "        text-align: right;\n",
       "    }\n",
       "</style>\n",
       "<table border=\"1\" class=\"dataframe\">\n",
       "  <thead>\n",
       "    <tr style=\"text-align: right;\">\n",
       "      <th></th>\n",
       "      <th>酒店</th>\n",
       "      <th>房间</th>\n",
       "      <th>路线名</th>\n",
       "    </tr>\n",
       "  </thead>\n",
       "  <tbody>\n",
       "    <tr>\n",
       "      <th>0</th>\n",
       "      <td>北海祥丰嘉年华大酒店 舒适型 4.7分/5分</td>\n",
       "      <td>标准双人间(双床) 双床 不含早 1间2晚</td>\n",
       "      <td>哈尔滨-北海3天2晚 | 入住北海祥丰嘉年华大酒店 + 春秋航空往返机票</td>\n",
       "    </tr>\n",
       "    <tr>\n",
       "      <th>1</th>\n",
       "      <td>7天酒店丽江古城中心店 经济型 4.0分/5分</td>\n",
       "      <td>经济房-不含早-限时特... 其他 不含早 1间2晚</td>\n",
       "      <td>成都-泸沽湖3天2晚 | 入住7天酒店丽江古城中心店 + 成都航空往返机票</td>\n",
       "    </tr>\n",
       "    <tr>\n",
       "      <th>2</th>\n",
       "      <td>沈阳中煤宾馆 舒适型 4.5分/5分</td>\n",
       "      <td>大床间(内宾) 大床 双早 1间2晚</td>\n",
       "      <td>广州-沈阳3天2晚 | 入住沈阳中煤宾馆 + 南方航空/深圳航空往返机票</td>\n",
       "    </tr>\n",
       "    <tr>\n",
       "      <th>3</th>\n",
       "      <td>红原芸谊大酒店 舒适型 4.6分/5分</td>\n",
       "      <td>豪华双床房[双早] 双床 双早 1间2晚</td>\n",
       "      <td>上海-九寨沟3天2晚 | 入住红原芸谊大酒店 + 成都航空往返机票</td>\n",
       "    </tr>\n",
       "    <tr>\n",
       "      <th>4</th>\n",
       "      <td>天津逸海明珠大酒店 高档型 4.1分/5分</td>\n",
       "      <td>豪华双床房(预付) 双床 不含早 1间2晚</td>\n",
       "      <td>广州-天津3天2晚 | 入住天津逸海明珠大酒店 + 奥凯航空/海南航空往返机票</td>\n",
       "    </tr>\n",
       "    <tr>\n",
       "      <th>5</th>\n",
       "      <td>青岛康大豪生大酒店 豪华型 4.6分/5分</td>\n",
       "      <td>精选房(大床)[酒店★... 大床 不含早 1间2晚</td>\n",
       "      <td>长春-青岛3天2晚 | 入住青岛康大豪生大酒店 + 南方航空往返机票</td>\n",
       "    </tr>\n",
       "    <tr>\n",
       "      <th>6</th>\n",
       "      <td>阿坝松潘松林酒店 舒适型 4.3分/5分</td>\n",
       "      <td>豪华标准间(双床) 双床 不含早 1间2晚</td>\n",
       "      <td>济南-九寨沟3天2晚 | 入住阿坝松潘松林酒店 + 中国国航/成都航空往返机票</td>\n",
       "    </tr>\n",
       "    <tr>\n",
       "      <th>7</th>\n",
       "      <td>重庆运通假日酒店汽博中心店 舒适型 4.3分/5分</td>\n",
       "      <td>特惠房(大床) 大床 双早 1间2晚</td>\n",
       "      <td>宁波-重庆3天2晚 | 入住重庆运通假日酒店汽博中心店 + 南方航空/四川航空往...</td>\n",
       "    </tr>\n",
       "    <tr>\n",
       "      <th>8</th>\n",
       "      <td>维也纳酒店南京南站汇景店 舒适型 4.4分/5分</td>\n",
       "      <td>特惠大床房（无窗）[双... 大床 双早 1间2晚</td>\n",
       "      <td>哈尔滨-南京3天2晚 | 入住维也纳酒店南京南站汇景店 + 吉祥航空/厦门航空往...</td>\n",
       "    </tr>\n",
       "    <tr>\n",
       "      <th>9</th>\n",
       "      <td>厦门泊旅时尚酒店会展中心店 舒适型 4.0分/5分</td>\n",
       "      <td>时尚标准双床房 双床 双早 1间2晚</td>\n",
       "      <td>深圳-厦门3天2晚 | 入住厦门泊旅时尚酒店会展中心店 + 海南航空往返机票</td>\n",
       "    </tr>\n",
       "  </tbody>\n",
       "</table>\n",
       "</div>"
      ],
      "text/plain": [
       "                          酒店                          房间  \\\n",
       "0     北海祥丰嘉年华大酒店 舒适型 4.7分/5分       标准双人间(双床) 双床 不含早 1间2晚   \n",
       "1    7天酒店丽江古城中心店 经济型 4.0分/5分  经济房-不含早-限时特... 其他 不含早 1间2晚   \n",
       "2         沈阳中煤宾馆 舒适型 4.5分/5分          大床间(内宾) 大床 双早 1间2晚   \n",
       "3        红原芸谊大酒店 舒适型 4.6分/5分        豪华双床房[双早] 双床 双早 1间2晚   \n",
       "4      天津逸海明珠大酒店 高档型 4.1分/5分       豪华双床房(预付) 双床 不含早 1间2晚   \n",
       "5      青岛康大豪生大酒店 豪华型 4.6分/5分  精选房(大床)[酒店★... 大床 不含早 1间2晚   \n",
       "6       阿坝松潘松林酒店 舒适型 4.3分/5分       豪华标准间(双床) 双床 不含早 1间2晚   \n",
       "7  重庆运通假日酒店汽博中心店 舒适型 4.3分/5分          特惠房(大床) 大床 双早 1间2晚   \n",
       "8   维也纳酒店南京南站汇景店 舒适型 4.4分/5分   特惠大床房（无窗）[双... 大床 双早 1间2晚   \n",
       "9  厦门泊旅时尚酒店会展中心店 舒适型 4.0分/5分          时尚标准双床房 双床 双早 1间2晚   \n",
       "\n",
       "                                           路线名  \n",
       "0         哈尔滨-北海3天2晚 | 入住北海祥丰嘉年华大酒店 + 春秋航空往返机票  \n",
       "1        成都-泸沽湖3天2晚 | 入住7天酒店丽江古城中心店 + 成都航空往返机票  \n",
       "2         广州-沈阳3天2晚 | 入住沈阳中煤宾馆 + 南方航空/深圳航空往返机票  \n",
       "3            上海-九寨沟3天2晚 | 入住红原芸谊大酒店 + 成都航空往返机票  \n",
       "4      广州-天津3天2晚 | 入住天津逸海明珠大酒店 + 奥凯航空/海南航空往返机票  \n",
       "5           长春-青岛3天2晚 | 入住青岛康大豪生大酒店 + 南方航空往返机票  \n",
       "6      济南-九寨沟3天2晚 | 入住阿坝松潘松林酒店 + 中国国航/成都航空往返机票  \n",
       "7  宁波-重庆3天2晚 | 入住重庆运通假日酒店汽博中心店 + 南方航空/四川航空往...  \n",
       "8  哈尔滨-南京3天2晚 | 入住维也纳酒店南京南站汇景店 + 吉祥航空/厦门航空往...  \n",
       "9       深圳-厦门3天2晚 | 入住厦门泊旅时尚酒店会展中心店 + 海南航空往返机票  "
      ]
     },
     "execution_count": 11,
     "metadata": {},
     "output_type": "execute_result"
    }
   ],
   "source": [
    "# 显示DF 列，多列要用两个[]\n",
    "df[['酒店','房间','路线名']].head(10)"
   ]
  },
  {
   "cell_type": "code",
   "execution_count": 41,
   "metadata": {},
   "outputs": [
    {
     "data": {
      "text/html": [
       "<div>\n",
       "<style scoped>\n",
       "    .dataframe tbody tr th:only-of-type {\n",
       "        vertical-align: middle;\n",
       "    }\n",
       "\n",
       "    .dataframe tbody tr th {\n",
       "        vertical-align: top;\n",
       "    }\n",
       "\n",
       "    .dataframe thead th {\n",
       "        text-align: right;\n",
       "    }\n",
       "</style>\n",
       "<table border=\"1\" class=\"dataframe\">\n",
       "  <thead>\n",
       "    <tr style=\"text-align: right;\">\n",
       "      <th></th>\n",
       "      <th>出发地</th>\n",
       "      <th>目的地</th>\n",
       "    </tr>\n",
       "  </thead>\n",
       "  <tbody>\n",
       "    <tr>\n",
       "      <th>3</th>\n",
       "      <td>上海</td>\n",
       "      <td>九寨沟</td>\n",
       "    </tr>\n",
       "    <tr>\n",
       "      <th>25</th>\n",
       "      <td>上海</td>\n",
       "      <td>青岛</td>\n",
       "    </tr>\n",
       "    <tr>\n",
       "      <th>45</th>\n",
       "      <td>上海</td>\n",
       "      <td>九寨沟</td>\n",
       "    </tr>\n",
       "    <tr>\n",
       "      <th>57</th>\n",
       "      <td>上海</td>\n",
       "      <td>乌鲁木齐</td>\n",
       "    </tr>\n",
       "    <tr>\n",
       "      <th>58</th>\n",
       "      <td>上海</td>\n",
       "      <td>沈阳</td>\n",
       "    </tr>\n",
       "  </tbody>\n",
       "</table>\n",
       "</div>"
      ],
      "text/plain": [
       "   出发地   目的地\n",
       "3   上海   九寨沟\n",
       "25  上海    青岛\n",
       "45  上海   九寨沟\n",
       "57  上海  乌鲁木齐\n",
       "58  上海    沈阳"
      ]
     },
     "execution_count": 41,
     "metadata": {},
     "output_type": "execute_result"
    }
   ],
   "source": [
    "# 同样显示某行某列\n",
    "df[df['出发地']=='上海'][['出发地','目的地']].head()"
   ]
  },
  {
   "cell_type": "markdown",
   "metadata": {},
   "source": [
    "# 9、分组groupby"
   ]
  },
  {
   "cell_type": "code",
   "execution_count": 40,
   "metadata": {},
   "outputs": [
    {
     "data": {
      "text/plain": [
       "出发地  目的地 \n",
       "上海   三亚      21\n",
       "     丽江      15\n",
       "     乌鲁木齐    10\n",
       "     九寨沟     15\n",
       "     北京      17\n",
       "     厦门      17\n",
       "     呼和浩特    17\n",
       "     哈尔滨     17\n",
       "     大连      19\n",
       "     太原      18\n",
       "     张家界     11\n",
       "     桂林      11\n",
       "     武汉      19\n",
       "     沈阳      20\n",
       "     神农架     19\n",
       "     西双版纳     9\n",
       "     西安      16\n",
       "     重庆      12\n",
       "     长沙      22\n",
       "     青岛      19\n",
       "     黄山      16\n",
       "Name: 出发地, dtype: int64"
      ]
     },
     "execution_count": 40,
     "metadata": {},
     "output_type": "execute_result"
    }
   ],
   "source": [
    "# df.groupby(['出发地','目的地'])['出发地'].count()\n",
    "df.loc[df.出发地=='上海',['出发地','目的地']].groupby(['出发地','目的地'])['出发地'].count()"
   ]
  },
  {
   "cell_type": "code",
   "execution_count": 26,
   "metadata": {},
   "outputs": [
    {
     "data": {
      "text/plain": [
       "2410053.0"
      ]
     },
     "execution_count": 26,
     "metadata": {},
     "output_type": "execute_result"
    }
   ],
   "source": [
    "# sum\n",
    "df.loc[df.节省.notnull(),'节省'].sum()"
   ]
  },
  {
   "cell_type": "markdown",
   "metadata": {},
   "source": [
    "# 10、排序sort\n",
    "+ ascending = False 倒序"
   ]
  },
  {
   "cell_type": "code",
   "execution_count": 25,
   "metadata": {},
   "outputs": [
    {
     "data": {
      "text/html": [
       "<div>\n",
       "<style scoped>\n",
       "    .dataframe tbody tr th:only-of-type {\n",
       "        vertical-align: middle;\n",
       "    }\n",
       "\n",
       "    .dataframe tbody tr th {\n",
       "        vertical-align: top;\n",
       "    }\n",
       "\n",
       "    .dataframe thead th {\n",
       "        text-align: right;\n",
       "    }\n",
       "</style>\n",
       "<table border=\"1\" class=\"dataframe\">\n",
       "  <thead>\n",
       "    <tr style=\"text-align: right;\">\n",
       "      <th></th>\n",
       "      <th>出发地</th>\n",
       "      <th>目的地</th>\n",
       "      <th>价格</th>\n",
       "      <th>节省</th>\n",
       "      <th>路线名</th>\n",
       "      <th>酒店</th>\n",
       "      <th>房间</th>\n",
       "      <th>去程航司</th>\n",
       "      <th>去程方式</th>\n",
       "      <th>去程时间</th>\n",
       "      <th>回程航司</th>\n",
       "      <th>回程方式</th>\n",
       "      <th>回程时间</th>\n",
       "    </tr>\n",
       "  </thead>\n",
       "  <tbody>\n",
       "    <tr>\n",
       "      <th>5021</th>\n",
       "      <td>大连</td>\n",
       "      <td>烟台</td>\n",
       "      <td>578.0</td>\n",
       "      <td>342.0</td>\n",
       "      <td>大连-烟台3天2晚 | 入住蓬莱美一天精品酒店蓬莱阁店 + 幸福航空/天津航空往...</td>\n",
       "      <td>蓬莱美一天精品酒店蓬莱阁店 高档型 3.3分/5分</td>\n",
       "      <td>标准双床房(限量特惠) 双床 不含早 1间2晚</td>\n",
       "      <td>幸福航空 JR1582</td>\n",
       "      <td>直飞</td>\n",
       "      <td>10:05-11:05</td>\n",
       "      <td>天津航空 GS6402</td>\n",
       "      <td>直飞</td>\n",
       "      <td>16:30-17:25</td>\n",
       "    </tr>\n",
       "    <tr>\n",
       "      <th>1012</th>\n",
       "      <td>大连</td>\n",
       "      <td>烟台</td>\n",
       "      <td>600.0</td>\n",
       "      <td>348.0</td>\n",
       "      <td>大连-烟台3天2晚 | 入住烟台太平洋大酒店 + 幸福航空/天津航空往返机票</td>\n",
       "      <td>烟台太平洋大酒店 3.6分/5分</td>\n",
       "      <td>B类豪华大床房-限内宾 大床 不含早 1间2晚</td>\n",
       "      <td>幸福航空 JR1582</td>\n",
       "      <td>直飞</td>\n",
       "      <td>10:05-11:05</td>\n",
       "      <td>天津航空 GS6402</td>\n",
       "      <td>直飞</td>\n",
       "      <td>16:30-17:25</td>\n",
       "    </tr>\n",
       "    <tr>\n",
       "      <th>2301</th>\n",
       "      <td>大连</td>\n",
       "      <td>烟台</td>\n",
       "      <td>602.0</td>\n",
       "      <td>338.0</td>\n",
       "      <td>大连-烟台3天2晚 | 入住莱州新世纪大酒店B座 + 幸福航空/天津航空往返机票</td>\n",
       "      <td>莱州新世纪大酒店B座 舒适型 4.3分/5分</td>\n",
       "      <td>商务大床房 大床 双早 1间2晚</td>\n",
       "      <td>幸福航空 JR1582</td>\n",
       "      <td>直飞</td>\n",
       "      <td>10:05-11:05</td>\n",
       "      <td>天津航空 GS6402</td>\n",
       "      <td>直飞</td>\n",
       "      <td>16:30-17:25</td>\n",
       "    </tr>\n",
       "    <tr>\n",
       "      <th>4015</th>\n",
       "      <td>大连</td>\n",
       "      <td>烟台</td>\n",
       "      <td>612.0</td>\n",
       "      <td>334.0</td>\n",
       "      <td>大连-烟台3天2晚 | 入住维也纳智好酒店烟台开发区泰山路店 + 幸福航空/天津...</td>\n",
       "      <td>维也纳智好酒店烟台开发区泰山路店 舒适型 4.8分/5分</td>\n",
       "      <td>高级双床房(限量售卖)... 双床 不含早 1间2晚</td>\n",
       "      <td>幸福航空 JR1582</td>\n",
       "      <td>直飞</td>\n",
       "      <td>10:05-11:05</td>\n",
       "      <td>天津航空 GS6402</td>\n",
       "      <td>直飞</td>\n",
       "      <td>16:30-17:25</td>\n",
       "    </tr>\n",
       "    <tr>\n",
       "      <th>513</th>\n",
       "      <td>大连</td>\n",
       "      <td>烟台</td>\n",
       "      <td>612.0</td>\n",
       "      <td>348.0</td>\n",
       "      <td>大连-烟台3天2晚 | 入住莱州华泽宾馆 + 幸福航空/天津航空往返机票</td>\n",
       "      <td>莱州华泽宾馆 舒适型 4.5分/5分</td>\n",
       "      <td>大床房[无早] 大床 不含早 1间2晚</td>\n",
       "      <td>幸福航空 JR1582</td>\n",
       "      <td>直飞</td>\n",
       "      <td>10:05-11:05</td>\n",
       "      <td>天津航空 GS6402</td>\n",
       "      <td>直飞</td>\n",
       "      <td>16:30-17:25</td>\n",
       "    </tr>\n",
       "  </tbody>\n",
       "</table>\n",
       "</div>"
      ],
      "text/plain": [
       "     出发地 目的地     价格     节省                                          路线名  \\\n",
       "5021  大连  烟台  578.0  342.0  大连-烟台3天2晚 | 入住蓬莱美一天精品酒店蓬莱阁店 + 幸福航空/天津航空往...   \n",
       "1012  大连  烟台  600.0  348.0       大连-烟台3天2晚 | 入住烟台太平洋大酒店 + 幸福航空/天津航空往返机票   \n",
       "2301  大连  烟台  602.0  338.0     大连-烟台3天2晚 | 入住莱州新世纪大酒店B座 + 幸福航空/天津航空往返机票   \n",
       "4015  大连  烟台  612.0  334.0  大连-烟台3天2晚 | 入住维也纳智好酒店烟台开发区泰山路店 + 幸福航空/天津...   \n",
       "513   大连  烟台  612.0  348.0         大连-烟台3天2晚 | 入住莱州华泽宾馆 + 幸福航空/天津航空往返机票   \n",
       "\n",
       "                                酒店                          房间         去程航司  \\\n",
       "5021     蓬莱美一天精品酒店蓬莱阁店 高档型 3.3分/5分     标准双床房(限量特惠) 双床 不含早 1间2晚  幸福航空 JR1582   \n",
       "1012              烟台太平洋大酒店 3.6分/5分     B类豪华大床房-限内宾 大床 不含早 1间2晚  幸福航空 JR1582   \n",
       "2301        莱州新世纪大酒店B座 舒适型 4.3分/5分            商务大床房 大床 双早 1间2晚  幸福航空 JR1582   \n",
       "4015  维也纳智好酒店烟台开发区泰山路店 舒适型 4.8分/5分  高级双床房(限量售卖)... 双床 不含早 1间2晚  幸福航空 JR1582   \n",
       "513             莱州华泽宾馆 舒适型 4.5分/5分         大床房[无早] 大床 不含早 1间2晚  幸福航空 JR1582   \n",
       "\n",
       "     去程方式         去程时间         回程航司 回程方式         回程时间  \n",
       "5021   直飞  10:05-11:05  天津航空 GS6402   直飞  16:30-17:25  \n",
       "1012   直飞  10:05-11:05  天津航空 GS6402   直飞  16:30-17:25  \n",
       "2301   直飞  10:05-11:05  天津航空 GS6402   直飞  16:30-17:25  \n",
       "4015   直飞  10:05-11:05  天津航空 GS6402   直飞  16:30-17:25  \n",
       "513    直飞  10:05-11:05  天津航空 GS6402   直飞  16:30-17:25  "
      ]
     },
     "execution_count": 25,
     "metadata": {},
     "output_type": "execute_result"
    }
   ],
   "source": [
    "df.sort_values(by=['价格'], ascending=True).head()"
   ]
  },
  {
   "cell_type": "markdown",
   "metadata": {},
   "source": [
    "# 11、在DF上赋值可增加列"
   ]
  },
  {
   "cell_type": "code",
   "execution_count": 27,
   "metadata": {},
   "outputs": [
    {
     "data": {
      "text/plain": [
       "Index(['出发地', '目的地', '价格', '节省', '路线名', '酒店', '房间', '去程航司', '去程方式', '去程时间',\n",
       "       '回程航司', '回程方式', '回程时间', '逾期天数'],\n",
       "      dtype='object')"
      ]
     },
     "execution_count": 27,
     "metadata": {},
     "output_type": "execute_result"
    }
   ],
   "source": [
    "# 增加任意名字列，如“逾期天数” 列，并赋值\n",
    "df['逾期天数'] = 3\n",
    "df.columns"
   ]
  },
  {
   "cell_type": "markdown",
   "metadata": {},
   "source": [
    "# 12、in()与notin()"
   ]
  },
  {
   "cell_type": "code",
   "execution_count": 30,
   "metadata": {},
   "outputs": [
    {
     "data": {
      "text/plain": [
       "32     334.0\n",
       "120    334.0\n",
       "138    342.0\n",
       "142    342.0\n",
       "192    334.0\n",
       "Name: 节省, dtype: float64"
      ]
     },
     "execution_count": 30,
     "metadata": {},
     "output_type": "execute_result"
    }
   ],
   "source": [
    "df.loc[df.节省.isin([342,334]),'节省'].head()"
   ]
  },
  {
   "cell_type": "markdown",
   "metadata": {},
   "source": [
    "# 13、pandas.cut使用总结"
   ]
  },
  {
   "cell_type": "code",
   "execution_count": 59,
   "metadata": {},
   "outputs": [
    {
     "data": {
      "text/plain": [
       "0    一般\n",
       "1    低价\n",
       "2    一般\n",
       "3    低价\n",
       "4    低价\n",
       "Name: 价格, dtype: category\n",
       "Categories (6, object): [免费 < 低价 < 一般 < 中价 < 高价 < 超高价]"
      ]
     },
     "execution_count": 59,
     "metadata": {},
     "output_type": "execute_result"
    }
   ],
   "source": [
    "# cut\n",
    "pd.cut(df['价格'], bins=[0, 1000, 2000, 5000, 10000, 100000, 5000000],  labels=[u\"免费\",u\"低价\",u\"一般\",u\"中价\",u\"高价\",u\"超高价\"]).head(5)"
   ]
  },
  {
   "cell_type": "code",
   "execution_count": null,
   "metadata": {},
   "outputs": [],
   "source": []
  }
 ],
 "metadata": {
  "kernelspec": {
   "display_name": "Python 3",
   "language": "python",
   "name": "python3"
  },
  "language_info": {
   "codemirror_mode": {
    "name": "ipython",
    "version": 3
   },
   "file_extension": ".py",
   "mimetype": "text/x-python",
   "name": "python",
   "nbconvert_exporter": "python",
   "pygments_lexer": "ipython3",
   "version": "3.7.0"
  }
 },
 "nbformat": 4,
 "nbformat_minor": 2
}
