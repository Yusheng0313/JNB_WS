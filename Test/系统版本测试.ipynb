{
 "cells": [
  {
   "cell_type": "code",
   "execution_count": 1,
   "metadata": {
    "scrolled": true
   },
   "outputs": [
    {
     "name": "stderr",
     "output_type": "stream",
     "text": [
      "Python 3.6.2 :: Continuum Analytics, Inc.\n"
     ]
    },
    {
     "name": "stdout",
     "output_type": "stream",
     "text": [
      "pip 20.1.1 from C:\\Users\\pc-01\\AppData\\Roaming\\Python\\Python36\\site-packages\\pip (python 3.6)\n",
      "\n"
     ]
    },
    {
     "name": "stderr",
     "output_type": "stream",
     "text": [
      "WARNING: pip is being invoked by an old script wrapper. This will fail in a future version of pip.\n",
      "Please see https://github.com/pypa/pip/issues/5599 for advice on fixing the underlying issue.\n",
      "To avoid this problem you can invoke Python with '-m pip' instead of running pip directly.\n"
     ]
    },
    {
     "name": "stdout",
     "output_type": "stream",
     "text": [
      "4.3.0\n",
      "Sklearn verion is 0.23.1\n",
      "Numpy verion is 1.18.4\n",
      "pandas verion is 1.0.3\n",
      "tf version: 2.0.0 \n",
      "use GPU True\n",
      "tf.keras: 2.2.4-tf\n",
      "matplotlib: 3.2.1\n",
      "seaborn: 0.10.1\n"
     ]
    }
   ],
   "source": [
    "!python --version\n",
    "!pip --version\n",
    "!jupyter --version\n",
    "\n",
    "import sklearn\n",
    "print(\"Sklearn verion is {}\".format(sklearn.__version__))\n",
    "import numpy\n",
    "print(\"Numpy verion is {}\".format(numpy.__version__))\n",
    "import pandas\n",
    "print(\"pandas verion is {}\".format(pandas.__version__))\n",
    "import tensorflow as tf\n",
    "version = tf.__version__\n",
    "gpu_ok = tf.test.is_gpu_available()\n",
    "print(\"tf version:\",version,\"\\nuse GPU\",gpu_ok)\n",
    "print('tf.keras:',tf.keras.__version__)\n",
    "import matplotlib as mat\n",
    "print('matplotlib:',mat.__version__)\n",
    "import seaborn as sns\n",
    "print('seaborn:',sns.__version__)"
   ]
  },
  {
   "cell_type": "code",
   "execution_count": null,
   "metadata": {
    "collapsed": true
   },
   "outputs": [],
   "source": [
    "%load_ext watermark\n",
    "%watermark -a \"Sebastian Raschka & Vahid Mirjalili\" -u -d -v -p numpy,tensorflow,matplotlib,sklearn,pip,notebook,pandas"
   ]
  },
  {
   "cell_type": "markdown",
   "metadata": {},
   "source": [
    "# GPU 和 CPU 切换"
   ]
  },
  {
   "cell_type": "code",
   "execution_count": null,
   "metadata": {
    "collapsed": true
   },
   "outputs": [],
   "source": [
    "import tensorflow as tf\n",
    "gpus = tf.config.experimental.list_physical_devices(device_type='GPU')\n",
    "#cpus = tf.config.experimental.list_physical_devices(device_type='CPU')\n",
    "#print(gpus, cpus)\n"
   ]
  },
  {
   "cell_type": "code",
   "execution_count": null,
   "metadata": {
    "collapsed": true
   },
   "outputs": [],
   "source": [
    "tf.config.experimental.set_visible_devices(devices=gpus[0:2], device_type='GPU')"
   ]
  },
  {
   "cell_type": "code",
   "execution_count": null,
   "metadata": {
    "collapsed": true
   },
   "outputs": [],
   "source": [
    "tf.debugging.set_log_device_placement(True)\n",
    "\n",
    "# Create some tensors\n",
    "a = tf.constant([[1.0, 2.0, 3.0], [4.0, 5.0, 6.0]])\n",
    "b = tf.constant([[1.0, 2.0], [3.0, 4.0], [5.0, 6.0]])\n",
    "c = tf.matmul(a, b)\n",
    "\n",
    "print(c)"
   ]
  },
  {
   "cell_type": "code",
   "execution_count": null,
   "metadata": {
    "collapsed": true
   },
   "outputs": [],
   "source": [
    "for gpu in gpus:\n",
    "    tf.config.experimental.set_memory_growth(gpu, True)"
   ]
  },
  {
   "cell_type": "code",
   "execution_count": null,
   "metadata": {
    "collapsed": true
   },
   "outputs": [],
   "source": []
  }
 ],
 "metadata": {
  "kernelspec": {
   "display_name": "Python 3",
   "language": "python",
   "name": "python3"
  },
  "language_info": {
   "codemirror_mode": {
    "name": "ipython",
    "version": 3
   },
   "file_extension": ".py",
   "mimetype": "text/x-python",
   "name": "python",
   "nbconvert_exporter": "python",
   "pygments_lexer": "ipython3",
   "version": "3.6.2"
  }
 },
 "nbformat": 4,
 "nbformat_minor": 2
}
