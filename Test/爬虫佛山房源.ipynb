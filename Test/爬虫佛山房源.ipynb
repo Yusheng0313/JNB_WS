{
 "cells": [
  {
   "cell_type": "code",
   "execution_count": 1,
   "metadata": {
    "scrolled": true
   },
   "outputs": [
    {
     "name": "stdout",
     "output_type": "stream",
     "text": [
      "💚禅城区: 二手房源共计「9067」套\n"
     ]
    },
    {
     "name": "stderr",
     "output_type": "stream",
     "text": [
      "禅城区: 100%|████████████████████████████████████████████████████████████████████████| 100/100 [02:53<00:00,  1.74s/it]\n"
     ]
    },
    {
     "name": "stdout",
     "output_type": "stream",
     "text": [
      "💚南海区: 二手房源共计「19898」套\n"
     ]
    },
    {
     "name": "stderr",
     "output_type": "stream",
     "text": [
      "南海区: 100%|████████████████████████████████████████████████████████████████████████| 100/100 [02:58<00:00,  1.78s/it]\n"
     ]
    },
    {
     "name": "stdout",
     "output_type": "stream",
     "text": [
      "💚顺德区: 二手房源共计「12625」套\n"
     ]
    },
    {
     "name": "stderr",
     "output_type": "stream",
     "text": [
      "顺德区: 100%|████████████████████████████████████████████████████████████████████████| 100/100 [03:22<00:00,  2.03s/it]\n"
     ]
    },
    {
     "name": "stdout",
     "output_type": "stream",
     "text": [
      "💚三水区: 二手房源共计「4750」套\n"
     ]
    },
    {
     "name": "stderr",
     "output_type": "stream",
     "text": [
      "三水区: 100%|████████████████████████████████████████████████████████████████████████| 100/100 [03:42<00:00,  2.23s/it]\n"
     ]
    },
    {
     "name": "stdout",
     "output_type": "stream",
     "text": [
      "💚高明区: 二手房源共计「2004」套\n"
     ]
    },
    {
     "name": "stderr",
     "output_type": "stream",
     "text": [
      "高明区: 100%|██████████████████████████████████████████████████████████████████████████| 67/67 [02:36<00:00,  2.34s/it]"
     ]
    },
    {
     "name": "stdout",
     "output_type": "stream",
     "text": [
      "  area                       title community position    tax  total_price  \\\n",
      "0  禅城区     此房源处于电梯高层，精装修实用三房，通风采光好  雅居乐·曼克顿山       魁奇   None        215.0   \n",
      "1  禅城区  雅居乐曼克顿山高层毛坯大四房 双地铁 含两个产权车位  雅居乐·曼克顿山       魁奇   None        500.0   \n",
      "2  禅城区    祖庙街道普君新城步行街，普君市场，普君北路地铁。      普君新城       祖庙   None        115.0   \n",
      "3  禅城区       时代云图 高层南向四房 方正实用带入户花园      时代云图       朝安  房本满五年        298.0   \n",
      "4  禅城区   澜石地铁泷景，全新未住契税满两年，中高层望小区花园      泷景五期       澜石   None        180.0   \n",
      "\n",
      "   unit_price hourseType  hourseSize direction fitment  \n",
      "0     23964.0       3室2厅       89.72        西南      精装  \n",
      "1     24631.0       5室2厅      203.00       南 北      毛坯  \n",
      "2     18730.0       2室1厅       61.40       南 北      精装  \n",
      "3     20819.0       4室2厅      143.14        西南      精装  \n",
      "4     19517.0       3室2厅       92.23         北      精装  \n"
     ]
    },
    {
     "name": "stderr",
     "output_type": "stream",
     "text": [
      "\n"
     ]
    }
   ],
   "source": [
    "# -*- coding: utf-8 -*-\n",
    "\"\"\"\n",
    "Created on Sun Apr  05 20:20:02 2020\n",
    "爬虫脚本：佛山链家房源信息\n",
    "@author: yihao.he\n",
    "\"\"\"\n",
    "from bs4 import BeautifulSoup  \n",
    "import pandas as pd\n",
    "from tqdm import tqdm\n",
    "import math\n",
    "import requests  \n",
    "import lxml\n",
    "import re\n",
    "import time\n",
    "\n",
    "\n",
    "\n",
    "\n",
    "area_dic = {'禅城区':'chancheng',\n",
    "            '南海区':'nanhai',\n",
    "            '顺德区':'shunde',\n",
    "            '三水区':'sanshui1',\n",
    "            '高明区':'gaoming1'}\n",
    "\n",
    "\n",
    "# 加个header以示尊敬\n",
    "headers = {'User-Agent': 'Mozilla/5.0 (Windows NT 10.0; Win64; x64) AppleWebKit/537.36 (KHTML, like Gecko) Chrome/65.0.3325.146 Safari/537.36',\n",
    "           'Referer': 'https://fs.lianjia.com/ershoufang/'}\n",
    "\n",
    "# 新建一个会话\n",
    "sess = requests.session()\n",
    "sess.get('https://fs.lianjia.com/ershoufang/', headers=headers)\n",
    "\n",
    "# url示例：https://fs.lianjia.com/ershoufang/luohuqu/pg2/\n",
    "url = 'https://fs.lianjia.com/ershoufang/{}/pg{}/'\n",
    "\n",
    "\n",
    "\n",
    "\n",
    "# 当正则表达式匹配失败时，返回默认值（errif）\n",
    "def re_match(re_pattern, string, errif=None):\n",
    "    try:\n",
    "        return re.findall(re_pattern, string)[0].strip()\n",
    "    except IndexError:\n",
    "        return errif\n",
    "\n",
    "\n",
    "\n",
    "# 新建一个DataFrame存储信息\n",
    "data = pd.DataFrame()\n",
    "\n",
    "for key_, value_ in area_dic.items():\n",
    "    # 获取该行政区下房源记录数\n",
    "    start_url = 'https://fs.lianjia.com/ershoufang/{}/'.format(value_)\n",
    "    html = sess.get(start_url).text\n",
    "    house_num = re.findall('共找到<span> (.*?) </span>套.*二手房', html)[0].strip()\n",
    "    print('💚{}: 二手房源共计「{}」套'.format(key_, house_num))\n",
    "    time.sleep(1)\n",
    "    # 页面限制🚫 每个行政区只能获取最多100页共计3000条房源信息\n",
    "    total_page = int(math.ceil(min(3000, int(house_num)) / 30.0))\n",
    "    for i in tqdm(range(total_page), desc=key_):\n",
    "        html = sess.get(url.format(value_, i+1)).text\n",
    "        soup = BeautifulSoup(html, 'lxml')\n",
    "        info_collect = soup.find_all(class_=\"info clear\")\n",
    "        \n",
    "        for info in info_collect:\n",
    "            info_dic = {}\n",
    "            # 行政区\n",
    "            info_dic['area'] = key_\n",
    "            # 房源的标题\n",
    "            info_dic['title'] = re_match('target=\"_blank\">(.*?)</a><!--', str(info))\n",
    "            # 小区名\n",
    "            info_dic['community'] = re_match('xiaoqu.*?target=\"_blank\">(.*?)</a>', str(info))\n",
    "            # 位置\n",
    "            info_dic['position'] = re_match('<a href.*?target=\"_blank\">(.*?)</a>.*?class=\"address\">', str(info))\n",
    "            # 税相关，如房本满5年\n",
    "            info_dic['tax'] = re_match('class=\"taxfree\">(.*?)</span>', str(info))\n",
    "            # 总价\n",
    "            info_dic['total_price'] = float(re_match('class=\"totalPrice\"><span>(.*?)</span>万', str(info)))\n",
    "            # 单价\n",
    "            info_dic['unit_price'] = float(re_match('data-price=\"(.*?)\"', str(info)))\n",
    "            \n",
    "            # 匹配房源标签信息，通过|切割\n",
    "            # 包括面积，朝向，装修等信息\n",
    "            icons = re.findall('class=\"houseIcon\"></span>(.*?)</div>', str(info))[0].strip().split('|')\n",
    "            info_dic['hourseType'] = icons[0].strip()\n",
    "            info_dic['hourseSize'] = float(icons[1].replace('平米', ''))\n",
    "            info_dic['direction'] = icons[2].strip()\n",
    "            info_dic['fitment'] = icons[3].strip()\n",
    "            \n",
    "            # 存入DataFrame\n",
    "            if data.empty:\n",
    "                data = pd.DataFrame(info_dic,index=[0])\n",
    "            else:\n",
    "                data = data.append(info_dic,ignore_index=True)\n",
    "\n",
    "\n",
    "\n",
    "\n",
    "# 去掉一条面积10000+平米的房源记录\n",
    "data = data[data['hourseSize'] < 10000]\n",
    "print(data.head())\n",
    "\n"
   ]
  },
  {
   "cell_type": "code",
   "execution_count": 2,
   "metadata": {
    "collapsed": true
   },
   "outputs": [],
   "source": [
    "#保存到 CSV\n",
    "data.to_csv('.\\\\JN_DataWarehouse\\\\foshan_lianjiafangyuan\\\\lianjia-foshanfangyuan.csv')"
   ]
  },
  {
   "cell_type": "code",
   "execution_count": null,
   "metadata": {
    "collapsed": true
   },
   "outputs": [],
   "source": []
  }
 ],
 "metadata": {
  "kernelspec": {
   "display_name": "Python 3",
   "language": "python",
   "name": "python3"
  },
  "language_info": {
   "codemirror_mode": {
    "name": "ipython",
    "version": 3
   },
   "file_extension": ".py",
   "mimetype": "text/x-python",
   "name": "python",
   "nbconvert_exporter": "python",
   "pygments_lexer": "ipython3",
   "version": "3.6.2"
  }
 },
 "nbformat": 4,
 "nbformat_minor": 2
}
