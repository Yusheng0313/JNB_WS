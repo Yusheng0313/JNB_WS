{
 "cells": [
  {
   "cell_type": "code",
   "execution_count": 1,
   "metadata": {},
   "outputs": [
    {
     "ename": "SyntaxError",
     "evalue": "invalid character in identifier (<ipython-input-1-e54c90bfba3d>, line 2)",
     "output_type": "error",
     "traceback": [
      "\u001b[1;36m  File \u001b[1;32m\"<ipython-input-1-e54c90bfba3d>\"\u001b[1;36m, line \u001b[1;32m2\u001b[0m\n\u001b[1;33m    2\tfrom pandas import Series,DataFrame,concat\u001b[0m\n\u001b[1;37m     \t                        ^\u001b[0m\n\u001b[1;31mSyntaxError\u001b[0m\u001b[1;31m:\u001b[0m invalid character in identifier\n"
     ]
    }
   ],
   "source": [
    "#coding=utf-8\n",
    "from pandas import Series,DataFrame,concat\n",
    "\n",
    "df1 = DataFrame({'city': ['Chicago', 'San Francisco', 'New York City'], 'rank': range(1, 4)})\n",
    "df2 = DataFrame({'city': ['Chicago', 'Boston', 'Los Angeles'], 'rank': [1, 4, 5]})\n",
    "print '按轴进行内连接\\r\\n',concat([df1,df2],join=\"inner\",axis=1)\n",
    "print '进行外连接并指定keys(行索引)\\r\\n',concat([df1,df2],keys=['a','b']) #这里有重复的数据\n",
    "print '去重后\\r\\n',concat([df1,df2],ignore_index=True).drop_duplicates()\n"
   ]
  },
  {
   "cell_type": "code",
   "execution_count": null,
   "metadata": {},
   "outputs": [],
   "source": []
  }
 ],
 "metadata": {
  "kernelspec": {
   "display_name": "Python 3",
   "language": "python",
   "name": "python3"
  },
  "language_info": {
   "codemirror_mode": {
    "name": "ipython",
    "version": 3
   },
   "file_extension": ".py",
   "mimetype": "text/x-python",
   "name": "python",
   "nbconvert_exporter": "python",
   "pygments_lexer": "ipython3",
   "version": "3.7.0"
  }
 },
 "nbformat": 4,
 "nbformat_minor": 2
}
