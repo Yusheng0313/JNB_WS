{
 "cells": [
  {
   "cell_type": "code",
   "execution_count": 1,
   "metadata": {},
   "outputs": [
    {
     "ename": "ModuleNotFoundError",
     "evalue": "No module named 'selenium'",
     "output_type": "error",
     "traceback": [
      "\u001b[0;31m---------------------------------------------------------------------------\u001b[0m",
      "\u001b[0;31mModuleNotFoundError\u001b[0m                       Traceback (most recent call last)",
      "\u001b[0;32m<ipython-input-1-21a88af18f69>\u001b[0m in \u001b[0;36m<module>\u001b[0;34m\u001b[0m\n\u001b[1;32m      1\u001b[0m \u001b[0;31m# coding: utf-8\u001b[0m\u001b[0;34m\u001b[0m\u001b[0;34m\u001b[0m\u001b[0m\n\u001b[1;32m      2\u001b[0m \u001b[0;34m\u001b[0m\u001b[0m\n\u001b[0;32m----> 3\u001b[0;31m \u001b[0;32mfrom\u001b[0m \u001b[0mselenium\u001b[0m\u001b[0;34m.\u001b[0m\u001b[0mwebdriver\u001b[0m\u001b[0;34m.\u001b[0m\u001b[0msupport\u001b[0m\u001b[0;34m.\u001b[0m\u001b[0mui\u001b[0m \u001b[0;32mimport\u001b[0m \u001b[0mWebDriverWait\u001b[0m\u001b[0;34m\u001b[0m\u001b[0m\n\u001b[0m\u001b[1;32m      4\u001b[0m \u001b[0;32mfrom\u001b[0m \u001b[0mselenium\u001b[0m \u001b[0;32mimport\u001b[0m \u001b[0mwebdriver\u001b[0m\u001b[0;34m\u001b[0m\u001b[0m\n\u001b[1;32m      5\u001b[0m \u001b[0;32mfrom\u001b[0m \u001b[0mbs4\u001b[0m \u001b[0;32mimport\u001b[0m \u001b[0mBeautifulSoup\u001b[0m\u001b[0;34m\u001b[0m\u001b[0m\n",
      "\u001b[0;31mModuleNotFoundError\u001b[0m: No module named 'selenium'"
     ]
    }
   ],
   "source": [
    "# coding: utf-8\n",
    "\n",
    "from selenium.webdriver.support.ui import WebDriverWait\n",
    "from selenium import webdriver\n",
    "from bs4 import BeautifulSoup\n",
    "from threading import Thread,Lock\n",
    "import os\n",
    "import csv\n",
    "\n",
    "# 下面是利用 selenium 抓取html页面的代码\n",
    "\n",
    "# 初始化函数\n",
    "def initSpider():\n",
    "    driver = webdriver.PhantomJS(executable_path=r\"你phantomjs可执行文件的绝对路径\")\n",
    "    driver.get(\"http://fund.eastmoney.com/f10/jjjz_519961.html\") # 要抓取的网页地址\n",
    "\n",
    "    # 找到\"下一页\"按钮,就可以得到它前面的一个label,就是总页数\n",
    "    getPage_text = driver.find_element_by_id(\"pagebar\").find_element_by_xpath(\n",
    "        \"div[@class='pagebtns']/label[text()='下一页']/preceding-sibling::label[1]\").get_attribute(\"innerHTML\")\n",
    "    # 得到总共有多少页\n",
    "    total_page = int(\"\".join(filter(str.isdigit, getPage_text)))\n",
    "\n",
    "    # 返回\n",
    "    return (driver,total_page)\n",
    "\n",
    "# 获取html内容\n",
    "def getData(myrange,driver,lock):\n",
    "    for x in myrange:\n",
    "        # 锁住\n",
    "        lock.acquire()\n",
    "\n",
    "        tonum = driver.find_element_by_id(\"pagebar\").find_element_by_xpath(\n",
    "            \"div[@class='pagebtns']/input[@class='pnum']\")  # 得到 页码文本框\n",
    "        jumpbtn = driver.find_element_by_id(\"pagebar\").find_element_by_xpath(\n",
    "            \"div[@class='pagebtns']/input[@class='pgo']\")  # 跳转到按钮\n",
    "\n",
    "        tonum.clear()  # 第x页 输入框\n",
    "        tonum.send_keys(str(x))  # 去第x页\n",
    "        jumpbtn.click()  # 点击按钮\n",
    "\n",
    "        # 抓取\n",
    "        WebDriverWait(driver, 20).until(lambda driver: driver.find_element_by_id(\"pagebar\").find_element_by_xpath(\"div[@class='pagebtns']/label[@value={0} and @class='cur']\".format(x)) != None)\n",
    "\n",
    "        # 保存到项目中\n",
    "        with open(\"../JN_DataWarehouse/fund/{0}.txt\".format(x), 'wb') as f:\n",
    "            f.write(driver.find_element_by_id(\"jztable\").get_attribute(\"innerHTML\").encode('utf-8'))\n",
    "            f.close()\n",
    "\n",
    "        # 解锁\n",
    "        lock.release()\n",
    "\n",
    "\n",
    "\n",
    "# 开始抓取函数\n",
    "def beginSpider():\n",
    "    # 初始化爬虫\n",
    "    (driver, total_page) = initSpider()\n",
    "    # 创建锁\n",
    "    lock = Lock()\n",
    "\n",
    "    r = range(1, int(total_page)+1)\n",
    "    step = 10\n",
    "    range_list = [r[x:x + step] for x in  range(0, len(r), step)]   #把页码分段\n",
    "    thread_list = []\n",
    "    for r in  range_list:\n",
    "        t = Thread(target=getData, args=(r,driver,lock))\n",
    "        thread_list.append(t)\n",
    "        t.start()\n",
    "    for t in thread_list:\n",
    "        t.join() # 这一步是需要的,等待线程全部执行完成\n",
    "\n",
    "    print(\"抓取完成\")\n",
    "# #################上面代码就完成了 抓取远程网站html内容并保存到项目中的 过程"
   ]
  },
  {
   "cell_type": "code",
   "execution_count": null,
   "metadata": {},
   "outputs": [],
   "source": []
  }
 ],
 "metadata": {
  "kernelspec": {
   "display_name": "Python 3",
   "language": "python",
   "name": "python3"
  },
  "language_info": {
   "codemirror_mode": {
    "name": "ipython",
    "version": 3
   },
   "file_extension": ".py",
   "mimetype": "text/x-python",
   "name": "python",
   "nbconvert_exporter": "python",
   "pygments_lexer": "ipython3",
   "version": "3.6.5"
  }
 },
 "nbformat": 4,
 "nbformat_minor": 4
}
